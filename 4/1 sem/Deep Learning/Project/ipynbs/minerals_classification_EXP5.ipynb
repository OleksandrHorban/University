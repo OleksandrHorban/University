{
  "nbformat": 4,
  "nbformat_minor": 0,
  "metadata": {
    "colab": {
      "provenance": [],
      "gpuType": "T4"
    },
    "kernelspec": {
      "name": "python3",
      "display_name": "Python 3"
    },
    "language_info": {
      "name": "python"
    },
    "accelerator": "GPU"
  },
  "cells": [
    {
      "cell_type": "markdown",
      "source": [
        "#Класифікація мінералів за допомогою Inception"
      ],
      "metadata": {
        "id": "atwMwRPpXXZq"
      }
    },
    {
      "cell_type": "code",
      "source": [
        "import os\n",
        "import shutil\n",
        "import random\n",
        "import numpy as np\n",
        "from tensorflow.keras.regularizers import l2\n",
        "from tensorflow.keras import layers, Model\n",
        "from tensorflow.keras.optimizers import Adam\n",
        "from tensorflow.keras.preprocessing.image import ImageDataGenerator\n",
        "from tensorflow.keras.utils import load_img, img_to_array\n",
        "from tensorflow.keras.optimizers import AdamW\n",
        "import matplotlib.pyplot as plt\n",
        "from google.colab import files\n",
        "from tensorflow.keras.applications import InceptionV3\n",
        "from PIL import Image, ImageFile\n",
        "ImageFile.LOAD_TRUNCATED_IMAGES = True"
      ],
      "metadata": {
        "id": "8-FcyHeFkIb1"
      },
      "execution_count": 1,
      "outputs": []
    },
    {
      "cell_type": "code",
      "execution_count": 2,
      "metadata": {
        "id": "X7sP3tPVW5gX"
      },
      "outputs": [],
      "source": [
        "import zipfile\n",
        "\n",
        "# Розархівування набору даних\n",
        "local_zip = './minerals.zip'  # Назва вашого архіву\n",
        "zip_ref = zipfile.ZipFile(local_zip, 'r')\n",
        "zip_ref.extractall('./base_minerals')  # Шлях для розархівованих даних\n",
        "zip_ref.close()\n"
      ]
    },
    {
      "cell_type": "code",
      "source": [
        "import os\n",
        "import shutil\n",
        "import random\n",
        "\n",
        "# Шляхи до вихідного і цільового набору даних\n",
        "original_dataset_dir = './base_minerals/minerals'\n",
        "base_dir = 'minerals_gen'\n",
        "\n",
        "# Створення папок для train, validation та test\n",
        "os.makedirs(base_dir, exist_ok=True)\n",
        "for split in ['train', 'validation', 'test']:\n",
        "    split_dir = os.path.join(base_dir, split)\n",
        "    os.makedirs(split_dir, exist_ok=True)\n",
        "    for class_name in os.listdir(original_dataset_dir):\n",
        "        os.makedirs(os.path.join(split_dir, class_name), exist_ok=True)\n",
        "\n",
        "# Функція для розподілу файлів по вибірках\n",
        "def split_data(class_dir, train_dir, val_dir, test_dir):\n",
        "    files = os.listdir(class_dir)\n",
        "\n",
        "    train_split = int(len(files) * 0.8)\n",
        "    val_split = int(len(files) * 0.9)\n",
        "\n",
        "    train_files = files[:train_split]\n",
        "    val_files = files[train_split:val_split]\n",
        "    test_files = files[val_split:]\n",
        "\n",
        "    for file in train_files:\n",
        "        shutil.copy(os.path.join(class_dir, file), train_dir)\n",
        "    for file in val_files:\n",
        "        shutil.copy(os.path.join(class_dir, file), val_dir)\n",
        "    for file in test_files:\n",
        "        shutil.copy(os.path.join(class_dir, file), test_dir)\n",
        "\n",
        "# Розподіл файлів для кожного класу\n",
        "for class_name in os.listdir(original_dataset_dir):\n",
        "    class_dir = os.path.join(original_dataset_dir, class_name)\n",
        "    if os.path.isdir(class_dir):\n",
        "        split_data(\n",
        "            class_dir,\n",
        "            os.path.join(base_dir, 'train', class_name),\n",
        "            os.path.join(base_dir, 'validation', class_name),\n",
        "            os.path.join(base_dir, 'test', class_name)\n",
        "        )\n",
        "\n",
        "print(\"Файли успішно розподілені на вибірки!\")"
      ],
      "metadata": {
        "colab": {
          "base_uri": "https://localhost:8080/"
        },
        "id": "JkjNbWZEXxdO",
        "outputId": "635179e8-72ef-42c5-e9d0-b50140965d79"
      },
      "execution_count": 3,
      "outputs": [
        {
          "output_type": "stream",
          "name": "stdout",
          "text": [
            "Файли успішно розподілені на вибірки!\n"
          ]
        }
      ]
    },
    {
      "cell_type": "code",
      "source": [
        "#Підготовка генераторів даних\n",
        "train_dir = os.path.join(base_dir, 'train')\n",
        "validation_dir = os.path.join(base_dir, 'validation')\n",
        "test_dir = os.path.join(base_dir, 'test')\n",
        "\n",
        "train_datagen = ImageDataGenerator(rescale=1.0/255, rotation_range=45, width_shift_range=0.3,\n",
        "                                   height_shift_range=0.3, shear_range=0.3, zoom_range=0.3,\n",
        "                                   horizontal_flip=True, fill_mode='nearest')\n",
        "\n",
        "datagen = ImageDataGenerator(rescale=1.0/255)\n",
        "\n",
        "img_width, img_height = 299, 299\n",
        "\n",
        "train_generator = train_datagen.flow_from_directory(\n",
        "    train_dir,\n",
        "    target_size=(img_width, img_height),\n",
        "    batch_size=16,\n",
        "    class_mode='categorical'\n",
        ")\n",
        "\n",
        "validation_generator = datagen.flow_from_directory(\n",
        "    validation_dir,\n",
        "    target_size=(img_width, img_height),\n",
        "    batch_size=16,\n",
        "    class_mode='categorical'\n",
        ")\n",
        "\n",
        "test_generator = datagen.flow_from_directory(\n",
        "    test_dir,\n",
        "    target_size=(img_width, img_height),\n",
        "    batch_size=16,\n",
        "    class_mode='categorical'\n",
        ")"
      ],
      "metadata": {
        "colab": {
          "base_uri": "https://localhost:8080/"
        },
        "id": "05O4ZKqIPA5P",
        "outputId": "8b0e856e-4445-458b-943d-7285c38f10b3"
      },
      "execution_count": 4,
      "outputs": [
        {
          "output_type": "stream",
          "name": "stdout",
          "text": [
            "Found 758 images belonging to 7 classes.\n",
            "Found 95 images belonging to 7 classes.\n",
            "Found 99 images belonging to 7 classes.\n"
          ]
        }
      ]
    },
    {
      "cell_type": "code",
      "source": [
        "# Визначаємо кількість класів\n",
        "class_names = ['biotite', 'bornite', 'chrysocolla', 'malachite', 'muscovite',\n",
        "               'pyrite', 'quartz']\n",
        "classes_num = len(class_names)\n",
        "\n",
        "# Завантаження базової моделі InceptionV3\n",
        "conv_base = InceptionV3(weights='imagenet', include_top=False, input_shape=(img_width, img_height, 3))\n",
        "\n",
        "# Розморожування базової частини моделі\n",
        "conv_base.trainable = True\n",
        "\n",
        "# Заморожуємо частину базових шарів (наприклад, перші 200 шарів)\n",
        "for layer in conv_base.layers[:200]:\n",
        "    layer.trainable = False\n",
        "\n",
        "# Побудова моделі\n",
        "x = layers.GlobalAveragePooling2D()(conv_base.output)\n",
        "x = layers.Dense(1024, activation='relu')(x)  # Додатковий повнозв'язний шар\n",
        "x = layers.Dropout(0.3)(x)\n",
        "x = layers.Dense(512, activation='relu')(x)\n",
        "x = layers.Dense(classes_num, activation='softmax')(x)\n",
        "\n",
        "model = Model(inputs=conv_base.input, outputs=x)\n",
        "\n",
        "# Компіляція моделі з новими налаштуваннями\n",
        "model.compile(\n",
        "    loss='categorical_crossentropy',\n",
        "    optimizer = AdamW(learning_rate=1e-3, weight_decay=1e-4),\n",
        "    metrics=['accuracy']\n",
        ")"
      ],
      "metadata": {
        "id": "5ORJgRKsZe2d",
        "colab": {
          "base_uri": "https://localhost:8080/"
        },
        "outputId": "9015b00a-b848-4ab4-a4cb-2277a7046bae"
      },
      "execution_count": 5,
      "outputs": [
        {
          "output_type": "stream",
          "name": "stdout",
          "text": [
            "Downloading data from https://storage.googleapis.com/tensorflow/keras-applications/inception_v3/inception_v3_weights_tf_dim_ordering_tf_kernels_notop.h5\n",
            "\u001b[1m87910968/87910968\u001b[0m \u001b[32m━━━━━━━━━━━━━━━━━━━━\u001b[0m\u001b[37m\u001b[0m \u001b[1m1s\u001b[0m 0us/step\n"
          ]
        }
      ]
    },
    {
      "cell_type": "code",
      "source": [
        "# Навчання моделі з частково розмороженою базовою частиною\n",
        "from tensorflow.keras.callbacks import EarlyStopping\n",
        "\n",
        "early_stopping = EarlyStopping(\n",
        "    monitor='val_accuracy',\n",
        "    patience=7,\n",
        "    restore_best_weights=True\n",
        ")\n",
        "\n",
        "history = model.fit(\n",
        "    train_generator,\n",
        "    epochs=30,\n",
        "    validation_data=validation_generator,\n",
        "    callbacks=[early_stopping]\n",
        ")\n",
        "\n",
        "model.save('minerals_classification_EXP5.h5')"
      ],
      "metadata": {
        "colab": {
          "base_uri": "https://localhost:8080/"
        },
        "id": "JcYER0Nrb0Yb",
        "outputId": "3dcca178-9d2a-4e49-9470-1dc02d6b527c"
      },
      "execution_count": 6,
      "outputs": [
        {
          "output_type": "stream",
          "name": "stdout",
          "text": [
            "Epoch 1/30\n"
          ]
        },
        {
          "output_type": "stream",
          "name": "stderr",
          "text": [
            "/usr/local/lib/python3.10/dist-packages/keras/src/trainers/data_adapters/py_dataset_adapter.py:122: UserWarning: Your `PyDataset` class should call `super().__init__(**kwargs)` in its constructor. `**kwargs` can include `workers`, `use_multiprocessing`, `max_queue_size`. Do not pass these arguments to `fit()`, as they will be ignored.\n",
            "  self._warn_if_super_not_called()\n"
          ]
        },
        {
          "output_type": "stream",
          "name": "stdout",
          "text": [
            "\u001b[1m48/48\u001b[0m \u001b[32m━━━━━━━━━━━━━━━━━━━━\u001b[0m\u001b[37m\u001b[0m \u001b[1m111s\u001b[0m 1s/step - accuracy: 0.4008 - loss: 1.7356 - val_accuracy: 0.3895 - val_loss: 13.3233\n",
            "Epoch 2/30\n",
            "\u001b[1m48/48\u001b[0m \u001b[32m━━━━━━━━━━━━━━━━━━━━\u001b[0m\u001b[37m\u001b[0m \u001b[1m75s\u001b[0m 459ms/step - accuracy: 0.6534 - loss: 0.9100 - val_accuracy: 0.5789 - val_loss: 4.0188\n",
            "Epoch 3/30\n",
            "\u001b[1m48/48\u001b[0m \u001b[32m━━━━━━━━━━━━━━━━━━━━\u001b[0m\u001b[37m\u001b[0m \u001b[1m40s\u001b[0m 461ms/step - accuracy: 0.8101 - loss: 0.6210 - val_accuracy: 0.3053 - val_loss: 25.0247\n",
            "Epoch 4/30\n",
            "\u001b[1m48/48\u001b[0m \u001b[32m━━━━━━━━━━━━━━━━━━━━\u001b[0m\u001b[37m\u001b[0m \u001b[1m26s\u001b[0m 475ms/step - accuracy: 0.7815 - loss: 0.6216 - val_accuracy: 0.6000 - val_loss: 3.6872\n",
            "Epoch 5/30\n",
            "\u001b[1m48/48\u001b[0m \u001b[32m━━━━━━━━━━━━━━━━━━━━\u001b[0m\u001b[37m\u001b[0m \u001b[1m25s\u001b[0m 475ms/step - accuracy: 0.7737 - loss: 0.7360 - val_accuracy: 0.7789 - val_loss: 0.6525\n",
            "Epoch 6/30\n",
            "\u001b[1m48/48\u001b[0m \u001b[32m━━━━━━━━━━━━━━━━━━━━\u001b[0m\u001b[37m\u001b[0m \u001b[1m25s\u001b[0m 474ms/step - accuracy: 0.7991 - loss: 0.6291 - val_accuracy: 0.8105 - val_loss: 0.9311\n",
            "Epoch 7/30\n",
            "\u001b[1m48/48\u001b[0m \u001b[32m━━━━━━━━━━━━━━━━━━━━\u001b[0m\u001b[37m\u001b[0m \u001b[1m26s\u001b[0m 442ms/step - accuracy: 0.8728 - loss: 0.3946 - val_accuracy: 0.8000 - val_loss: 0.9587\n",
            "Epoch 8/30\n",
            "\u001b[1m48/48\u001b[0m \u001b[32m━━━━━━━━━━━━━━━━━━━━\u001b[0m\u001b[37m\u001b[0m \u001b[1m40s\u001b[0m 470ms/step - accuracy: 0.8648 - loss: 0.4187 - val_accuracy: 0.8421 - val_loss: 0.4410\n",
            "Epoch 9/30\n",
            "\u001b[1m48/48\u001b[0m \u001b[32m━━━━━━━━━━━━━━━━━━━━\u001b[0m\u001b[37m\u001b[0m \u001b[1m41s\u001b[0m 463ms/step - accuracy: 0.8772 - loss: 0.3491 - val_accuracy: 0.8211 - val_loss: 0.4997\n",
            "Epoch 10/30\n",
            "\u001b[1m48/48\u001b[0m \u001b[32m━━━━━━━━━━━━━━━━━━━━\u001b[0m\u001b[37m\u001b[0m \u001b[1m41s\u001b[0m 437ms/step - accuracy: 0.9252 - loss: 0.2365 - val_accuracy: 0.8105 - val_loss: 0.8974\n",
            "Epoch 11/30\n",
            "\u001b[1m48/48\u001b[0m \u001b[32m━━━━━━━━━━━━━━━━━━━━\u001b[0m\u001b[37m\u001b[0m \u001b[1m41s\u001b[0m 460ms/step - accuracy: 0.8943 - loss: 0.2920 - val_accuracy: 0.8526 - val_loss: 0.4442\n",
            "Epoch 12/30\n",
            "\u001b[1m48/48\u001b[0m \u001b[32m━━━━━━━━━━━━━━━━━━━━\u001b[0m\u001b[37m\u001b[0m \u001b[1m42s\u001b[0m 469ms/step - accuracy: 0.9054 - loss: 0.2688 - val_accuracy: 0.8737 - val_loss: 0.3393\n",
            "Epoch 13/30\n",
            "\u001b[1m48/48\u001b[0m \u001b[32m━━━━━━━━━━━━━━━━━━━━\u001b[0m\u001b[37m\u001b[0m \u001b[1m41s\u001b[0m 451ms/step - accuracy: 0.9274 - loss: 0.2442 - val_accuracy: 0.7684 - val_loss: 0.8745\n",
            "Epoch 14/30\n",
            "\u001b[1m48/48\u001b[0m \u001b[32m━━━━━━━━━━━━━━━━━━━━\u001b[0m\u001b[37m\u001b[0m \u001b[1m27s\u001b[0m 466ms/step - accuracy: 0.9011 - loss: 0.2835 - val_accuracy: 0.8526 - val_loss: 0.6141\n",
            "Epoch 15/30\n",
            "\u001b[1m48/48\u001b[0m \u001b[32m━━━━━━━━━━━━━━━━━━━━\u001b[0m\u001b[37m\u001b[0m \u001b[1m25s\u001b[0m 445ms/step - accuracy: 0.9165 - loss: 0.2303 - val_accuracy: 0.8316 - val_loss: 0.5594\n",
            "Epoch 16/30\n",
            "\u001b[1m48/48\u001b[0m \u001b[32m━━━━━━━━━━━━━━━━━━━━\u001b[0m\u001b[37m\u001b[0m \u001b[1m25s\u001b[0m 436ms/step - accuracy: 0.9450 - loss: 0.1840 - val_accuracy: 0.7474 - val_loss: 1.0149\n",
            "Epoch 17/30\n",
            "\u001b[1m48/48\u001b[0m \u001b[32m━━━━━━━━━━━━━━━━━━━━\u001b[0m\u001b[37m\u001b[0m \u001b[1m40s\u001b[0m 462ms/step - accuracy: 0.9208 - loss: 0.2549 - val_accuracy: 0.8211 - val_loss: 0.7057\n",
            "Epoch 18/30\n",
            "\u001b[1m48/48\u001b[0m \u001b[32m━━━━━━━━━━━━━━━━━━━━\u001b[0m\u001b[37m\u001b[0m \u001b[1m25s\u001b[0m 456ms/step - accuracy: 0.9584 - loss: 0.1717 - val_accuracy: 0.8316 - val_loss: 0.5740\n",
            "Epoch 19/30\n",
            "\u001b[1m48/48\u001b[0m \u001b[32m━━━━━━━━━━━━━━━━━━━━\u001b[0m\u001b[37m\u001b[0m \u001b[1m41s\u001b[0m 473ms/step - accuracy: 0.9580 - loss: 0.1422 - val_accuracy: 0.8211 - val_loss: 0.6376\n"
          ]
        },
        {
          "output_type": "stream",
          "name": "stderr",
          "text": [
            "WARNING:absl:You are saving your model as an HDF5 file via `model.save()` or `keras.saving.save_model(model)`. This file format is considered legacy. We recommend using instead the native Keras format, e.g. `model.save('my_model.keras')` or `keras.saving.save_model(model, 'my_model.keras')`. \n"
          ]
        }
      ]
    },
    {
      "cell_type": "code",
      "source": [
        "# Оцінка моделі на тестових даних\n",
        "test_loss, test_accuracy = model.evaluate(test_generator, steps=test_generator.samples // test_generator.batch_size)\n",
        "\n",
        "print(f\"Тестова втрата: {test_loss:.4f}\")\n",
        "print(f\"Тестова точність: {test_accuracy:.4f}\")"
      ],
      "metadata": {
        "id": "xhUb4dOMaM7F",
        "colab": {
          "base_uri": "https://localhost:8080/"
        },
        "outputId": "8ffb5ded-3e55-4876-ec7a-e2bcdd6bf739"
      },
      "execution_count": 7,
      "outputs": [
        {
          "output_type": "stream",
          "name": "stdout",
          "text": [
            "\u001b[1m6/6\u001b[0m \u001b[32m━━━━━━━━━━━━━━━━━━━━\u001b[0m\u001b[37m\u001b[0m \u001b[1m2s\u001b[0m 306ms/step - accuracy: 0.8204 - loss: 0.4212\n",
            "Тестова втрата: 0.5946\n",
            "Тестова точність: 0.8021\n"
          ]
        }
      ]
    },
    {
      "cell_type": "code",
      "source": [
        "# Оцінка моделі на тестових даних\n",
        "val_loss, val_accuracy = model.evaluate(validation_generator)\n",
        "\n",
        "print(f\"Валідаційна втрата: {val_loss:.4f}\")\n",
        "print(f\"Валідаційна точність: {val_accuracy:.4f}\")"
      ],
      "metadata": {
        "colab": {
          "base_uri": "https://localhost:8080/"
        },
        "id": "P7M4sPZN6juA",
        "outputId": "aec91ad1-d55f-4f66-b51b-acb04e37fac8"
      },
      "execution_count": 8,
      "outputs": [
        {
          "output_type": "stream",
          "name": "stdout",
          "text": [
            "\u001b[1m6/6\u001b[0m \u001b[32m━━━━━━━━━━━━━━━━━━━━\u001b[0m\u001b[37m\u001b[0m \u001b[1m1s\u001b[0m 144ms/step - accuracy: 0.8767 - loss: 0.3010\n",
            "Валідаційна втрата: 0.3393\n",
            "Валідаційна точність: 0.8737\n"
          ]
        }
      ]
    },
    {
      "cell_type": "code",
      "source": [
        "plt.figure(figsize=(12, 4))\n",
        "\n",
        "# Plot accuracy\n",
        "plt.subplot(1, 2, 1)\n",
        "plt.plot(history.history['accuracy'], label='Training Accuracy')\n",
        "plt.plot(history.history['val_accuracy'], label='Validation Accuracy')\n",
        "plt.title('Accuracy over Epochs')\n",
        "plt.xlabel('Epochs')\n",
        "plt.ylabel('Accuracy')\n",
        "plt.legend()\n",
        "\n",
        "# Plot loss\n",
        "plt.subplot(1, 2, 2)\n",
        "plt.plot(history.history['loss'], label='Training Loss')\n",
        "plt.plot(history.history['val_loss'], label='Validation Loss')\n",
        "plt.title('Loss over Epochs')\n",
        "plt.xlabel('Epochs')\n",
        "plt.ylabel('Loss')\n",
        "plt.legend()\n",
        "\n",
        "plt.show()"
      ],
      "metadata": {
        "colab": {
          "base_uri": "https://localhost:8080/",
          "height": 410
        },
        "id": "T8Hv46hgoWJn",
        "outputId": "8f6cf118-33a9-48fd-bf03-be647312d01e"
      },
      "execution_count": 9,
      "outputs": [
        {
          "output_type": "display_data",
          "data": {
            "text/plain": [
              "<Figure size 1200x400 with 2 Axes>"
            ],
            "image/png": "[encoded data removed]"
          },
          "metadata": {}
        }
      ]
    }
  ]
}