{
  "nbformat": 4,
  "nbformat_minor": 0,
  "metadata": {
    "colab": {
      "provenance": [],
      "gpuType": "T4"
    },
    "kernelspec": {
      "name": "python3",
      "display_name": "Python 3"
    },
    "accelerator": "GPU"
  },
  "cells": [
    {
      "cell_type": "markdown",
      "metadata": {
        "id": "ps6VA4r1C_wm"
      },
      "source": [
        "# Розпізнавання об'єктів на зображеннях з набору даних CIFAR-10\n",
        "\n",
        "\n",
        "Для того щоб редагувати код, збережіть копію цього ноутбука собі (File->Save a copy in Drive...). Свою копію ви зможете змінювати та запускати.\n"
      ]
    },
    {
      "cell_type": "code",
      "metadata": {
        "id": "T6hmBuIyjRUu"
      },
      "source": [
        "import numpy as np\n",
        "from keras.datasets import cifar10\n",
        "from keras.models import Sequential\n",
        "from keras.layers import Dense, Flatten\n",
        "from keras.layers import Dropout\n",
        "from keras.layers import Conv2D, MaxPooling2D\n",
        "from keras import utils\n",
        "from keras.preprocessing import image\n",
        "from google.colab import files\n",
        "import matplotlib.pyplot as plt\n",
        "%matplotlib inline"
      ],
      "execution_count": 1,
      "outputs": []
    },
    {
      "cell_type": "code",
      "metadata": {
        "id": "PfEKaHglj2VL"
      },
      "source": [
        "# Розмір міні-вибірки\n",
        "batch_size = 128\n",
        "# Кількість класів зображень\n",
        "nb_classes = 10\n",
        "# Кількість епох для навчання\n",
        "nb_epoch = 25\n",
        "# Розмір зображеннь\n",
        "img_rows, img_cols = 32, 32\n",
        "# Кількість каналів в зображенні\n",
        "img_channels = 3\n",
        "# Назви класівз набору даних  CIFAR-10\n",
        "classes=['літак', 'автомобіль', 'птах', 'кіт', 'олень', 'собака', 'жаба', 'кінь', 'корабель', 'вантажівка']"
      ],
      "execution_count": 2,
      "outputs": []
    },
    {
      "cell_type": "markdown",
      "metadata": {
        "id": "Tt2d0pKXDR1c"
      },
      "source": [
        "## Підготовка даних"
      ]
    },
    {
      "cell_type": "markdown",
      "metadata": {
        "id": "kzQx_ZOZDNYV"
      },
      "source": [
        "**Завантажуємо дані**"
      ]
    },
    {
      "cell_type": "code",
      "metadata": {
        "id": "ARLcknFUj4Oc",
        "colab": {
          "base_uri": "https://localhost:8080/"
        },
        "outputId": "39a23510-4d97-43bf-c4d2-a32791688abd"
      },
      "source": [
        "(X_train, y_train), (X_test, y_test) = cifar10.load_data()"
      ],
      "execution_count": 3,
      "outputs": [
        {
          "output_type": "stream",
          "name": "stdout",
          "text": [
            "Downloading data from https://www.cs.toronto.edu/~kriz/cifar-10-python.tar.gz\n",
            "\u001b[1m170498071/170498071\u001b[0m \u001b[32m━━━━━━━━━━━━━━━━━━━━\u001b[0m\u001b[37m\u001b[0m \u001b[1m13s\u001b[0m 0us/step\n"
          ]
        }
      ]
    },
    {
      "cell_type": "markdown",
      "metadata": {
        "id": "1EJSbfDoDrnV"
      },
      "source": [
        "**Перагляд прикладів даних**"
      ]
    },
    {
      "cell_type": "code",
      "metadata": {
        "id": "KCXgj92ckE-J",
        "outputId": "ca044d9d-cbff-4808-ec01-1177b2ffedb1",
        "colab": {
          "base_uri": "https://localhost:8080/",
          "height": 465
        }
      },
      "source": [
        "n = 12\n",
        "plt.imshow(X_train[n])\n",
        "plt.show()\n",
        "print(\"Номер класу:\", y_train[n])\n",
        "print(\"Тип об'єкту:\", classes[y_train[n][0]])"
      ],
      "execution_count": 4,
      "outputs": [
        {
          "output_type": "display_data",
          "data": {
            "text/plain": [
              "<Figure size 640x480 with 1 Axes>"
            ],
            "image/png": "[encoded data removed]"
          },
          "metadata": {}
        },
        {
          "output_type": "stream",
          "name": "stdout",
          "text": [
            "Номер класу: [7]\n",
            "Тип об'єкту: кінь\n"
          ]
        }
      ]
    },
    {
      "cell_type": "markdown",
      "metadata": {
        "id": "2kyCZJECE5Vu"
      },
      "source": [
        "**Нормалізуємо  дані**"
      ]
    },
    {
      "cell_type": "code",
      "metadata": {
        "id": "C33r-0yNkJUA"
      },
      "source": [
        "X_train = X_train.astype('float32')\n",
        "X_test = X_test.astype('float32')\n",
        "X_train /= 255\n",
        "X_test /= 255"
      ],
      "execution_count": 5,
      "outputs": []
    },
    {
      "cell_type": "markdown",
      "metadata": {
        "id": "qj07Mr7CE9Zt"
      },
      "source": [
        "**Перетворюємо вірні відповіді в формат one hot encoding**"
      ]
    },
    {
      "cell_type": "code",
      "metadata": {
        "id": "VHzeTThQFEs1"
      },
      "source": [
        "Y_train = utils.to_categorical(y_train, nb_classes)\n",
        "Y_test = utils.to_categorical(y_test, nb_classes)"
      ],
      "execution_count": 6,
      "outputs": []
    },
    {
      "cell_type": "markdown",
      "metadata": {
        "id": "mnT8h77PFLXu"
      },
      "source": [
        "## Створюємо нейронну мережу"
      ]
    },
    {
      "cell_type": "code",
      "metadata": {
        "id": "U0MLXRCqkPGC"
      },
      "source": [
        "from keras.layers import BatchNormalization\n",
        "# Створюємо послідовну модель\n",
        "model = Sequential()\n",
        "\n",
        "# Перший згортковий шар\n",
        "model.add(Conv2D(32, (3, 3), padding='same', input_shape=(32, 32, 3), activation='relu'))\n",
        "model.add(BatchNormalization())  # Додано Batch Normalization\n",
        "\n",
        "# Другий згортковий шар\n",
        "model.add(Conv2D(32, (3, 3), activation='relu', padding='same'))\n",
        "model.add(BatchNormalization())  # Додано Batch Normalization\n",
        "model.add(MaxPooling2D(pool_size=(2, 2)))\n",
        "model.add(Dropout(0.25))\n",
        "\n",
        "# Третій згортковий шар\n",
        "model.add(Conv2D(64, (3, 3), padding='same', activation='relu'))\n",
        "model.add(BatchNormalization())  # Додано Batch Normalization\n",
        "\n",
        "# Четвертий згортковий шар\n",
        "model.add(Conv2D(64, (3, 3), activation='relu'))\n",
        "model.add(BatchNormalization())  # Додано Batch Normalization\n",
        "model.add(MaxPooling2D(pool_size=(2, 2)))\n",
        "model.add(Dropout(0.25))\n",
        "\n",
        "# Шар перетворення даних з 2D представлення в пласке\n",
        "model.add(Flatten())\n",
        "\n",
        "# Повнозв'язаний шар для класифікації\n",
        "model.add(Dense(256, activation='relu'))  # Зменшено кількість нейронів\n",
        "model.add(Dropout(0.4))  # Зменшено ймовірність Dropout\n",
        "\n",
        "# Вихідний Повнозв'язаний шар\n",
        "model.add(Dense(nb_classes, activation='softmax'))\n"
      ],
      "execution_count": 33,
      "outputs": []
    },
    {
      "cell_type": "markdown",
      "metadata": {
        "id": "hBCmSlqqFgvd"
      },
      "source": [
        "**Друкуємо інформацію щодо мережі**"
      ]
    },
    {
      "cell_type": "code",
      "metadata": {
        "id": "QwTq8WR1Frx9",
        "outputId": "81ae1ad5-24cc-4844-8291-570ebc626cb1",
        "colab": {
          "base_uri": "https://localhost:8080/",
          "height": 722
        }
      },
      "source": [
        "print(model.summary())"
      ],
      "execution_count": 34,
      "outputs": [
        {
          "output_type": "display_data",
          "data": {
            "text/plain": [
              "\u001b[1mModel: \"sequential_3\"\u001b[0m\n"
            ],
            "text/html": [
              "<pre style=\"white-space:pre;overflow-x:auto;line-height:normal;font-family:Menlo,'DejaVu Sans Mono',consolas,'Courier New',monospace\"><span style=\"font-weight: bold\">Model: \"sequential_3\"</span>\n",
              "</pre>\n"
            ]
          },
          "metadata": {}
        },
        {
          "output_type": "display_data",
          "data": {
            "text/plain": [
              "┏━━━━━━━━━━━━━━━━━━━━━━━━━━━━━━━━━━━━━━┳━━━━━━━━━━━━━━━━━━━━━━━━━━━━━┳━━━━━━━━━━━━━━━━━┓\n",
              "┃\u001b[1m \u001b[0m\u001b[1mLayer (type)                        \u001b[0m\u001b[1m \u001b[0m┃\u001b[1m \u001b[0m\u001b[1mOutput Shape               \u001b[0m\u001b[1m \u001b[0m┃\u001b[1m \u001b[0m\u001b[1m        Param #\u001b[0m\u001b[1m \u001b[0m┃\n",
              "┡━━━━━━━━━━━━━━━━━━━━━━━━━━━━━━━━━━━━━━╇━━━━━━━━━━━━━━━━━━━━━━━━━━━━━╇━━━━━━━━━━━━━━━━━┩\n",
              "│ conv2d_10 (\u001b[38;5;33mConv2D\u001b[0m)                   │ (\u001b[38;5;45mNone\u001b[0m, \u001b[38;5;34m32\u001b[0m, \u001b[38;5;34m32\u001b[0m, \u001b[38;5;34m32\u001b[0m)          │             \u001b[38;5;34m896\u001b[0m │\n",
              "├──────────────────────────────────────┼─────────────────────────────┼─────────────────┤\n",
              "│ batch_normalization                  │ (\u001b[38;5;45mNone\u001b[0m, \u001b[38;5;34m32\u001b[0m, \u001b[38;5;34m32\u001b[0m, \u001b[38;5;34m32\u001b[0m)          │             \u001b[38;5;34m128\u001b[0m │\n",
              "│ (\u001b[38;5;33mBatchNormalization\u001b[0m)                 │                             │                 │\n",
              "├──────────────────────────────────────┼─────────────────────────────┼─────────────────┤\n",
              "│ conv2d_11 (\u001b[38;5;33mConv2D\u001b[0m)                   │ (\u001b[38;5;45mNone\u001b[0m, \u001b[38;5;34m32\u001b[0m, \u001b[38;5;34m32\u001b[0m, \u001b[38;5;34m32\u001b[0m)          │           \u001b[38;5;34m9,248\u001b[0m │\n",
              "├──────────────────────────────────────┼─────────────────────────────┼─────────────────┤\n",
              "│ batch_normalization_1                │ (\u001b[38;5;45mNone\u001b[0m, \u001b[38;5;34m32\u001b[0m, \u001b[38;5;34m32\u001b[0m, \u001b[38;5;34m32\u001b[0m)          │             \u001b[38;5;34m128\u001b[0m │\n",
              "│ (\u001b[38;5;33mBatchNormalization\u001b[0m)                 │                             │                 │\n",
              "├──────────────────────────────────────┼─────────────────────────────┼─────────────────┤\n",
              "│ max_pooling2d_4 (\u001b[38;5;33mMaxPooling2D\u001b[0m)       │ (\u001b[38;5;45mNone\u001b[0m, \u001b[38;5;34m16\u001b[0m, \u001b[38;5;34m16\u001b[0m, \u001b[38;5;34m32\u001b[0m)          │               \u001b[38;5;34m0\u001b[0m │\n",
              "├──────────────────────────────────────┼─────────────────────────────┼─────────────────┤\n",
              "│ dropout_6 (\u001b[38;5;33mDropout\u001b[0m)                  │ (\u001b[38;5;45mNone\u001b[0m, \u001b[38;5;34m16\u001b[0m, \u001b[38;5;34m16\u001b[0m, \u001b[38;5;34m32\u001b[0m)          │               \u001b[38;5;34m0\u001b[0m │\n",
              "├──────────────────────────────────────┼─────────────────────────────┼─────────────────┤\n",
              "│ conv2d_12 (\u001b[38;5;33mConv2D\u001b[0m)                   │ (\u001b[38;5;45mNone\u001b[0m, \u001b[38;5;34m16\u001b[0m, \u001b[38;5;34m16\u001b[0m, \u001b[38;5;34m64\u001b[0m)          │          \u001b[38;5;34m18,496\u001b[0m │\n",
              "├──────────────────────────────────────┼─────────────────────────────┼─────────────────┤\n",
              "│ batch_normalization_2                │ (\u001b[38;5;45mNone\u001b[0m, \u001b[38;5;34m16\u001b[0m, \u001b[38;5;34m16\u001b[0m, \u001b[38;5;34m64\u001b[0m)          │             \u001b[38;5;34m256\u001b[0m │\n",
              "│ (\u001b[38;5;33mBatchNormalization\u001b[0m)                 │                             │                 │\n",
              "├──────────────────────────────────────┼─────────────────────────────┼─────────────────┤\n",
              "│ conv2d_13 (\u001b[38;5;33mConv2D\u001b[0m)                   │ (\u001b[38;5;45mNone\u001b[0m, \u001b[38;5;34m14\u001b[0m, \u001b[38;5;34m14\u001b[0m, \u001b[38;5;34m64\u001b[0m)          │          \u001b[38;5;34m36,928\u001b[0m │\n",
              "├──────────────────────────────────────┼─────────────────────────────┼─────────────────┤\n",
              "│ batch_normalization_3                │ (\u001b[38;5;45mNone\u001b[0m, \u001b[38;5;34m14\u001b[0m, \u001b[38;5;34m14\u001b[0m, \u001b[38;5;34m64\u001b[0m)          │             \u001b[38;5;34m256\u001b[0m │\n",
              "│ (\u001b[38;5;33mBatchNormalization\u001b[0m)                 │                             │                 │\n",
              "├──────────────────────────────────────┼─────────────────────────────┼─────────────────┤\n",
              "│ max_pooling2d_5 (\u001b[38;5;33mMaxPooling2D\u001b[0m)       │ (\u001b[38;5;45mNone\u001b[0m, \u001b[38;5;34m7\u001b[0m, \u001b[38;5;34m7\u001b[0m, \u001b[38;5;34m64\u001b[0m)            │               \u001b[38;5;34m0\u001b[0m │\n",
              "├──────────────────────────────────────┼─────────────────────────────┼─────────────────┤\n",
              "│ dropout_7 (\u001b[38;5;33mDropout\u001b[0m)                  │ (\u001b[38;5;45mNone\u001b[0m, \u001b[38;5;34m7\u001b[0m, \u001b[38;5;34m7\u001b[0m, \u001b[38;5;34m64\u001b[0m)            │               \u001b[38;5;34m0\u001b[0m │\n",
              "├──────────────────────────────────────┼─────────────────────────────┼─────────────────┤\n",
              "│ flatten_2 (\u001b[38;5;33mFlatten\u001b[0m)                  │ (\u001b[38;5;45mNone\u001b[0m, \u001b[38;5;34m3136\u001b[0m)                │               \u001b[38;5;34m0\u001b[0m │\n",
              "├──────────────────────────────────────┼─────────────────────────────┼─────────────────┤\n",
              "│ dense_4 (\u001b[38;5;33mDense\u001b[0m)                      │ (\u001b[38;5;45mNone\u001b[0m, \u001b[38;5;34m256\u001b[0m)                 │         \u001b[38;5;34m803,072\u001b[0m │\n",
              "├──────────────────────────────────────┼─────────────────────────────┼─────────────────┤\n",
              "│ dropout_8 (\u001b[38;5;33mDropout\u001b[0m)                  │ (\u001b[38;5;45mNone\u001b[0m, \u001b[38;5;34m256\u001b[0m)                 │               \u001b[38;5;34m0\u001b[0m │\n",
              "├──────────────────────────────────────┼─────────────────────────────┼─────────────────┤\n",
              "│ dense_5 (\u001b[38;5;33mDense\u001b[0m)                      │ (\u001b[38;5;45mNone\u001b[0m, \u001b[38;5;34m10\u001b[0m)                  │           \u001b[38;5;34m2,570\u001b[0m │\n",
              "└──────────────────────────────────────┴─────────────────────────────┴─────────────────┘\n"
            ],
            "text/html": [
              "<pre style=\"white-space:pre;overflow-x:auto;line-height:normal;font-family:Menlo,'DejaVu Sans Mono',consolas,'Courier New',monospace\">┏━━━━━━━━━━━━━━━━━━━━━━━━━━━━━━━━━━━━━━┳━━━━━━━━━━━━━━━━━━━━━━━━━━━━━┳━━━━━━━━━━━━━━━━━┓\n",
              "┃<span style=\"font-weight: bold\"> Layer (type)                         </span>┃<span style=\"font-weight: bold\"> Output Shape                </span>┃<span style=\"font-weight: bold\">         Param # </span>┃\n",
              "┡━━━━━━━━━━━━━━━━━━━━━━━━━━━━━━━━━━━━━━╇━━━━━━━━━━━━━━━━━━━━━━━━━━━━━╇━━━━━━━━━━━━━━━━━┩\n",
              "│ conv2d_10 (<span style=\"color: #0087ff; text-decoration-color: #0087ff\">Conv2D</span>)                   │ (<span style=\"color: #00d7ff; text-decoration-color: #00d7ff\">None</span>, <span style=\"color: #00af00; text-decoration-color: #00af00\">32</span>, <span style=\"color: #00af00; text-decoration-color: #00af00\">32</span>, <span style=\"color: #00af00; text-decoration-color: #00af00\">32</span>)          │             <span style=\"color: #00af00; text-decoration-color: #00af00\">896</span> │\n",
              "├──────────────────────────────────────┼─────────────────────────────┼─────────────────┤\n",
              "│ batch_normalization                  │ (<span style=\"color: #00d7ff; text-decoration-color: #00d7ff\">None</span>, <span style=\"color: #00af00; text-decoration-color: #00af00\">32</span>, <span style=\"color: #00af00; text-decoration-color: #00af00\">32</span>, <span style=\"color: #00af00; text-decoration-color: #00af00\">32</span>)          │             <span style=\"color: #00af00; text-decoration-color: #00af00\">128</span> │\n",
              "│ (<span style=\"color: #0087ff; text-decoration-color: #0087ff\">BatchNormalization</span>)                 │                             │                 │\n",
              "├──────────────────────────────────────┼─────────────────────────────┼─────────────────┤\n",
              "│ conv2d_11 (<span style=\"color: #0087ff; text-decoration-color: #0087ff\">Conv2D</span>)                   │ (<span style=\"color: #00d7ff; text-decoration-color: #00d7ff\">None</span>, <span style=\"color: #00af00; text-decoration-color: #00af00\">32</span>, <span style=\"color: #00af00; text-decoration-color: #00af00\">32</span>, <span style=\"color: #00af00; text-decoration-color: #00af00\">32</span>)          │           <span style=\"color: #00af00; text-decoration-color: #00af00\">9,248</span> │\n",
              "├──────────────────────────────────────┼─────────────────────────────┼─────────────────┤\n",
              "│ batch_normalization_1                │ (<span style=\"color: #00d7ff; text-decoration-color: #00d7ff\">None</span>, <span style=\"color: #00af00; text-decoration-color: #00af00\">32</span>, <span style=\"color: #00af00; text-decoration-color: #00af00\">32</span>, <span style=\"color: #00af00; text-decoration-color: #00af00\">32</span>)          │             <span style=\"color: #00af00; text-decoration-color: #00af00\">128</span> │\n",
              "│ (<span style=\"color: #0087ff; text-decoration-color: #0087ff\">BatchNormalization</span>)                 │                             │                 │\n",
              "├──────────────────────────────────────┼─────────────────────────────┼─────────────────┤\n",
              "│ max_pooling2d_4 (<span style=\"color: #0087ff; text-decoration-color: #0087ff\">MaxPooling2D</span>)       │ (<span style=\"color: #00d7ff; text-decoration-color: #00d7ff\">None</span>, <span style=\"color: #00af00; text-decoration-color: #00af00\">16</span>, <span style=\"color: #00af00; text-decoration-color: #00af00\">16</span>, <span style=\"color: #00af00; text-decoration-color: #00af00\">32</span>)          │               <span style=\"color: #00af00; text-decoration-color: #00af00\">0</span> │\n",
              "├──────────────────────────────────────┼─────────────────────────────┼─────────────────┤\n",
              "│ dropout_6 (<span style=\"color: #0087ff; text-decoration-color: #0087ff\">Dropout</span>)                  │ (<span style=\"color: #00d7ff; text-decoration-color: #00d7ff\">None</span>, <span style=\"color: #00af00; text-decoration-color: #00af00\">16</span>, <span style=\"color: #00af00; text-decoration-color: #00af00\">16</span>, <span style=\"color: #00af00; text-decoration-color: #00af00\">32</span>)          │               <span style=\"color: #00af00; text-decoration-color: #00af00\">0</span> │\n",
              "├──────────────────────────────────────┼─────────────────────────────┼─────────────────┤\n",
              "│ conv2d_12 (<span style=\"color: #0087ff; text-decoration-color: #0087ff\">Conv2D</span>)                   │ (<span style=\"color: #00d7ff; text-decoration-color: #00d7ff\">None</span>, <span style=\"color: #00af00; text-decoration-color: #00af00\">16</span>, <span style=\"color: #00af00; text-decoration-color: #00af00\">16</span>, <span style=\"color: #00af00; text-decoration-color: #00af00\">64</span>)          │          <span style=\"color: #00af00; text-decoration-color: #00af00\">18,496</span> │\n",
              "├──────────────────────────────────────┼─────────────────────────────┼─────────────────┤\n",
              "│ batch_normalization_2                │ (<span style=\"color: #00d7ff; text-decoration-color: #00d7ff\">None</span>, <span style=\"color: #00af00; text-decoration-color: #00af00\">16</span>, <span style=\"color: #00af00; text-decoration-color: #00af00\">16</span>, <span style=\"color: #00af00; text-decoration-color: #00af00\">64</span>)          │             <span style=\"color: #00af00; text-decoration-color: #00af00\">256</span> │\n",
              "│ (<span style=\"color: #0087ff; text-decoration-color: #0087ff\">BatchNormalization</span>)                 │                             │                 │\n",
              "├──────────────────────────────────────┼─────────────────────────────┼─────────────────┤\n",
              "│ conv2d_13 (<span style=\"color: #0087ff; text-decoration-color: #0087ff\">Conv2D</span>)                   │ (<span style=\"color: #00d7ff; text-decoration-color: #00d7ff\">None</span>, <span style=\"color: #00af00; text-decoration-color: #00af00\">14</span>, <span style=\"color: #00af00; text-decoration-color: #00af00\">14</span>, <span style=\"color: #00af00; text-decoration-color: #00af00\">64</span>)          │          <span style=\"color: #00af00; text-decoration-color: #00af00\">36,928</span> │\n",
              "├──────────────────────────────────────┼─────────────────────────────┼─────────────────┤\n",
              "│ batch_normalization_3                │ (<span style=\"color: #00d7ff; text-decoration-color: #00d7ff\">None</span>, <span style=\"color: #00af00; text-decoration-color: #00af00\">14</span>, <span style=\"color: #00af00; text-decoration-color: #00af00\">14</span>, <span style=\"color: #00af00; text-decoration-color: #00af00\">64</span>)          │             <span style=\"color: #00af00; text-decoration-color: #00af00\">256</span> │\n",
              "│ (<span style=\"color: #0087ff; text-decoration-color: #0087ff\">BatchNormalization</span>)                 │                             │                 │\n",
              "├──────────────────────────────────────┼─────────────────────────────┼─────────────────┤\n",
              "│ max_pooling2d_5 (<span style=\"color: #0087ff; text-decoration-color: #0087ff\">MaxPooling2D</span>)       │ (<span style=\"color: #00d7ff; text-decoration-color: #00d7ff\">None</span>, <span style=\"color: #00af00; text-decoration-color: #00af00\">7</span>, <span style=\"color: #00af00; text-decoration-color: #00af00\">7</span>, <span style=\"color: #00af00; text-decoration-color: #00af00\">64</span>)            │               <span style=\"color: #00af00; text-decoration-color: #00af00\">0</span> │\n",
              "├──────────────────────────────────────┼─────────────────────────────┼─────────────────┤\n",
              "│ dropout_7 (<span style=\"color: #0087ff; text-decoration-color: #0087ff\">Dropout</span>)                  │ (<span style=\"color: #00d7ff; text-decoration-color: #00d7ff\">None</span>, <span style=\"color: #00af00; text-decoration-color: #00af00\">7</span>, <span style=\"color: #00af00; text-decoration-color: #00af00\">7</span>, <span style=\"color: #00af00; text-decoration-color: #00af00\">64</span>)            │               <span style=\"color: #00af00; text-decoration-color: #00af00\">0</span> │\n",
              "├──────────────────────────────────────┼─────────────────────────────┼─────────────────┤\n",
              "│ flatten_2 (<span style=\"color: #0087ff; text-decoration-color: #0087ff\">Flatten</span>)                  │ (<span style=\"color: #00d7ff; text-decoration-color: #00d7ff\">None</span>, <span style=\"color: #00af00; text-decoration-color: #00af00\">3136</span>)                │               <span style=\"color: #00af00; text-decoration-color: #00af00\">0</span> │\n",
              "├──────────────────────────────────────┼─────────────────────────────┼─────────────────┤\n",
              "│ dense_4 (<span style=\"color: #0087ff; text-decoration-color: #0087ff\">Dense</span>)                      │ (<span style=\"color: #00d7ff; text-decoration-color: #00d7ff\">None</span>, <span style=\"color: #00af00; text-decoration-color: #00af00\">256</span>)                 │         <span style=\"color: #00af00; text-decoration-color: #00af00\">803,072</span> │\n",
              "├──────────────────────────────────────┼─────────────────────────────┼─────────────────┤\n",
              "│ dropout_8 (<span style=\"color: #0087ff; text-decoration-color: #0087ff\">Dropout</span>)                  │ (<span style=\"color: #00d7ff; text-decoration-color: #00d7ff\">None</span>, <span style=\"color: #00af00; text-decoration-color: #00af00\">256</span>)                 │               <span style=\"color: #00af00; text-decoration-color: #00af00\">0</span> │\n",
              "├──────────────────────────────────────┼─────────────────────────────┼─────────────────┤\n",
              "│ dense_5 (<span style=\"color: #0087ff; text-decoration-color: #0087ff\">Dense</span>)                      │ (<span style=\"color: #00d7ff; text-decoration-color: #00d7ff\">None</span>, <span style=\"color: #00af00; text-decoration-color: #00af00\">10</span>)                  │           <span style=\"color: #00af00; text-decoration-color: #00af00\">2,570</span> │\n",
              "└──────────────────────────────────────┴─────────────────────────────┴─────────────────┘\n",
              "</pre>\n"
            ]
          },
          "metadata": {}
        },
        {
          "output_type": "display_data",
          "data": {
            "text/plain": [
              "\u001b[1m Total params: \u001b[0m\u001b[38;5;34m871,978\u001b[0m (3.33 MB)\n"
            ],
            "text/html": [
              "<pre style=\"white-space:pre;overflow-x:auto;line-height:normal;font-family:Menlo,'DejaVu Sans Mono',consolas,'Courier New',monospace\"><span style=\"font-weight: bold\"> Total params: </span><span style=\"color: #00af00; text-decoration-color: #00af00\">871,978</span> (3.33 MB)\n",
              "</pre>\n"
            ]
          },
          "metadata": {}
        },
        {
          "output_type": "display_data",
          "data": {
            "text/plain": [
              "\u001b[1m Trainable params: \u001b[0m\u001b[38;5;34m871,594\u001b[0m (3.32 MB)\n"
            ],
            "text/html": [
              "<pre style=\"white-space:pre;overflow-x:auto;line-height:normal;font-family:Menlo,'DejaVu Sans Mono',consolas,'Courier New',monospace\"><span style=\"font-weight: bold\"> Trainable params: </span><span style=\"color: #00af00; text-decoration-color: #00af00\">871,594</span> (3.32 MB)\n",
              "</pre>\n"
            ]
          },
          "metadata": {}
        },
        {
          "output_type": "display_data",
          "data": {
            "text/plain": [
              "\u001b[1m Non-trainable params: \u001b[0m\u001b[38;5;34m384\u001b[0m (1.50 KB)\n"
            ],
            "text/html": [
              "<pre style=\"white-space:pre;overflow-x:auto;line-height:normal;font-family:Menlo,'DejaVu Sans Mono',consolas,'Courier New',monospace\"><span style=\"font-weight: bold\"> Non-trainable params: </span><span style=\"color: #00af00; text-decoration-color: #00af00\">384</span> (1.50 KB)\n",
              "</pre>\n"
            ]
          },
          "metadata": {}
        },
        {
          "output_type": "stream",
          "name": "stdout",
          "text": [
            "None\n"
          ]
        }
      ]
    },
    {
      "cell_type": "markdown",
      "metadata": {
        "id": "iZ8E1aF0FS1s"
      },
      "source": [
        "**Компілюємо модель**"
      ]
    },
    {
      "cell_type": "code",
      "metadata": {
        "id": "VyVlJMdGkrv-"
      },
      "source": [
        "model.compile(optimizer='adam', loss='categorical_crossentropy', metrics=['accuracy'])\n",
        "\n"
      ],
      "execution_count": 35,
      "outputs": []
    },
    {
      "cell_type": "markdown",
      "metadata": {
        "id": "Aq23si1YFYhF"
      },
      "source": [
        "## Навчаємо нейрону мережу"
      ]
    },
    {
      "cell_type": "code",
      "metadata": {
        "id": "kyH5Ec9RkznF",
        "outputId": "2d49a163-c093-4b29-adfd-e230e46a2568",
        "colab": {
          "base_uri": "https://localhost:8080/"
        }
      },
      "source": [
        "history = model.fit(X_train, Y_train,\n",
        "              batch_size=batch_size,\n",
        "              epochs=nb_epoch,\n",
        "              validation_split=0.1,\n",
        "              shuffle=True,\n",
        "              verbose=2)\n"
      ],
      "execution_count": 36,
      "outputs": [
        {
          "output_type": "stream",
          "name": "stdout",
          "text": [
            "Epoch 1/25\n",
            "352/352 - 17s - 48ms/step - accuracy: 0.4186 - loss: 1.6426 - val_accuracy: 0.2182 - val_loss: 2.7884\n",
            "Epoch 2/25\n",
            "352/352 - 3s - 10ms/step - accuracy: 0.5693 - loss: 1.2032 - val_accuracy: 0.6172 - val_loss: 1.0716\n",
            "Epoch 3/25\n",
            "352/352 - 3s - 10ms/step - accuracy: 0.6448 - loss: 1.0023 - val_accuracy: 0.6622 - val_loss: 0.9764\n",
            "Epoch 4/25\n",
            "352/352 - 5s - 15ms/step - accuracy: 0.6885 - loss: 0.8886 - val_accuracy: 0.7282 - val_loss: 0.7938\n",
            "Epoch 5/25\n",
            "352/352 - 5s - 14ms/step - accuracy: 0.7172 - loss: 0.7983 - val_accuracy: 0.7248 - val_loss: 0.8061\n",
            "Epoch 6/25\n",
            "352/352 - 5s - 15ms/step - accuracy: 0.7434 - loss: 0.7369 - val_accuracy: 0.7612 - val_loss: 0.7000\n",
            "Epoch 7/25\n",
            "352/352 - 5s - 14ms/step - accuracy: 0.7579 - loss: 0.6861 - val_accuracy: 0.7742 - val_loss: 0.6661\n",
            "Epoch 8/25\n",
            "352/352 - 3s - 10ms/step - accuracy: 0.7755 - loss: 0.6348 - val_accuracy: 0.7674 - val_loss: 0.7167\n",
            "Epoch 9/25\n",
            "352/352 - 4s - 10ms/step - accuracy: 0.7931 - loss: 0.5922 - val_accuracy: 0.7880 - val_loss: 0.6343\n",
            "Epoch 10/25\n",
            "352/352 - 4s - 10ms/step - accuracy: 0.8029 - loss: 0.5598 - val_accuracy: 0.7940 - val_loss: 0.6245\n",
            "Epoch 11/25\n",
            "352/352 - 5s - 14ms/step - accuracy: 0.8137 - loss: 0.5316 - val_accuracy: 0.7926 - val_loss: 0.6403\n",
            "Epoch 12/25\n",
            "352/352 - 4s - 11ms/step - accuracy: 0.8264 - loss: 0.4946 - val_accuracy: 0.7974 - val_loss: 0.5910\n",
            "Epoch 13/25\n",
            "352/352 - 4s - 12ms/step - accuracy: 0.8337 - loss: 0.4732 - val_accuracy: 0.8074 - val_loss: 0.5814\n",
            "Epoch 14/25\n",
            "352/352 - 4s - 12ms/step - accuracy: 0.8430 - loss: 0.4416 - val_accuracy: 0.8008 - val_loss: 0.6302\n",
            "Epoch 15/25\n",
            "352/352 - 3s - 10ms/step - accuracy: 0.8504 - loss: 0.4237 - val_accuracy: 0.7944 - val_loss: 0.6445\n",
            "Epoch 16/25\n",
            "352/352 - 5s - 15ms/step - accuracy: 0.8583 - loss: 0.3964 - val_accuracy: 0.8078 - val_loss: 0.6107\n",
            "Epoch 17/25\n",
            "352/352 - 3s - 10ms/step - accuracy: 0.8660 - loss: 0.3784 - val_accuracy: 0.8110 - val_loss: 0.6527\n",
            "Epoch 18/25\n",
            "352/352 - 5s - 15ms/step - accuracy: 0.8711 - loss: 0.3643 - val_accuracy: 0.7878 - val_loss: 0.6841\n",
            "Epoch 19/25\n",
            "352/352 - 5s - 14ms/step - accuracy: 0.8794 - loss: 0.3433 - val_accuracy: 0.8170 - val_loss: 0.6059\n",
            "Epoch 20/25\n",
            "352/352 - 3s - 10ms/step - accuracy: 0.8834 - loss: 0.3246 - val_accuracy: 0.8212 - val_loss: 0.5797\n",
            "Epoch 21/25\n",
            "352/352 - 5s - 15ms/step - accuracy: 0.8835 - loss: 0.3270 - val_accuracy: 0.8234 - val_loss: 0.6017\n",
            "Epoch 22/25\n",
            "352/352 - 3s - 10ms/step - accuracy: 0.8918 - loss: 0.3036 - val_accuracy: 0.8232 - val_loss: 0.5979\n",
            "Epoch 23/25\n",
            "352/352 - 5s - 14ms/step - accuracy: 0.8959 - loss: 0.3017 - val_accuracy: 0.8208 - val_loss: 0.6003\n",
            "Epoch 24/25\n",
            "352/352 - 4s - 10ms/step - accuracy: 0.8987 - loss: 0.2906 - val_accuracy: 0.7970 - val_loss: 0.6491\n",
            "Epoch 25/25\n",
            "352/352 - 4s - 10ms/step - accuracy: 0.9011 - loss: 0.2777 - val_accuracy: 0.8196 - val_loss: 0.6300\n"
          ]
        }
      ]
    },
    {
      "cell_type": "markdown",
      "metadata": {
        "id": "bHssPqMqF9sv"
      },
      "source": [
        "## Оцінюємо якість  навчання мережі"
      ]
    },
    {
      "cell_type": "code",
      "metadata": {
        "id": "5y4AHwlNou5y",
        "outputId": "b928b3c8-3b8a-4aca-ba86-d71a84785aa7",
        "colab": {
          "base_uri": "https://localhost:8080/"
        }
      },
      "source": [
        "# Оцінюємо якість навчання моделі на тестових даних\n",
        "scores = model.evaluate(X_test, Y_test, verbose=0)\n",
        "print(\"Точність роботи на тестових даних: %.2f%%\" % (scores[1]*100))"
      ],
      "execution_count": 37,
      "outputs": [
        {
          "output_type": "stream",
          "name": "stdout",
          "text": [
            "Точність роботи на тестових даних: 81.24%\n"
          ]
        }
      ]
    },
    {
      "cell_type": "code",
      "metadata": {
        "id": "Z_xxp2UrNJvz",
        "outputId": "0ef3f47e-6bc5-413e-e5cf-98c022215ddb",
        "colab": {
          "base_uri": "https://localhost:8080/",
          "height": 449
        }
      },
      "source": [
        "history_dict = history.history\n",
        "acc_values = history_dict['accuracy']\n",
        "val_acc_values = history_dict['val_accuracy']\n",
        "epochs = range(1, len(acc_values) + 1)\n",
        "plt.plot(epochs, acc_values, 'bo', label='Training acc')\n",
        "plt.plot(epochs, val_acc_values, 'b', label='Validation acc')\n",
        "plt.xlabel('Epochs')\n",
        "plt.ylabel('Accuracy')\n",
        "plt.legend()\n",
        "plt.show()"
      ],
      "execution_count": 38,
      "outputs": [
        {
          "output_type": "display_data",
          "data": {
            "text/plain": [
              "<Figure size 640x480 with 1 Axes>"
            ],
            "image/png": "[encoded data removed]"
          },
          "metadata": {}
        }
      ]
    },
    {
      "cell_type": "code",
      "source": [
        "# Отримати історію втрат\n",
        "loss_values = history_dict['loss']\n",
        "val_loss_values = history_dict['val_loss']\n",
        "\n",
        "# Визначити епохи\n",
        "epochs = range(1, len(loss_values) + 1)\n",
        "\n",
        "# Створити графік втрат\n",
        "plt.figure()\n",
        "plt.plot(epochs, loss_values, 'bo', label='Training loss')\n",
        "plt.plot(epochs, val_loss_values, 'b', label='Validation loss')\n",
        "plt.xlabel('Epochs')\n",
        "plt.ylabel('Loss')\n",
        "plt.legend()\n",
        "plt.show()\n"
      ],
      "metadata": {
        "colab": {
          "base_uri": "https://localhost:8080/",
          "height": 449
        },
        "id": "fM6acign8Feh",
        "outputId": "bb706aae-e2a8-4f53-d607-c9e84cb6b459"
      },
      "execution_count": 39,
      "outputs": [
        {
          "output_type": "display_data",
          "data": {
            "text/plain": [
              "<Figure size 640x480 with 1 Axes>"
            ],
            "image/png": "[encoded data removed]"
          },
          "metadata": {}
        }
      ]
    },
    {
      "cell_type": "markdown",
      "metadata": {
        "id": "9Ax2lw6hRDlm"
      },
      "source": [
        "## Зберігаємо навчену нейрону мережу"
      ]
    },
    {
      "cell_type": "code",
      "metadata": {
        "id": "uQhkelwPQ_PE"
      },
      "source": [
        "# Зберегти архітектуру моделі в JSON\n",
        "model_json = model.to_json()\n",
        "json_file = open(\"cifar10_model.json\", \"w\")\n",
        "json_file.write(model_json)\n",
        "json_file.close()\n",
        "\n",
        "# Зберегти ваги моделі з правильним розширенням\n",
        "model.save_weights(\"cifar10_model_weights.weights.h5\")\n"
      ],
      "execution_count": 42,
      "outputs": []
    },
    {
      "cell_type": "code",
      "metadata": {
        "id": "bn4CEGiURBz7",
        "outputId": "ef32ca48-e87b-4e28-bb06-084253b7037a",
        "colab": {
          "base_uri": "https://localhost:8080/"
        }
      },
      "source": [
        "!ls"
      ],
      "execution_count": 43,
      "outputs": [
        {
          "output_type": "stream",
          "name": "stdout",
          "text": [
            "cifar10_model.json  cifar10_model_weights.weights.h5  sample_data\n"
          ]
        }
      ]
    },
    {
      "cell_type": "code",
      "metadata": {
        "id": "rV8R1WhKVpZK"
      },
      "source": [
        "from google.colab import files"
      ],
      "execution_count": 44,
      "outputs": []
    },
    {
      "cell_type": "code",
      "metadata": {
        "id": "udkAZlWbVi7C",
        "colab": {
          "base_uri": "https://localhost:8080/",
          "height": 17
        },
        "outputId": "ea00f6f4-06da-4488-fa15-407e039e717f"
      },
      "source": [
        "files.download(\"cifar10_model.json\")"
      ],
      "execution_count": 45,
      "outputs": [
        {
          "output_type": "display_data",
          "data": {
            "text/plain": [
              "<IPython.core.display.Javascript object>"
            ],
            "application/javascript": [
              "\n",
              "    async function download(id, filename, size) {\n",
              "      if (!google.colab.kernel.accessAllowed) {\n",
              "        return;\n",
              "      }\n",
              "      const div = document.createElement('div');\n",
              "      const label = document.createElement('label');\n",
              "      label.textContent = `Downloading \"${filename}\": `;\n",
              "      div.appendChild(label);\n",
              "      const progress = document.createElement('progress');\n",
              "      progress.max = size;\n",
              "      div.appendChild(progress);\n",
              "      document.body.appendChild(div);\n",
              "\n",
              "      const buffers = [];\n",
              "      let downloaded = 0;\n",
              "\n",
              "      const channel = await google.colab.kernel.comms.open(id);\n",
              "      // Send a message to notify the kernel that we're ready.\n",
              "      channel.send({})\n",
              "\n",
              "      for await (const message of channel.messages) {\n",
              "        // Send a message to notify the kernel that we're ready.\n",
              "        channel.send({})\n",
              "        if (message.buffers) {\n",
              "          for (const buffer of message.buffers) {\n",
              "            buffers.push(buffer);\n",
              "            downloaded += buffer.byteLength;\n",
              "            progress.value = downloaded;\n",
              "          }\n",
              "        }\n",
              "      }\n",
              "      const blob = new Blob(buffers, {type: 'application/binary'});\n",
              "      const a = document.createElement('a');\n",
              "      a.href = window.URL.createObjectURL(blob);\n",
              "      a.download = filename;\n",
              "      div.appendChild(a);\n",
              "      a.click();\n",
              "      div.remove();\n",
              "    }\n",
              "  "
            ]
          },
          "metadata": {}
        },
        {
          "output_type": "display_data",
          "data": {
            "text/plain": [
              "<IPython.core.display.Javascript object>"
            ],
            "application/javascript": [
              "download(\"download_d2d383a0-623e-4ee0-bb1d-d78a4d12f6cc\", \"cifar10_model.json\", 12270)"
            ]
          },
          "metadata": {}
        }
      ]
    },
    {
      "cell_type": "code",
      "metadata": {
        "id": "Q1oY_XT2VvKp",
        "colab": {
          "base_uri": "https://localhost:8080/",
          "height": 17
        },
        "outputId": "275876d6-7fba-4070-d240-32276af9871c"
      },
      "source": [
        "files.download(\"cifar10_model_weights.weights.h5\")"
      ],
      "execution_count": 47,
      "outputs": [
        {
          "output_type": "display_data",
          "data": {
            "text/plain": [
              "<IPython.core.display.Javascript object>"
            ],
            "application/javascript": [
              "\n",
              "    async function download(id, filename, size) {\n",
              "      if (!google.colab.kernel.accessAllowed) {\n",
              "        return;\n",
              "      }\n",
              "      const div = document.createElement('div');\n",
              "      const label = document.createElement('label');\n",
              "      label.textContent = `Downloading \"${filename}\": `;\n",
              "      div.appendChild(label);\n",
              "      const progress = document.createElement('progress');\n",
              "      progress.max = size;\n",
              "      div.appendChild(progress);\n",
              "      document.body.appendChild(div);\n",
              "\n",
              "      const buffers = [];\n",
              "      let downloaded = 0;\n",
              "\n",
              "      const channel = await google.colab.kernel.comms.open(id);\n",
              "      // Send a message to notify the kernel that we're ready.\n",
              "      channel.send({})\n",
              "\n",
              "      for await (const message of channel.messages) {\n",
              "        // Send a message to notify the kernel that we're ready.\n",
              "        channel.send({})\n",
              "        if (message.buffers) {\n",
              "          for (const buffer of message.buffers) {\n",
              "            buffers.push(buffer);\n",
              "            downloaded += buffer.byteLength;\n",
              "            progress.value = downloaded;\n",
              "          }\n",
              "        }\n",
              "      }\n",
              "      const blob = new Blob(buffers, {type: 'application/binary'});\n",
              "      const a = document.createElement('a');\n",
              "      a.href = window.URL.createObjectURL(blob);\n",
              "      a.download = filename;\n",
              "      div.appendChild(a);\n",
              "      a.click();\n",
              "      div.remove();\n",
              "    }\n",
              "  "
            ]
          },
          "metadata": {}
        },
        {
          "output_type": "display_data",
          "data": {
            "text/plain": [
              "<IPython.core.display.Javascript object>"
            ],
            "application/javascript": [
              "download(\"download_a98fb583-9ac7-4d94-8540-f966be59bf97\", \"cifar10_model_weights.weights.h5\", 10521112)"
            ]
          },
          "metadata": {}
        }
      ]
    },
    {
      "cell_type": "markdown",
      "metadata": {
        "id": "CDf9Gw19GIGO"
      },
      "source": [
        "## Застосовуємо мережу для розпізнавання об'єктів на зображеннях"
      ]
    },
    {
      "cell_type": "markdown",
      "metadata": {
        "id": "wFujwhUEGWOG"
      },
      "source": [
        "**Перегляд зображення з набору даних для тестування**"
      ]
    },
    {
      "cell_type": "code",
      "metadata": {
        "id": "bxaxjSOAGOPX",
        "outputId": "e8a6627a-dfc3-462c-e7b1-9a0d612aa6ba",
        "colab": {
          "base_uri": "https://localhost:8080/",
          "height": 430
        }
      },
      "source": [
        "index=1712\n",
        "plt.imshow(X_test[index])\n",
        "plt.show()"
      ],
      "execution_count": 87,
      "outputs": [
        {
          "output_type": "display_data",
          "data": {
            "text/plain": [
              "<Figure size 640x480 with 1 Axes>"
            ],
            "image/png": "[encoded data removed]"
          },
          "metadata": {}
        }
      ]
    },
    {
      "cell_type": "markdown",
      "metadata": {
        "id": "ByO-DUMJGc32"
      },
      "source": [
        "**Перетворення тестового зображення**"
      ]
    },
    {
      "cell_type": "code",
      "metadata": {
        "id": "kvZbyn6xGhUe"
      },
      "source": [
        "x = X_test[index]\n",
        "x = np.expand_dims(x, axis=0)"
      ],
      "execution_count": 88,
      "outputs": []
    },
    {
      "cell_type": "markdown",
      "metadata": {
        "id": "hxcp2FfPGog1"
      },
      "source": [
        "**Запуск распізнавання**"
      ]
    },
    {
      "cell_type": "code",
      "metadata": {
        "id": "Ap72-9_kNKU2",
        "colab": {
          "base_uri": "https://localhost:8080/"
        },
        "outputId": "9d4504e2-0861-422d-acc3-54efacbb3914"
      },
      "source": [
        "prediction = model.predict(x)"
      ],
      "execution_count": 89,
      "outputs": [
        {
          "output_type": "stream",
          "name": "stdout",
          "text": [
            "\u001b[1m1/1\u001b[0m \u001b[32m━━━━━━━━━━━━━━━━━━━━\u001b[0m\u001b[37m\u001b[0m \u001b[1m0s\u001b[0m 16ms/step\n"
          ]
        }
      ]
    },
    {
      "cell_type": "markdown",
      "metadata": {
        "id": "2Gldpmn2NQ6-"
      },
      "source": [
        "**Друкуємо результати розпізнавання**"
      ]
    },
    {
      "cell_type": "code",
      "metadata": {
        "id": "P7opRiSZNUku",
        "outputId": "f096b0cf-017f-48f3-a968-50ec60d7768c",
        "colab": {
          "base_uri": "https://localhost:8080/"
        }
      },
      "source": [
        "print(prediction)"
      ],
      "execution_count": 90,
      "outputs": [
        {
          "output_type": "stream",
          "name": "stdout",
          "text": [
            "[[9.9994874e-01 7.6372754e-12 4.8852889e-06 1.2900169e-09 2.5507723e-07\n",
            "  3.8872117e-13 7.3681494e-10 5.1893335e-14 4.6157125e-05 3.5230235e-11]]\n"
          ]
        }
      ]
    },
    {
      "cell_type": "markdown",
      "metadata": {
        "id": "LQTiyEM3NfRG"
      },
      "source": [
        "**Перетворюємо результати з формату one hot encoding**"
      ]
    },
    {
      "cell_type": "code",
      "metadata": {
        "id": "XVC_dTGqNohG",
        "outputId": "1c07070d-db5c-43dc-8dbd-66c86d43877e",
        "colab": {
          "base_uri": "https://localhost:8080/"
        }
      },
      "source": [
        "prediction = np.argmax(prediction)\n",
        "print(classes[prediction])"
      ],
      "execution_count": 91,
      "outputs": [
        {
          "output_type": "stream",
          "name": "stdout",
          "text": [
            "літак\n"
          ]
        }
      ]
    },
    {
      "cell_type": "markdown",
      "metadata": {
        "id": "zJy8tKjuNyD2"
      },
      "source": [
        "**Друкуємо вірну відповідь**"
      ]
    },
    {
      "cell_type": "code",
      "metadata": {
        "id": "0zoGlCZWN2Id",
        "outputId": "414adcc9-9f68-4bab-d699-1fb540042e23",
        "colab": {
          "base_uri": "https://localhost:8080/"
        }
      },
      "source": [
        "print(classes[y_test[index][0]])"
      ],
      "execution_count": 92,
      "outputs": [
        {
          "output_type": "stream",
          "name": "stdout",
          "text": [
            "літак\n"
          ]
        }
      ]
    },
    {
      "cell_type": "markdown",
      "metadata": {
        "id": "1QnZ1pfIA_jo"
      },
      "source": [
        "## Розпізнаємо додаткове зображення"
      ]
    },
    {
      "cell_type": "code",
      "metadata": {
        "id": "UjfiJbX7BEtA",
        "outputId": "9e52695f-ecc1-4d65-d906-19e1cfa61381",
        "colab": {
          "base_uri": "https://localhost:8080/",
          "height": 1000
        },
        "collapsed": true
      },
      "source": [
        "files.upload()"
      ],
      "execution_count": 160,
      "outputs": [
        {
          "output_type": "display_data",
          "data": {
            "text/plain": [
              "<IPython.core.display.HTML object>"
            ],
            "text/html": [
              "\n",
              "     <input type=\"file\" id=\"files-1cd3071e-226f-4b38-ab2d-3e9c2ad4cfd7\" name=\"files[]\" multiple disabled\n",
              "        style=\"border:none\" />\n",
              "     <output id=\"result-1cd3071e-226f-4b38-ab2d-3e9c2ad4cfd7\">\n",
              "      Upload widget is only available when the cell has been executed in the\n",
              "      current browser session. Please rerun this cell to enable.\n",
              "      </output>\n",
              "      <script>// Copyright 2017 Google LLC\n",
              "//\n",
              "// Licensed under the Apache License, Version 2.0 (the \"License\");\n",
              "// you may not use this file except in compliance with the License.\n",
              "// You may obtain a copy of the License at\n",
              "//\n",
              "//      http://www.apache.org/licenses/LICENSE-2.0\n",
              "//\n",
              "// Unless required by applicable law or agreed to in writing, software\n",
              "// distributed under the License is distributed on an \"AS IS\" BASIS,\n",
              "// WITHOUT WARRANTIES OR CONDITIONS OF ANY KIND, either express or implied.\n",
              "// See the License for the specific language governing permissions and\n",
              "// limitations under the License.\n",
              "\n",
              "/**\n",
              " * @fileoverview Helpers for google.colab Python module.\n",
              " */\n",
              "(function(scope) {\n",
              "function span(text, styleAttributes = {}) {\n",
              "  const element = document.createElement('span');\n",
              "  element.textContent = text;\n",
              "  for (const key of Object.keys(styleAttributes)) {\n",
              "    element.style[key] = styleAttributes[key];\n",
              "  }\n",
              "  return element;\n",
              "}\n",
              "\n",
              "// Max number of bytes which will be uploaded at a time.\n",
              "const MAX_PAYLOAD_SIZE = 100 * 1024;\n",
              "\n",
              "function _uploadFiles(inputId, outputId) {\n",
              "  const steps = uploadFilesStep(inputId, outputId);\n",
              "  const outputElement = document.getElementById(outputId);\n",
              "  // Cache steps on the outputElement to make it available for the next call\n",
              "  // to uploadFilesContinue from Python.\n",
              "  outputElement.steps = steps;\n",
              "\n",
              "  return _uploadFilesContinue(outputId);\n",
              "}\n",
              "\n",
              "// This is roughly an async generator (not supported in the browser yet),\n",
              "// where there are multiple asynchronous steps and the Python side is going\n",
              "// to poll for completion of each step.\n",
              "// This uses a Promise to block the python side on completion of each step,\n",
              "// then passes the result of the previous step as the input to the next step.\n",
              "function _uploadFilesContinue(outputId) {\n",
              "  const outputElement = document.getElementById(outputId);\n",
              "  const steps = outputElement.steps;\n",
              "\n",
              "  const next = steps.next(outputElement.lastPromiseValue);\n",
              "  return Promise.resolve(next.value.promise).then((value) => {\n",
              "    // Cache the last promise value to make it available to the next\n",
              "    // step of the generator.\n",
              "    outputElement.lastPromiseValue = value;\n",
              "    return next.value.response;\n",
              "  });\n",
              "}\n",
              "\n",
              "/**\n",
              " * Generator function which is called between each async step of the upload\n",
              " * process.\n",
              " * @param {string} inputId Element ID of the input file picker element.\n",
              " * @param {string} outputId Element ID of the output display.\n",
              " * @return {!Iterable<!Object>} Iterable of next steps.\n",
              " */\n",
              "function* uploadFilesStep(inputId, outputId) {\n",
              "  const inputElement = document.getElementById(inputId);\n",
              "  inputElement.disabled = false;\n",
              "\n",
              "  const outputElement = document.getElementById(outputId);\n",
              "  outputElement.innerHTML = '';\n",
              "\n",
              "  const pickedPromise = new Promise((resolve) => {\n",
              "    inputElement.addEventListener('change', (e) => {\n",
              "      resolve(e.target.files);\n",
              "    });\n",
              "  });\n",
              "\n",
              "  const cancel = document.createElement('button');\n",
              "  inputElement.parentElement.appendChild(cancel);\n",
              "  cancel.textContent = 'Cancel upload';\n",
              "  const cancelPromise = new Promise((resolve) => {\n",
              "    cancel.onclick = () => {\n",
              "      resolve(null);\n",
              "    };\n",
              "  });\n",
              "\n",
              "  // Wait for the user to pick the files.\n",
              "  const files = yield {\n",
              "    promise: Promise.race([pickedPromise, cancelPromise]),\n",
              "    response: {\n",
              "      action: 'starting',\n",
              "    }\n",
              "  };\n",
              "\n",
              "  cancel.remove();\n",
              "\n",
              "  // Disable the input element since further picks are not allowed.\n",
              "  inputElement.disabled = true;\n",
              "\n",
              "  if (!files) {\n",
              "    return {\n",
              "      response: {\n",
              "        action: 'complete',\n",
              "      }\n",
              "    };\n",
              "  }\n",
              "\n",
              "  for (const file of files) {\n",
              "    const li = document.createElement('li');\n",
              "    li.append(span(file.name, {fontWeight: 'bold'}));\n",
              "    li.append(span(\n",
              "        `(${file.type || 'n/a'}) - ${file.size} bytes, ` +\n",
              "        `last modified: ${\n",
              "            file.lastModifiedDate ? file.lastModifiedDate.toLocaleDateString() :\n",
              "                                    'n/a'} - `));\n",
              "    const percent = span('0% done');\n",
              "    li.appendChild(percent);\n",
              "\n",
              "    outputElement.appendChild(li);\n",
              "\n",
              "    const fileDataPromise = new Promise((resolve) => {\n",
              "      const reader = new FileReader();\n",
              "      reader.onload = (e) => {\n",
              "        resolve(e.target.result);\n",
              "      };\n",
              "      reader.readAsArrayBuffer(file);\n",
              "    });\n",
              "    // Wait for the data to be ready.\n",
              "    let fileData = yield {\n",
              "      promise: fileDataPromise,\n",
              "      response: {\n",
              "        action: 'continue',\n",
              "      }\n",
              "    };\n",
              "\n",
              "    // Use a chunked sending to avoid message size limits. See b/62115660.\n",
              "    let position = 0;\n",
              "    do {\n",
              "      const length = Math.min(fileData.byteLength - position, MAX_PAYLOAD_SIZE);\n",
              "      const chunk = new Uint8Array(fileData, position, length);\n",
              "      position += length;\n",
              "\n",
              "      const base64 = btoa(String.fromCharCode.apply(null, chunk));\n",
              "      yield {\n",
              "        response: {\n",
              "          action: 'append',\n",
              "          file: file.name,\n",
              "          data: base64,\n",
              "        },\n",
              "      };\n",
              "\n",
              "      let percentDone = fileData.byteLength === 0 ?\n",
              "          100 :\n",
              "          Math.round((position / fileData.byteLength) * 100);\n",
              "      percent.textContent = `${percentDone}% done`;\n",
              "\n",
              "    } while (position < fileData.byteLength);\n",
              "  }\n",
              "\n",
              "  // All done.\n",
              "  yield {\n",
              "    response: {\n",
              "      action: 'complete',\n",
              "    }\n",
              "  };\n",
              "}\n",
              "\n",
              "scope.google = scope.google || {};\n",
              "scope.google.colab = scope.google.colab || {};\n",
              "scope.google.colab._files = {\n",
              "  _uploadFiles,\n",
              "  _uploadFilesContinue,\n",
              "};\n",
              "})(self);\n",
              "</script> "
            ]
          },
          "metadata": {}
        },
        {
          "output_type": "stream",
          "name": "stdout",
          "text": [
            "Saving truck1.jpg to truck1.jpg\n"
          ]
        },
        {
          "output_type": "execute_result",
          "data": {
            "text/plain": [
              "{'truck1.jpg': b'\\xff\\xd8\\xff\\xe0\\x00\\x10JFIF\\x00\\x01\\x01\\x01\\x01,\\x01,\\x00\\x00\\xff\\xe1\\x00VExif\\x00\\x00MM\\x00*\\x00\\x00\\x00\\x08\\x00\\x04\\x01\\x1a\\x00\\x05\\x00\\x00\\x00\\x01\\x00\\x00\\x00>\\x01\\x1b\\x00\\x05\\x00\\x00\\x00\\x01\\x00\\x00\\x00F\\x01(\\x00\\x03\\x00\\x00\\x00\\x01\\x00\\x02\\x00\\x00\\x02\\x13\\x00\\x03\\x00\\x00\\x00\\x01\\x00\\x01\\x00\\x00\\x00\\x00\\x00\\x00\\x00\\x00\\x01,\\x00\\x00\\x00\\x01\\x00\\x00\\x01,\\x00\\x00\\x00\\x01\\xff\\xed\\x00,Photoshop 3.0\\x008BIM\\x04\\x04\\x00\\x00\\x00\\x00\\x00\\x0f\\x1c\\x01Z\\x00\\x03\\x1b%G\\x1c\\x01\\x00\\x00\\x02\\x00\\x04\\x00\\xff\\xe1\\x0c\\x81http://ns.adobe.com/xap/1.0/\\x00<?xpacket begin=\\'\\xef\\xbb\\xbf\\' id=\\'W5M0MpCehiHzreSzNTczkc9d\\'?>\\n<x:xmpmeta xmlns:x=\\'adobe:ns:meta/\\' x:xmptk=\\'Image::ExifTool 10.10\\'>\\n<rdf:RDF xmlns:rdf=\\'http://www.w3.org/1999/02/22-rdf-syntax-ns#\\'>\\n\\n <rdf:Description rdf:about=\\'\\'\\n  xmlns:tiff=\\'http://ns.adobe.com/tiff/1.0/\\'>\\n  <tiff:ResolutionUnit>2</tiff:ResolutionUnit>\\n  <tiff:XResolution>300/1</tiff:XResolution>\\n  <tiff:YResolution>300/1</tiff:YResolution>\\n </rdf:Description>\\n\\n <rdf:Description rdf:about=\\'\\'\\n  xmlns:xmpMM=\\'http://ns.adobe.com/xap/1.0/mm/\\'>\\n  <xmpMM:DocumentID>adobe:docid:stock:f1d1f960-80bb-4af3-a0ff-5d0576cb3e90</xmpMM:DocumentID>\\n  <xmpMM:InstanceID>xmp.iid:1aa3dd44-4a73-42da-b46b-44beeffcfa04</xmpMM:InstanceID>\\n </rdf:Description>\\n</rdf:RDF>\\n</x:xmpmeta>\\n                                                                                                    \\n                                                                                                    \\n                                                                                                    \\n                                                                                                    \\n                                                                                                    \\n                                                                                                    \\n                                                                                                    \\n                                                                                                    \\n                                                                                                    \\n                                                                                                    \\n                                                                                                    \\n                                                                                                    \\n                                                                                                    \\n                                                                                                    \\n                                                                                                    \\n                                                                                                    \\n                                                                                                    \\n                                                                                                    \\n                                                                                                    \\n                                                                                                    \\n                                                                                                    \\n                                                                                                    \\n                                                                                                    \\n                                                                                                    \\n<?xpacket end=\\'w\\'?>\\xff\\xdb\\x00C\\x00\\x05\\x03\\x04\\x04\\x04\\x03\\x05\\x04\\x04\\x04\\x05\\x05\\x05\\x06\\x07\\x0c\\x08\\x07\\x07\\x07\\x07\\x0f\\x0b\\x0b\\t\\x0c\\x11\\x0f\\x12\\x12\\x11\\x0f\\x11\\x11\\x13\\x16\\x1c\\x17\\x13\\x14\\x1a\\x15\\x11\\x11\\x18!\\x18\\x1a\\x1d\\x1d\\x1f\\x1f\\x1f\\x13\\x17\"$\"\\x1e$\\x1c\\x1e\\x1f\\x1e\\xff\\xdb\\x00C\\x01\\x05\\x05\\x05\\x07\\x06\\x07\\x0e\\x08\\x08\\x0e\\x1e\\x14\\x11\\x14\\x1e\\x1e\\x1e\\x1e\\x1e\\x1e\\x1e\\x1e\\x1e\\x1e\\x1e\\x1e\\x1e\\x1e\\x1e\\x1e\\x1e\\x1e\\x1e\\x1e\\x1e\\x1e\\x1e\\x1e\\x1e\\x1e\\x1e\\x1e\\x1e\\x1e\\x1e\\x1e\\x1e\\x1e\\x1e\\x1e\\x1e\\x1e\\x1e\\x1e\\x1e\\x1e\\x1e\\x1e\\x1e\\x1e\\x1e\\x1e\\x1e\\x1e\\xff\\xc0\\x00\\x11\\x08\\x01h\\x01\\xe0\\x03\\x01\\x11\\x00\\x02\\x11\\x01\\x03\\x11\\x01\\xff\\xc4\\x00\\x1d\\x00\\x00\\x01\\x05\\x01\\x01\\x01\\x01\\x00\\x00\\x00\\x00\\x00\\x00\\x00\\x00\\x00\\x00\\x01\\x02\\x04\\x05\\x06\\x07\\x03\\x08\\t\\xff\\xc4\\x00^\\x10\\x00\\x01\\x03\\x03\\x01\\x04\\x04\\x08\\x07\\x0b\\x07\\t\\x05\\x07\\x05\\x00\\x01\\x02\\x03\\x04\\x00\\x05\\x11\\x06\\x07\\x12!1\\x13AQa\\x14\"2q\\x81\\x91\\xa1\\xb1\\x08#3Rr\\xc1\\xd1\\x15\\x164Bbst\\x82\\x92\\xa2\\xb2$56CSc\\xc2\\x17%Dd\\x83\\x93\\xd2\\xe1\\xf0\\x18F\\xb3\\xc3\\xf1&\\'Eu\\x84\\x85\\xa3Ve\\x94\\x95\\xe2\\xff\\xc4\\x00\\x1a\\x01\\x01\\x01\\x01\\x01\\x01\\x01\\x01\\x00\\x00\\x00\\x00\\x00\\x00\\x00\\x00\\x00\\x00\\x01\\x02\\x03\\x04\\x05\\x06\\xff\\xc4\\x00&\\x11\\x01\\x01\\x01\\x00\\x02\\x02\\x02\\x01\\x04\\x03\\x01\\x01\\x00\\x00\\x00\\x00\\x00\\x01\\x11\\x02\\x12!1\\x03AQ\\x04\\x05\\x13a2q\\x81\\x91\\xb1\\xff\\xda\\x00\\x0c\\x03\\x01\\x00\\x02\\x11\\x03\\x11\\x00?\\x00\\xfb.\\x80\\xa0(\\n\\x02\\x80\\xa0(\\n\\x02\\x80\\xa0(\\n\\x02\\x80\\xa0(\\n\\x02\\x80\\xa0(\\n\\x02\\x80\\xa0(\"\\xce\\xb8B\\x82\\xd1v\\\\\\x96\\x99@\\xe6V\\xa0*\\xc9j^R2\\xb7\\xbdw\\x15\\xb6\\x1cM\\xad\\xa5<\\xee\\xe1R\\x1cq\\x047\\xc3\\xd4O\\xa3\\x85np\\xfc\\xb1y\\xb9\\xfd\\x9fm\\xb7T\\xcdH\\xba\\xd9\\xe3\\xbf\\x1f\\x88P\\x86\\x08w=X\\nV\\x0f}/\\x08Nmd]\\xb3\\xe9\\x15\\x81\\xe1\\x8c\\xdd\\xa0\\x1e\\xbe\\x9e\\n\\xf0=)\\xc8\\xac\\xf5^\\xcb\\xabv\\xd2\\xf4$\\xf2\\x12\\xc6\\xa7\\xb7\\x05\\x1f\\xc5q\\xcd\\xc3\\xeaV)\\xd6\\xafh\\xd1C\\xba[f$*%\\xc2#\\xe0\\xf2-\\xbc\\x95{\\x8dL\\xab\\xb10\\x1c\\xd4Q@P\\x14\\x05\\x01@P\\x14\\x05\\x01@P\\x14\\x05\\x01@P\\x14\\x05\\x01@P\\x14\\x05\\x01@P\\x14\\x05\\x01@P\\x14\\x05\\x01@P\\x14\\x05\\x01@P\\x14\\x05\\x01@P\\x14\\x05\\x01@P\\x14\\x05\\x01@P\\x14\\x05\\x01@PyH\\x90\\xc4v\\xcb\\x8f\\xba\\x86\\xd08\\x92\\xa5`\\n\\xb2Z\\x96\\xc8\\xcd\\xddu\\xc5\\xa6*U\\xe0\\xbb\\xf3\\x08\\xfcd` ~\\xb1\\xc0\\xadN\\x0c\\xde\\x7f\\x86N\\xe7\\xado\\x13R\\xaf\\x07)\\x8c\\xcfYhr\\x1d\\xeb_\\x0fP5\\xb9\\xc6F/+X\\x87u,i\\xd3\\x96\\xd4\\x07&_\\xa7$\\xe1M\\xdb\\x1aT\\xa5\\xa4\\xf6)\\xd3\\xe2#\\xd2SU\\x12#\\t\\xc2C\\xc2\\xe5n6\\xf9\\x06:\\x89eR\\x03\\xcb\\x00\\xe3\\x05JI#\\'\\xb0\\x13\\x8e\\xda%at\\xdd\\x85\\xfdKzE\\x9e4\\xa8\\xd1]t-A\\xc9\\x11\\xbatx\\xa38(\\xc8\\xe7\\xdb\\x9e\\x15\\x1b\\xf4\\xd0?\\xb2Mg\\x14\\x93\\x11znP\\xfe\\xe2T\\x98j\\xf5n\\xa9>\\xda\\x89\\xb1U7Dk\\xe6\\x06$ik\\x8c\\x94\\x8ef5\\xc2,\\xc1\\xeas\\n45G.\\xd7r\\xb7\\x12\\xb9\\xdan\\xf3\\x00\\x8e%n\\xd8^@\\x1f\\xae\\xc1\\xc5\\x15\"\\xc1\\xa8\\xae\\x8b\\xb8\\xb5o\\xb3j)H\\x96\\xe2\\xb7P\\xc3WW[Y<\\xfc\\x87\\x92z\\xb8\\xd0w\\x1d5h\\xda\\x0b\\xd1\\x12\\xb6v\\x8e\\xda\\x9e\\xc6z\\x196\\xf4\\xbe<\\xdb\\xc0\\xa0\\x9fUK\\xe3\\xe9g\\x9f\\xb5\\xc7\\xfe\\xf7!\\x0c\\xff\\x00\\xec\\x95\\xd9#\\xf2\\x9e\\x8c\\xb3\\xecP\\xf6\\xd6|5\\x94\\rY\\xae\\xe1\\x8c\\xdc\\xb6o%\\xe4\\x8ek\\xb7\\xdcY{\\xd4\\x92A\\xf6S!\\xb4\\x1d\\xa8[\\xe3\\x0f\\xf3\\xc6\\x9b\\xd56\\xae\\xd5?jqH\\x1f\\xac\\x90E:\\xff\\x00gd\\xb8;S\\xd0\\x12\\xd4\\x10\\x8dO\\x05\\xa7\\x0f\\xe2>\\xa2\\xd2\\xbdJ\\x02\\x9di\\xda4\\x90oVy\\xc9\\n\\x85t\\x85 \\x1eE\\xa7\\xd2\\xafq\\xa9\\x95{D\\xf0A\\x19\\x07\"\\xa2\\x8a\\x02\\x80\\xa0(\\n\\x02\\x80\\xa0(\\n\\x02\\x80\\xa0(\\n\\x02\\x80\\xa0(\\n\\x02\\x80\\xa0(\\n\\x02\\x80\\xa0(\\n\\x02\\x80\\xa0(\\n\\x02\\x80\\xa0(\\n\\x02\\x80\\xa0(\\n\\x02\\x80\\xa0(\\x1a\\xb5\\xa1\\t*Z\\x82@\\xeb&\\x82\\x82\\xe9\\xac,\\xd0\\xb7\\x92\\x87\\xcc\\xa7\\x13\\xcd,\\x8d\\xecy\\xcf!\\xe95\\xb9\\xc2\\xb1y\\xc6N\\xe7\\xae\\xeeR\\xb7\\x93oe\\x11\\xdb\\xf9\\xc9\\x1b\\xea\\xfd\\xa3\\x84\\x8fmjp\\x8c\\xdeV\\xb0\\xb3\\xb5CW\\t\\xca\\x8c\\xdc\\xa9W\\xc9\\xc9<c\\xdb\\xdbT\\xc7\\x12{\\xc8\\x1d\\x1b~\\x9cy\\xebL\\xa5\\xc5\\xb1k\\x1b\\x92\\x83\\x865\\xbe\\xc0\\xd1\\xe4\\xe4\\xc5\\xf8l\\xacw!\\x046\\x93\\xfa\\xe7\\xcdM\\x16\\xd1\\xb6}cR\\x83\\xb7\\xd7\\xa7j\\'\\x87\\x1f\\xf3\\x8b\\xb9d\\x1e\\xe6\\x11\\xba\\xdf\\xac+\\xcfP\\xd6\\xa6;,\\xc6\\x8e\\x88\\xd1\\x99i\\x86\\x100\\x86\\x9a@B\\x13\\xe6H\\xe0(\\x8c~\\xa4\\xfe\\x92I\\xfd\\x10{\\xabPb\\xf6<q\\xb48\\x7f\\x9b\\x7f\\xf8\\rEw\\xbd\\xe1\\xdbQ0dv\\xd0\\xc2\\xa5{\\xbcR\\xa2\\x9f1\\xc5\\x0cf\\xf5\\xe4\\x80c\\xc7`\\xe1KZ\\x8a\\xf2FH\\x03\\xbc\\xf2\\xe2kQ9)-\\x17g\\xe0\\xbc\\x95\\x05\\x9c\\x0e\\xbaXq\\xe5\\x8e\\x93\\xa7\\xef\\xac\\\\\\x1aJT\\xa0\\x1d\\xc7\\xae\\xb8\\xf2\\xe3\\x8e\\xfcyj\\xeb#\\xba\\xb2\\xd0\\xe1A\\x12}\\xb6\\xdbpN\\xec\\xf8\\x11e\\xa7\\xb1\\xe6R\\xb1\\xed\\x14\\x19\\xc9\\xfb2\\xd03VV\\xee\\x95\\xb6\\xb6\\xb3\\xf8\\xd1\\xdb\\xe8\\x0f\\xad\\xb2*\\xedL\\x8a\\xf3\\xb2\\xbb#\\x07z\\xd5z\\xd4\\xb6\\xa3\\xd4#]\\\\)\\x1e\\x85\\xef\\n\\xbd\\xaau\\x83\\xef7Y\\xc3\\xe3l\\xda]\\xc1@rE\\xc2\\x0bO\\x8fI\\x1b\\xa6\\x9d\\xbf\\xa3\\xa9:-\\xae\\xc2\\xe2\\x89zR\\xee\\x91\\xd4\\xb6\\xdd\\x8c\\xa3\\xea\\xde\\x14\\xf0y\\x1f};C\\x85\\xfc\\xe3\\xb3\\x93%#\\x9a\\xed\\xd7&\\xdc\\xfd\\xd5`\\xd3!\\xb4\\x9f\\xe5F,^\\x17\\x9d\\'\\xaa\\xad\\x98\\xe6\\xa7-\\xaaq#\\xd2\\x8c\\xd3\\xa9\\xd9*\\x1e\\xd64\\x04\\x95\\x04+QG\\x8a\\xbf\\x99)\\nd\\xfe\\xf0\\x14\\xebN\\xd1\\xa3\\xb7j+\\x05\\xc5!PoV\\xe9 \\xf2\\xe8\\xa4\\xa1_]L\\xab\\xda,\\xd2\\xa4\\xa8e$\\x11\\xda*)h\\n\\x02\\x80\\xa0(\\n\\x02\\x80\\xa0(\\n\\x02\\x80\\xa0(\\n\\x02\\x80\\xa0(\\n\\x02\\x80\\xa0(\\n\\x02\\x80\\xa0(\\n\\x02\\x80\\xa0(\\n\\x00\\x90\\x06I\\xa0\\xa7\\xbaj[=\\xb8\\x94=-.:?\\xabk\\xc7W\\xa8r\\xf4\\xd6\\xa7\\x1bY\\xbc\\xe3\\'s\\xd7\\xf2^*n\\xd7\\r(\\x1f=~:\\xbdC\\x80\\xf4\\x9a\\xdc\\xe1>\\xd8\\xbc\\xeb\\tv\\xd5\\xe6\\xe35P\\xd7p\\x91u\\x99\\xd7\\x0e\\x0bj\\x94\\xe0\\xf3\\xa1\\xb1\\xba\\x9f\\xd6\\xf5\\xd6\\xbcF}\\xbd\"X\\xf5}\\xcc\\xa4\\x88\\x10llu9qs\\xc2_\\x1efZ;\\x89>u\\xfa*i\\x8bx\\xfb>\\xb48B\\xef\\xd3.\\x1a\\x81\\xc1\\xf8\\x93\\x1d\\xdc\\x8e<\\xcc7\\xba\\x8c}-\\xea+U\\x0e4hQ\\x13\\x12\\x1cfb\\xc7G\\x04\\xb2\\xcba\\xb4\\'\\xcc\\x94\\x80\\x05\\x12\\xdd<\\x9cQ\\r\\xa0CA\\x8c\\xd4\\xbf\\xd2I\\x1d\\xf1\\x07\\xba\\xb4\\x8c6\\xc9U\\xbb\\xb4(\\x7fE\\xe1\\xfb\\x8a\\xa8\\xdf\\xd3\\xbct\\x82\\x8c\\xe8\\xe9(h\\xe9\\x05\\rc5T\\x8e\\x9e\\xee\\xe0\\x07)i!\\x03\\xde}\\xa6\\xb5\\x19\\xbe\\xd5UQ&\\x04\\xc7\\xa2:\\x16\\xda\\x88\\xc7UK5e\\xc7D\\xd3:\\x91\\xa9\\xad\\xa5\\x99\\x0b\\x01\\xce@\\x9a\\xe3\\xcb\\x8e;q\\xe7\\xad\\x1e\\xf5c\\x1d\\x0b\\xbd@oP.\\xf5\\x01\\xbd@\\xbb\\xd4\\x06h\\x0c\\xd0F\\x99o\\xb7MIL\\xc8\\x11d\\x83\\xd4\\xeb)_\\xbcP\\xc6n\\xe3\\xb3]\\x05<\\x95?\\xa5m\\xa9Y\\xfcv\\x9a\\xe8\\xd5\\xebN*\\xedL\\x8a\\xc5l\\x97N\\xb2w\\xadW=AiWW\\x82\\xdc\\xdc\\x00z\\x14H\\xab\\xda\\xa7XC\\xa25\\x84>6\\x9d\\xa6]\\xb09\"tv\\xdf\\x1e\\xbc\\x03N\\xc7Z\\x9f\\xa7\\xe2m\\x1e%\\xcd)\\xbd^,\\x97\\x18\\x1b\\x8a\\xca\\xd9\\x8a\\xa6\\x9e\\xde\\xc7\\x8b\\xd7\\x8cv\\xd4\\xb8\\xb3[\\x18\\xe5\\xc2\\xcaz`\\x02\\xfa\\xc0\\xa8\\xafJ\\x02\\x80\\xa0(\\n\\x02\\x80\\xa0(\\n\\x02\\x80\\xa0(\\n\\x02\\x80\\xa0(\\n\\x02\\x80\\xa0(\\n\\x02\\x80\\xa0(\\n\\n\\xfb\\xa5\\xee\\xd7m\\x1f\\xca\\xe64\\x85u \\x1c\\xa8\\xfa\\x07\\x1a\\xb3\\x8d\\xac\\xdeR2wM\\xa0\\xa4\\xa8\\xb5k\\x84\\xa5\\xab\\xe7\\xbb\\xff\\x00\\x08\\xe3\\xeb\\xc5np\\xfc\\xb3y\\xdf\\xa6\\x16\\xf7\\xad\\xe4M\\x98`\\xbdsvT\\xa3\\xfe\\x83\\x05\\ny\\xdf1m\\xac\\x91\\xfa\\xc7\\x15\\xac\\x91\\x9f5\\xe7\\x12\\xc9\\xabn@\\x06\\xad\\x91l\\xcc\\x1f\\xeb.\\x8e\\x07]\\xf3\\x88\\xed\\x1c\\x03\\xf4\\x96)\\xa6.cl\\xfa\\xda\\xe0\\x06\\xff\\x00q\\xb8_U\\xd6\\xd3\\xcet\\x11\\x87\\x99\\x96\\xb0\\x08\\xfaEU4j`C\\x87o\\x88\\x98v\\xf8\\x91\\xe1\\xc6O&c\\xb4\\x96\\xd0?U \\n\\x0fRz\\x85P\\xda2i4\\r\\xa0C@\\x84\\xd0c5\\'\\xf4\\x91\\xef\\xd1\\x07\\xba\\xb40[-V\\xee\\xd0!\\x9f\\xcf\\x7f\\x02\\xaa5\\xf4\\xee]%FGI@\\x8ax%%J\\xe4\\x91\\x93Ta^p\\xba\\xf2\\xddW5\\xa8\\xa8\\xfakl\\x1b@P=\\x87\\x9ce\\xc0\\xb6\\xd4A\\x15\\tq\\xba\\xd2\\xda\\x99.\\xa51\\xa5\\xab\\x07\\x90Q\\xea\\xae|\\xb8\\xbbq\\xe7\\xf9kR\\xe0 \\x10A\\x07\\x95a\\xb2\\xef\\xd0\\x1b\\xf4\\x0b\\xbfQK\\xbf@oS\\r.\\xfd0\\xd1\\xbdL4\\xbb\\xd4\\xc3F\\xf50\\xd2\\xef\\xd3\\r.\\xf5L]\\x1b\\xd4\\x06\\xf5\\x02\\xefP*W\\xc7\\x8d\\x03\\xe8\\n\\x02\\x80\\xa0(\\n\\x02\\x80\\xa0(\\n\\x02\\x80\\xa0(\\n\\x02\\x80\\xa0(\\n\\x02\\x82-\\xc2\\xe3\\x06\\xde\\xdfI2SL\\'\\xf2\\xd5\\x82|\\xc3\\xae\\xac\\x96\\xa5\\xe5#-t\\xd7\\xf0\\x9aQj\\xdd\\x19\\xc9Nu\\x15x\\xa9\\xf5s>\\xaa\\xdc\\xe1\\xf9b\\xf3\\xfc0\\xd7\\xfd\\x7f2D\\xaf\\x01r\\xe4R\\xfa\\xbc\\x98P\\x90\\xa7\\x1e?\\xa8\\xdeW\\xeb\\xc5k$gmD\\x89f\\xd5\\xb7C\\xbc\\xcd\\xa9\\x9b[*\\xe6\\xfd\\xd9\\xdf\\x1c\\xf7\\xf4\\r\\x12\\xa3\\xfa\\xeaM4\\xea\\xb9\\x89\\xb3\\xe8.$\\x1b\\xf5\\xd2\\xe1x\\xedc{\\xc1b\\xf9\\xba&\\x88*\\x1fIJ\\xa9\\xa3Ql\\x81\\x02\\xd5\\x10D\\xb6A\\x8d\\x068\\xfe\\xaa3Im\\x1e\\xa4\\x81\\x9fM\\x07\\xb94\\r&\\x81\\xa4\\xd5\\r\\xa3&\\x93@\\xda\\x044\\x08M\\x03I\\xa0\\xc7j_\\xe9\\x1b\\xbf\\xa2}U\\xa1\\xcfvh\\xad\\xdd{\\x0f\\xe9;\\xfc\\n\\xac\\xadv\\xde\\x92\\xaa\\x0e\\x92\\x82\\x06\\xa0\\x94\\xe4{4\\x97[in\\x90\\x9c\\x14\\xa0d\\xe0\\x9c\\x13\\xe8\\x14\\x19H\\x92\\xd8\\x94\\x8d\\xe6V\\x0fh\\xeb\\x15\\xadc1\\xefT\\x14\\x05\\x02\\xa5JJ\\x82\\x92H#\\xae\\x83]\\xa5\\xf5!ov,\\xb5e<\\x81\\xec\\xae|\\xb8\\xbaq\\xe7\\xf4\\xd9!\\xe4\\xad!I!I<\\x88\\xeb\\xaen\\xa7o\\xd0.\\xfd\\x02\\xef\\xd0.\\xfd\\x01\\xbf\\xdf@\\xbb\\xf4\\x0b\\xbf@o\\xf7\\xd0.\\xfd\\x02\\xef\\xd0\\x1b\\xf4\\x0b\\xbf@o\\xd0(]\\x15\\xec\\xcb\\x9b\\xde)\\xe7R\\x91\\xe9QE\\x01@P\\x14\\x05\\x01@P\\x14\\x05\\x01@P\\x14\\x05\\x01A\\xe5*Lx\\xad\\x17d\\xbe\\xdb(\\x1c\\xd4\\xb5\\x00=\\xb4\\xcdKq\\x99\\xba\\xeb\\xabLRQ\\x1095\\xce\\xad\\xc1\\xba\\x9fY\\xe7\\xe8\\x06\\xb78Vo6#P\\xed\\x1aj\\xa4x\\'\\x867\\r\\xd5\\xf9\\x11c$\\xb9!^d$\\x15\\x9fP\\xad\\xf5\\x91\\x8e\\xd6\\xab#\\xda\\xf5u\\xe1\\xce\\x95\\xabQ\\x82\\x95s\\x93xx\\xa1G\\xbc2\\x8d\\xe7\\x0f\\x99E\\x14\\xd3\\x170\\xb6}\\x19i\\xcd\\xf6\\xf1:\\xe6\\x0f8\\xec\\x9f\\x03\\x8d\\xe6(l\\xef\\xa8}%\\x9am\\\\jm6\\xcbm\\x9e/\\x82\\xdam\\xf1m\\xecu\\xb7\\x19\\xa4\\xb6\\x0f\\x9f\\x1c\\xfc\\xe75\\x04\\x82h\\x86\\x93@\\xd2h\\x1aM\\x03I\\xaa\\x86\\xd1\\r&\\x81\\xa6\\x81\\r\\x02\\x13@\\xd2h\\x10\\x9a\\x0c~\\xa4\\xfe\\x91/\\xf4O\\xb6\\xb5\\x079\\xd9\\xda\\xb1\\xaf!\\xfd7G\\xee\\xaa\\xb2\\xd5\\xf4\\xed\\x1b\\xfd\\xf5Y\\x1b\\xfd\\xf4\\x08])\\x1b\\xd9\\xf2x\\xd0p\\xd9\\x91\\xef\\xd6I\\x8b}\\xb5-\\xe6\\xd4\\xb2\\xb2\\x85\\x1e\\xd3\\x93\\x83Z\\xc6u}`\\xd5\\xf1\\xa5\\xa81\\'-\\xbc9\\xa5C\\n\\xff\\x00\\x9f\\xa2\\x86o\\xa6\\xa1\\xa7\\x1bu\\x01m\\xac)\\'\\xacUC\\xe8\\n\\x00p9\\x14\\x1aM5\\xa8\\x17\\x19B<\\x95\\x12\\xd9\\xe4{+\\x1c\\xb8\\xb7\\xc7\\x93f\\xdb\\xe9q\\x01hV\\xf2O\\x10Es\\xc7]89\\xdfL4\\xa1\\xcab\\xe9zJa\\xa5\\xe9*a\\xa5\\xe9\\x050\\xd2\\xf4\\x82\\x98\\x148;h\\x17\\x7f\\xbe\\x81w\\xe8\\x14.\\x80\\xdf\\xa0]\\xfa\\x05\\xdf\\xa0T\\xb9\\x83\\x90x\\xd0Ne\\xc0\\xe229\\xf5\\x8a\\xcbG\\xd0\\x14\\x05\\x01@P\\x14\\x05\\x01@P\\x14\\x05\\x03\\\\Z\\x1bA[\\x8bJ\\x129\\x95\\x1c\\x01A\\x9e\\xba\\xeb;$\\x1c\\xa5\\x0f\\x99n\\x0f\\xc5dd~\\xd7*\\xd4\\xe1k\\x17\\x9cb\\xb5\\x0e\\xd2\\xe4!\\xd1\\x19\\xb7\\x18\\x80\\xb7<\\x86\\x80.\\xc8_\\xd1@\\x05G\\xd0\\x9a\\xdc\\xe1\\'\\xb6{Z\\xa7D-c~t<\\x9bc\\xcc\\xa5_\\xe97\\x87\\x8b>\\x90\\xd2w\\x9c>\\x90\\x8a\\xbb>\\x93\\x16\\xf0v|\\xd2\\xc6\\xf5\\xf6\\xf56v|\\xa8\\xf1?\\x91\\xb1\\xe6;\\x84\\xb8\\xa1\\xe7_\\xa2\\xa6\\xd5\\xc8\\xd4Y\\xad\\x16\\xab,s\\x1e\\xcfm\\x89ol\\xf9B;A\\x1b\\xdfH\\x8e*\\xf4\\x93A.\\x81\\xa4\\xd05F\\x88a4\\r&\\x81\\xa4\\xd05G\\xaa\\xaa\\x1bD4\\x9a\\x06\\x9a\\x044\\x08M\\x03I\\xa0Bh\\x1ah2\\x1a\\x93\\xfaB\\xaf\\xd1>\\xda\\xd29\\xb6\\x82V\\xee\\xba\\x87\\xf9\\xd7?\\x85U\\x1b\\xbe\\x9d\\x8b~\\xab#~\\x83\\xceK\\x98\\x8e\\xe1\\xfc\\x93B\\xa8\\x1dm\\xb7PP\\xe2\\x02\\x92z\\x8di\\x86b\\xff\\x00\\xa4b\\xcc\\x05\\xc8\\xe3u|\\xc0\\xe4A\\xee4\\x19\\xf6e\\xdft\\xeb\\xfb\\xae\\x85\\xc8`\\x1e\\xbf(\\x0f\\xae\\xa6.\\xb5\\xb6-M\\x02\\xe6\\x80\\x03\\x81\\x0eu\\xa4\\xf0\\xc7\\x9cuSL\\xfc/\\x01\\x04d\\x1c\\x8a\\xa8Z\\x02\\x82\\xf7N\\xde\\x97\\x15a\\x87\\xd4T\\xd1\\xe5\\xddX\\xe5\\xc5\\xbe<\\x9b\\x06\\xdfJ\\xd0\\x16\\x85e\\'\\x885\\xcd\\xd4\\xee\\x93\\xbe\\x81\\xc1\\xce\\xfa\\x03\\xa4\\xa0^\\x92\\x81zJ\\x05\\xe9(\\x17\\xa4\\xa0:J\\x07t\\x9d\\xf4\\n\\x1c\\xef\\xa0^\\x92\\x98\\x00\\xe50\\xd2\\xf4\\x94\\xc3^\\xd1\\xa4\\xf4N\\x82|\\x93\\xc0\\xd4\\xb1ul\\x08##\\x885\\x96\\x85\\x01@P\\x14\\x05\\x01@P\\x04\\xe3\\x9d\\x05%\\xdbT\\xd9-\\xb9K\\xb3\\x12\\xe3\\x83\\xfa\\xb6|u{8\\x0fMjq\\xb5\\x9b\\xceF/P\\xed;\\xc1\\xc8j:X\\x84W\\xc1\\xbe\\x98\\xef\\xba\\xbf\\xa2\\x81\\xc4\\xfa\\x01\\xad\\xce\\x12{c\\xbd\\xbe\\x94joZjE\\x85\\x8b|\\xa4\\xb4\\xae!\\xeb\\xa3\\x863`v\\x86\\x80.\\x1f\\xd8O\\x9e\\xae\\xc9\\xe92\\xdfkX\\x1b>\\x0b\\xc2\\xafw\\xc9R\\xbbX\\x82<\\x11\\x9f1P%\\xd5\\x0f\\xd7\\x1ej\\x9d\\xaa\\xe4i\\xec\\xb6[=\\x8d\\xa2\\xdd\\x9e\\xd9\\x16\\x08W\\x94Yl\\x05/\\xe9+\\xcaW\\xa4\\x9a\\xc8\\x9aj\\x86\\x93T4\\x9a\\x06\\x93@\\xd5\\x1a!\\x84\\xd04\\x9a\\x06\\x93@\\xd5\\x1e\\xa1U\\r\\xa2\\x1aM\\x03M\\x02\\x1a\\x04&\\x81\\xa4\\xd0!4\\r&\\x81\\t\\xaa2:\\x93\\xfaB\\x7fD\\xfbj\\x8ec\\xa2U\\xbb\\xae\"~y\\xcf\\xe1UF\\xaf\\xa7]\\xe9<\\xf5X\\x1d\\'\\x9e\\x83\\xceS\\x9f\\xc9\\xd6;E!j\\xb6\\xb4\\xc8\\xa0\\xf1\\x95\\x15\\x89M\\x94<\\xd8P>\\xba\\x0c\\x85\\xf7G\\x02\\xbf\\t\\x80\\xa5!\\xc4\\xf1\\x05\\x07\\n\\x14\\x15\\xf6\\xfdAw\\xb1\\xba\\x18\\xb94\\xa7\\xd9\\x1c7\\xc0\\xe2<\\xe3\\xec\\xa8\\xbb\\xf9m-\\x17\\x98\\x17FC\\x91\\x9fA\\'\\xab4\\xd3\\x165PP]\\xd8.\\xea\\x8e\\xa0\\xc3\\xea\\xcbg\\x91\\xec\\xacr\\xe2\\xdf\\x1e_MB]\\nHRH \\xf5\\x8a\\xc3\\xa1\\xdd%\\r/IP\\xd2\\x87\\x07m\\r(s\\xbe\\x86\\x97\\xa4\\xef\\xa1\\xa5\\x0ew\\xd0/IE/I@\\xa1\\xca\\x05\\x0e\\n\\x03\\xa4\\xef\\xa0^\\x93\\xbe\\x81B\\xfb\\xe8-\\xec\\xf2:F\\xcb*>28\\x8f5f\\xc6\\xa2}E\\x14\\x05\\x01@P\\x14\\x05\\x07.\\xd6\\xcd\\xdf\\xeez\\xcam\\xb2\\xcc\\xd1q\\xb6\\xe3\\xb0\\xa7\\xd6\\xf4\\xbe\\x89\\x86\\xf7\\x82\\xf7r\\x06T\\xa3\\xe2\\xa8\\xe1)\\xf4\\xd7N6G>SL\\xb7\\xec\\xf5K\\xc2\\xafW\\xc9\\x0e\\x8e\\xb8\\xf6\\xf4\\xf83~b\\xb2K\\x87\\xd0S\\xe6\\xab\\xda\\xa7X\\xd3\\xd9,V[\\x1aH\\xb4[\"\\xc3R\\xbc\\xa7\\x1bG\\xc6/\\xe9,\\xe5J\\xf4\\x93Yi`h\\x86\\x93D0\\x9a\\xa1\\t\\xaa\\x18M\\x03I\\xa0j\\x8d\\x10\\xc2h\\x1aM\\x03I\\xa0i=\\x95p6\\x8c\\x9aM\\x03M\\x02\\x1a\\x04&\\x81\\xa4\\xd0!4\\r&\\x81\\t\\xaa\\x1aMQ\\x93\\xd4\\xbf\\xd2\\x0f\\xfe\\x93\\xed\\xa29v\\x90;\\xba\\xde)\\xfe\\xfd~\\xe5Tn\\xfau}\\xfe\\xfa\\xac\\r\\xfe\\xfa\\x06>\\xac\\xb4EXTZ\\xac\\x8a\\x02\\x80\\xa0\\x87p\\xb7E\\x9c\\x82\\x97\\x9a\\x04\\x9e\\xbcq\\xa0\\xc6]\\xf4\\x9c\\xa8/\\x19\\x96\\xb7T\\xda\\xc7\\x1c\\xa3\\xaf\\xce(z>\\xd3\\xab\\xe5AX\\x8b|`\\x808t\\xc9\\x1c==\\x95\\x17\\xc5m \\xcd\\x8d5\\x90\\xecg\\x92\\xe2H\\xcf\\x03D\\xc4\\x8a\\xa2\\xee\\xc7s(\";\\xca\\xf1z\\x8fec\\x94o\\x8f%\\xf8s\\x87\\x03Yl\\xbd\\'}@\\xa1\\xce\\xfa\\xa0\\xe9;\\xea\\x05\\xe9(\\x149@\\xbd%\\x02\\xf4\\x9d\\xf4\\xc0\\xbd\\'}\\x02\\x87;\\xe8\\x17\\xa4\\xa8\\x149Ut\\xa1\\xca\\x0fhr\\xbc\\x1eJ\\x1d\\xe3\\x80x\\xf7\\x8e\\xba\\x98J\\xd5$\\x85$(\\x1c\\x822\\ra\\xd0\\xb4\\x05\\x01@P\\x14\\x05\\x06>7\\ry\\xa8\\x7fG\\x83\\xeez\\xb5\\x19\\xabRj\\xa1\\xa4\\xd1)\\xa4\\xd1\\x0c&\\xa8i5CI\\xa0i4\\x0cQ\\xa2\\x1aM\\x03I\\xa0i4\\rQ\\xea\\x15`m\\x194\\x9a\\x06\\x9e4\\x08h\\x10\\x9a\\x06\\x93@\\x84\\xd04\\x9a\\x06\\x93T!5Ch2\\xba\\x97\\xf9\\xfc~\\x8a~\\xba#\\x95ic\\x8dk\\x1b\\x8f\\xfaB\\xfd\\xca\\xa8\\xdd\\xf4\\xea]\\'y\\xaa\\xc0\\xe9;\\xcd\\x02)yN3V%2\\xaa\\n\\x02\\x80\\xa0(\\n\\n\\xcb\\xad\\x92\\x15\\xc1\\x04-\\xb4\\xa5G\\xac\\n\\x0cd\\xcb\\r\\xda\\xc2\\xf9\\x93jyHNs\\xba8\\xa0\\xfa*\\x0bk&\\xb4iKL[\\xbbF#\\xdc\\xb7\\xcf\\x92\\xafM\\x15\\xaee\\xd48\\x80\\xe3K\\nI\\xe2\\x084E\\xed\\xa6\\xe3\\xbc\\x03\\x0e\\xab\\xc6\\x1c\\x8df\\xc6\\xf8\\xd5\\xa0w\\xbe\\xb2\\xd6\\x94;\\xdfCJ\\x1d\\xef\\xa1\\xa5\\xe9h\\xbaP\\xed\\x02\\x87h\\x14;\\xdf@\\xa1\\xca\\x05\\xe9(\\x17\\xa4\\x14\\n\\x1c\\xa0^\\x93\\xbe\\x81C\\x94\\x1a\\x9d;\\'\\xa7\\xb7\\x84\\x93\\x954wO\\x9b\\xaa\\xb9\\xd8\\xe9\\xc6\\xf8YTQ@P\\x14\\x05\\x01A\\x8fd\\xff\\x00\\xed\\xdd\\xff\\x00\\xf4h>\\xe7\\xebQ\\x9a\\xb3&\\xab&\\x93D0\\x9a\\xa1\\xa4\\xd5\\r&\\x81\\xa4\\xd01F\\x88i4\\r&\\x81\\xa4\\xd05G\\xa8U\\r\\xa3$&\\x81\\x87\\x8d\\x02\\x1a\\x04&\\x81\\xa4\\xd0!4\\r&\\x81\\t\\xaa\\x1aMP\\xda\\x04&\\xa22\\xba\\x97\\xf9\\xf9?\\xa2\\x9f\\xae\\xa9\\x1c\\x9fM\\x9ckH\\xff\\x00\\xa4\\xaf\\xfcU\\x9f\\xb7K\\xe9\\xd3\\xb7\\xfb\\xebNc\\x7f\\xbe\\x81\\xae8\\xa4\\xb6\\xa5%%j\\x03!#\\xaf\\xba\\x85P9\\xac 6\\xe1m\\xd6d6\\xb0pR\\xa6\\xc8#\\xd1WS\\r\\xfb\\xf6\\xb3\\x8f)k\\x1e\\x8ai\\x83\\xef\\xe2\\xc3\\xf8\\xd21\\xe7\\xc54\\xc2\\xfd\\xfdi\\xce\\xb9\\xc8\\x1er)\\xa6\\x14k\\x9d1\\xd7sdy\\xd4)\\xa6S\\x86\\xb8\\xd2\\xddw\\x88\\xc3\\xce\\xb1M\\x86S\\x93\\xadt\\xa9\\xff\\x00\\xe3\\x90\\xc7\\x9d\\xc1M2\\x9f\\xf7\\xdf\\xa5V0o\\xb6\\xf2\\x0fQtSL\\xaa{\\xcb\\x9a6\\xe4\\x85n^\\xad\\x89Y\\xfe\\xfd8\\xa6\\x99Y\\xc6nn\\xe9\\xf7\\xb7\\xad\\xb7\\xa8O\\xb0\\x0f\\xc8\\xaaJH\\xc7w\\x1e\\x14<\\xb4V\\xdd\\xa1Y\\xa5n\\x87\\xa6\\xb1\\x12By\\x85:\\x9cg\\xcf\\x9cTX\\xd1[\\xb6\\x87iu\\x00\"\\xe3o\\x97\\x8e\\x19fR\\x14}\\x86\\xa3^V\\xf1\\xf5}\\xbd\\xd0\\tC\\xa0\\x1e\\xb02**cZ\\x96\\xd6\\xbf\\xf4\\x9d\\xdf\\xa41A-\\xab\\xbc\\x07<\\x89\\x8d\\x1f\\xd6\\xa0\\x92\\x89m/\\xc8y\\n\\xf3(Pz\\x07s\\xd7P8;@\\xa1\\xda`^\\x96\\x98\\x17\\xa5\\xa6\\x1aP\\xed\\r/K\\xdfCN\\xe9{\\xe8j\\xf3G\\xc9\\xc5\\xc1\\xc6\\t\\xe0\\xe3y\\x1eq\\xff\\x00\\xa9\\xac\\xf2k\\x8dj\\xeb\\x0e\\x82\\x80\\xa0(\\n\\x02\\x83\\x1c\\xdf\\xf4\\xf2\\xfd\\xfa,\\x1f\\xfc\\xfa\\xd4g\\x92\\xc8\\x9a\\xac\\x18MP\\xd2j\\x86\\x93@\\x84\\xd01F\\x88a4\\r&\\x81\\xa4\\xd05G\\xa8U\\r\\xa3$&\\x81\\x87\\x8d\\x02\\x1a\\x04&\\x81\\xa4\\xd0!4\\r&\\x81\\xa4\\xd5\\x08MP\\x86\\x81\\xa4\\xd4B\\x1a\\xa8\\xcbj_\\xe7\\xd4~\\x8a\\x7f\\xc5E\\x8eIb8\\xd6L~\\x94\\xaf\\xf1Tn\\xfat\\x8d\\xfe\\xfa\\xaec{\\xbe\\x80\\xde\\xef\\xa0s`\\xba\\xeaR\\x90\\n\\x8f\"h9\\xee\\xa4\\xd0v7.\\xefLf\\xd7\\xb8\\x97TV\\xe6\\xebaAJ<\\xd4\\x01#\\x19\\xec\\xf7T\\xb1\\xa9\\xc8\\x96\\x9d\\x98\\xfd\\xd7m\\xd5\\xd9cD\\xc3$\\x05\\xf8T\\x1462z\\x82\\xbaB\\t\\xa9\\x8dk\\xce~\\xc5\\xf5\\x9b\\xa3u\\x8f\\xb8-\\'\\xf2\\\\i\\xbfhJ\\x8d\\x13^\\xd6\\xcd\\x83\\xddx\\x1b\\x8c\\x8b&z\\xf7f-_\\xe1\\xa6\\x1d\\x9a{f\\xc44\\xfbX\\xf0\\xe5\\xc0_n\\xe3\\xcb\\xfb\\x05\\\\;W\\xae\\xa7\\xd0{ \\xd31#\\xbb}\\x8c\\xd8\\xe9\\xd4P\\x8d\\xc5<\\xe1Q\\x03\\'\\x80<\\x00\\xa9r{YmA\\x8d\\xa2\\xb6\\x1b6lhb\\x0bm\\xbb)[\\xad\\xef\\x95\\xf3\\xdd*\\xe3\\x85\\x1d\\xde\\x00\\xf3\\xa9\\xe1|\\xaeN\\xc26_)\\xa0\\xb8\\xf0\\x92\\x80\\xa1\\x90P\\xf1\\x1f\\xc4\\r\\\\\\x89\\xde\\xa8\\xae_\\x06-\\x12\\xe8[\\x91\\xa5]\\x10NO\\xe1EI\\x1e\\x84\\xe3\\x15:\\xc3\\xb5xC\\xf8%\\xec\\xf1\\xc6\\xd4\\xe7\\xdd[\\xc9+\\x19\\xca\\xca\\x16\\x90z\\xf0G\\xd7S\\xac^\\xf5\\xe7m\\xf8\\'i6\\xa7-7)(\\x9b\\x04\\x8c$\\xb4V\\xc3\\xe8=\\xb9\\n)?\\xb2*\\xf5\\x89\\xde\\x89\\xdf\\x04\\x9d4\\x85t\\x96-k\\xa9\\xad\\xc7<\\x1bS\\xad\\xac\\x0f1\\x1b\\xa6\\xa7U\\xef^l\\xfc\\x1au$C\\xfc\\x87kw\\xe4\\x01\\xf8\\xab\\x1b\\xdf\\xe3\\xfa\\xaa\\xe7\\xf6\\x9d\\xbf\\xa5\\x84M\\x88\\xeb\\xf8\\x89\\xc7\\xf9C\\x91+\\x03\\x81RZ\\xe3\\xe8Sg\\xdfW?\\xb3\\x7f\\xa5\\xed\\xa7d\\xfa\\xd0#\\xf9N\\xb8m\\xa5\\x0e]%\\xad\\xa7\\x07\\xad\\x0e\"\\x86\\xac\\xd3\\xb3\\x8dn\\xc7\\xc8\\xeb\\x0b3\\xd8\\xf9\\xf0\\x1fo\\xdc\\xea\\xa9\\xe4\\xd8\\xa2z\\xd9\\xb6x\\x0f)\\n\\xd3\\xb6\\xe9\\xcd\\xa4\\xf8\\xaeC\\xbc\\x83\\xbc;w\\\\m$y\\x8d<\\x9b\\x00\\xb9\\xed&2s3F\\\\\\x91\\x8e{\\xabm\\xcfq\\x14\\x16\\xf1f\\xeb\\xb7#\"G\\xde}\\xc1m\\xa8dn\\xa5\\xa5\\x1fPs>\\xca\\x08W\\xadkp\\xb0F\\x12o\\xfaz\\xe9n`\\xabw\\xa5z\\x03\\xdb\\x99\\xec\\xdeJH\\x15<\\x18\\xa8om\\x9a/8z\\xf1oh\\xf69#\\xa3?\\xbc\\x056.U\\x94]\\xac\\xe8\\xc7\\xc0(\\xbd\\xdb\\xc8<\\x88\\x98\\xd1\\x1f\\xc5O\\x1f\\x94\\xca\\xbb\\xb7\\xeb;%\\xc1\\xb59\\nO\\x84\\xa18\\xdeS8p\\'=\\xa59\\xc5Q\\xad\\xd9\\xf5\\xc1\\xab\\x95\\xf5\\n\\x88\\x1cZ\\x1aJ\\x8b\\x8a( \\'\\x86\\x07\\x1f=g\\x97\\xa5\\xe3\\xed\\xd1\\xeb\\x9b\\xa8\\xa0(\\n\\x02\\x80\\xa0\\xc6\\x8e\\x1a\\xee\\xfb\\xfa,/\\xfc\\xfa\\xd4c\\x92\\xc0\\x9a\\xd3$&\\xa8a4\\x08M\\x03\\x14h\\x86\\x13@\\xd2h\\x1aM\\x03Tz\\xaa\\x86\\xd1\\x92\\x13@\\xc3\\xc6\\x81\\r\\x02\\x13@\\xd2h\\x10\\x9a\\x06\\x93@\\xd2j\\x84&\\xa8m\\x02\\x13Q\\r\\xaa\\x80\\x9a\\x0c\\xbe\\xa5\\xfe{o\\xf4c\\xfe*,r\\x1b9\\xc6\\xb0g\\xf4\\xa5{\\xcdF\\xef\\xa7D\\x0b\\xef\\xab\\x8ec\\x7f\\xbe\\x98\\r\\xfe\\xfa`\\x9bn\\x03\\xa1u\\xd2@$\\x86\\xc1>\\xb3\\xf5z\\xea\\xc8\\x95%1\\xd0\\xe7\\x8ad03\\xd4\\xad\\xef\\xb2\\xaab\\xca<fc\\xb2\\x1aD\\xb6\\x92\\x91\\xd4\\x94\\xaf\\x9f_UF\\x8f)g\\xaeY>f\\xd5@\\x9b\\xb1\\xfa\\xe48|\\xcd\\x7f\\xfe\\xa8\\x83v7\\xf6\\xaf\\x7f\\xbb\\x1f\\xf1S\\xc8\\xcbm\\x07E[5\\x8cx\\xadH\\xbc\\xdd\\xad\\xde\\x0cTB\\xa2!\\xbc\\xa8+\\x19\\x07{8\\xe5\\xd5Y\\xe5\\xc7Z\\xe3\\xcb\\xaa\\xb7Kl\\xce\\xcbc\\xb8D\\x99\\xf7~\\xf58\\xc5R\\x94\\x84Ii\\xac\\x12RS\\xc7w\\x07\\x914\\x9cqo=o\\x12\\x88\\xe4\\x80\\x99KA\\xfc\\xa6\\xb0=\\x84\\xd6\\x99\\xf0\\xcd\\xe9\\xad\\xa5X\\xae\\x1a\\x9eN\\x9f\\x83rt\\\\c\\xadI\\xe8_iM\\xf4\\xbb\\x9eV\\xe6\\xf7\\x95\\x8cr\\xe0q\\xc7\\x15\\x9d\\x95o\\x1b&\\xb5\\xd2/ja\\xc10x\\xa3\\x87N\\x91\\xc9i\\xf9\\xd8\\xf9\\xc3\\x9ez\\xf9S\\x17V\\xde\\x1a\\xe9\\xe5\\xbcA\\xe4@\\xe7P\\x1e\\x18\\xf7\\xcd_\\xaa\\x81|1\\xee\\xc5\\xfa\\xa8\\x0f\\rw\\xb1^\\xaa\\x05\\xf0\\xe7\\x07\\xce\\xf5P(\\xb8,v\\xd0(\\xb9+\\xac\\xd0=7E\\x0f\\xc6\\xc7\\xa6\\x81\\xe2\\xe8O3\\x9a\\x0fD\\xdd0\\x08\\x07\\x19\\xe0q\\xd7A\\x16Jm3\\x12S.\\xdd\\r\\xf0z\\x9ce*\\xf7\\x8a\\xa2\\x9eV\\x8d\\xd0s2^\\xd2\\xf6\\xb4\\xa8\\xf3-\\xb0\\x11\\x9fUAe\\xa3,ZcH\\x89\\x1f{v\\xa8\\xb6\\xd3)IT\\x82\\xc3iAx\\xa7;\\xbb\\xd8\\x00\\x1cd\\xe3\\xcfS#S\\x95\\x8d\\nn\\xd2\\xd2\\xac\\xa1q\\x16\\x9c\\xf9*B\\x90}`\\x9fuN\\x8dwL\\x8dxB\\xce\\x1feM\\x9e\\xd4\\xa8-?Q\\xf6Vo\\n\\xbd\\xe2\\xc1\\x97\\xd9w\\xe4\\xdcJ\\xbb\\x81\\xe3S,jY^\\x95\\x14P\\x14\\x05\\x060\\xf0\\xd7\\x97\\xcf\\xd1!\\x7f\\xe7\\xd6\\xf8\\xb1\\xc9`Mi\\x93\\t\\xa0Bh\\x18\\xa3D0\\x9a\\x06\\x93@\\xd2h\\x1a\\xa3\\xd5U\\r\\xa2\\x10\\x9a\\x06\\x1e4\\x08h\\x10\\x9a\\x06\\x93@\\x84\\xd04\\x9a\\x04&\\xa8i5BP4\\x9a\\x88i\\xaa\\x80\\x9a\\x06\\xd0f5/\\xf3\\xd3_\\xa3+\\xfcTX\\xe3\\xf6\\xde\\x1a\\xbd\\xbf\\xd2\\xd5\\xef5\\x99\\xed\\xbb\\xe9\\xbe\\xdf\\xad\\xb9\\x8d\\xfa\\x03~\\x82\\xde(\\xdd\\xb7\\xb0>v\\xf2\\xcf\\xa4\\xe3\\xea\\xab\\x19\\xa4y\\xd7\\x9a-\\x88\\xac\\xa1\\xd9\\x0e/q\\xb4\\xb8\\xa2\\x94\\x03\\x82J\\x94@\\'\\x00\\x02xq<\\x00\\xe7\\x9aZH\\xf5\\xe8/\\x8a\\xf2\\xaev\\xf6\\xfe\\x85\\xbdg\\xf8\\x9e\\xa9\\xe5\\xaf\\x06Hf\\xe0\\xc3\\x0b~V\\xa3C\\r67\\x96\\xbf\\x01i\\tH\\xed%D\\xe2\\xa6_\\xc9\\xe3\\xf0\\xc2\\xdc6\\x8dh\\x8f5Q\\x19\\xbd\\xdf\\',\\x0c\\x83\\x1a$T\\x85\\x0e\\xb3\\xe3#!=\\xe7\\x02\\xb3\\xd9\\xd2px\\xbb\\xb5M\\x14\\xcb)S\\xfa\\xd2\\xe4\\x87H\\xca\\x9a\\x0eE\\xdeA\\xec8F3\\xe6\\xa7i\\xf9:_\\xc2!\\xda\\xbe\\x9ey[\\xb6\\xf9\\xba\\xbaz\\xba\\x84t\\x05g\\xf6\\x195;\\x1d?\\xd2\\x83Tm\\x95\\xdbq\\\\h\\xf0uK\\x12\\xc2\\x02\\x82&\\x02\\x8c$\\x8e\\n\\xc2\\x99\\x1eq\\xdb\\x8a\\x97\\x9djp\\x8f]\\x9dmF\\xf9!\\x01\\x1a\\x96\\xe7!\\xb5\\xb8G@\\xeb\\xf0Z\\xe8\\xb1\\xfd\\xe8@\\nH9\\x1cRr\\x06N\\x0f*Nt\\xbc\\'\\xd2.\\xde\\x92m\\xfa\\x86\\xc1\\xac\\xed\\x8d\\xaa\\x1c\\xc7\\x96zt\\x82\\tD\\x96\\x14\\x01\\xc9\\x1c\\t\\xc1\\xdd\\xcfX\\x00\\xf5\\xd5\\xe5\\xf5S\\x87\\xab+\\x05\\xab6\\xcb\\xacuV\\xa2~=\\xb6\\xe2\\xfd\\xa6\\x02\\\\)n4C\\x82\\x07z\\xb9\\xa8\\xf6\\x9c\\xe3\\xb0\\x01Y\\xbc\\xedj|r\\'@V\\xac\\x93\\x19\\n^\\xae\\xd4c\\x03\\x1b\\xa9\\x9aR\\x07w:\\x9eZ\\xc8\\x96\\x88Z\\x89G\\xc6\\xd5\\xba\\x9b\\xff\\x00\\xec\\x15O)\\x91\\xee\\xdd\\xb6\\xfe\\x7f\\xefv\\xa7\\x1f\\xfd\\xc5T\\xf2dIn\\xdb\\xa8\\xc7\\x93\\xad5R\\x7f\\xfb\\x81\\xa7\\x93\"KpuX\\xf25\\xee\\xabO\\xff\\x00Y\\x9a\\xbeL\\x89M\\xc7\\xd7\\t\\xf9=\\xa2\\xeat\\xf9\\xddJ\\xbe\\xbay2%4\\xad\\xa3\\xa3\\xe4\\xb6\\x95|\\xfdv\\x1bU<\\xa6D\\xb6\\xa7\\xedY\\xbf\\x93\\xda#\\xab\\xfc\\xf5\\xb5\\xb5Si\\xd6%\\xb5~\\xdb\\x0b^N\\xae\\xb3\\xbf\\xf9\\xeb@\\x1e\\xea\\xbbN\\xb1)\\xad_\\xb6F\\xb9\\xc8\\xd2\\x12\\xbe\\x94W[\\xf7Si\\xd6%5\\xb4\\x1d\\xad5\\xf2\\xbacJK\\xfc\\xdc\\xd7[>\\xdav\\xa9\\xd2$\\xb5\\xb5=\\xa05\\xf8V\\xcc\\x99{\\x1c\\xcc[\\xc2\\x0f\\xb0\\x8av:%7\\xb6K\\xb3_\\x87l\\xbfT\\xb4:\\xcb\\x0bm\\xe1\\xec\\xc5;\\'D\\x96\\xb6\\xeb\\xa7[\\xfep\\xb0j\\xebwoMiR\\x80\\xf4\\xa4\\x9a\\xbd\\xa1\\xd2\\xac!\\xed\\xd3f\\xef\\x10\\x95\\xeao\\x03Wd\\xb8\\xaf5\\x8fZqN\\xd1:\\xd6\\x9e\\xcf\\xb4\\x9d!rRM\\xbbXY$+\\xa8\"r\\x02\\xbdD\\x83W\\xc5L\\xb1\\xd3\\xb4\\xbd\\xd9\\x17H%}\"\\x1c[g\\x05HP!C\\xa8\\x828W>S\\x1dx\\xdd[VZ\\x14\\x05\\x061x\\x1a\\xf2\\xf7\\xdb\\xe0p\\xbd\\xef\\xd6\\xf8\\xb1\\xc94\\x9a\\xd3$&\\x81\\x8a4C\\t\\xa0i4\\r&\\x81\\xaa=U`m\\x19!4\\x0c<h\\x10\\xd0!4\\r4\\x08M\\x03I\\xa0Bj\\x86\\x93T%\\x03I\\xa8\\x86\\xd5@M\\x03h\\x12\\x833\\xa9\\x7f\\x9eZ\\xfd\\x19_]\\x168\\xe4#\\x8d\\\\\\x8f\\xd2\\xcf\\xbc\\xd4n\\xfan\\xf7\\xea\\xb9\\x8d\\xfa\\x03\\x7f\\x1ch4\\x00n2\\xca>kH\\x1e\\xcc\\xfdu\\xa8\\xcd\\x11\\x86\\xf5\\xc9\\xaf\\xc8ij\\xf5\\x94\\xa7\\xed\\xa5\\xf6\\xb3\\xd3\\x9em/_\\xde\\xe0\\xeaEX\\xf4\\xfa\\xa3\\xc6n:7\\xa5K[iuJ_\\xf6hI\\xe01\\x9e$\\x83\\xc7\\x80\\xae|\\xb9g\\x88\\xeb\\xc3\\x86\\xcd\\xae_\\xaau\\xc6\\xa8\\xb9\\xb6!\\xdcn~\\x12\\xcaU\\xbe\\x10ZJ\\x13\\x9e\\xf0\\x903\\xe9\\xcdb\\xf2\\xb5\\xd2q\\x93\\xd3\\n%I\\x9d\\xa7\\x0e\\xe0\\x08vU\\xcd\\xc4HV\\xf6K\\x89m!II$\\x1e\\x04\\xf5\\x1c\\x8e\\xacb\\xb2\\xd3O\\xa1u\\x0e\\xb0,\\xf4\\x91\\xb5}\\x92*A)De\\xb3\\x1a3\\x80p\\xc1\\xc2Z&\\xac\\xe5Y\\xbcem\\x13\\xa9\\xf6\\x9e\\x13\\x86\\xf5d%\\'\\xba\\xe0\\x80?\\xf0k]\\xb9\\'N?\\x86\\x1fi6\\xed]\\xa8\\x0f\\xdd[\\xc4\\xcbd\\xa9\\x0c\\xb5\\xb8\\x97\\x130\\xf4\\xaaH9\\xdc\\xf1\\x12\\x90z\\xf1\\xbd\\xcb5\\x9b\\xb7\\xdbRI\\xe9\\x8f\\xd3\\xc2\\xedp\\x9d\\x9d=6l\\x83\\xc5\\x0fA\\x94\\x0b\\xaaF\\x01<1\\xcc`\\x1e#\\x968\\xd4WZ\\xda\\x0b\\xb7)\\xdb\\x1a\\xd3s\\xae\\xd1\\x1d\\x8b92\\x10^m\\xc4\\x14\\xa8\\x152Q\\x9c\\x1e#{\\xa0\\xde\\xf4\\xd6\\xef\\xa7>?\\xe4\\xe2v$\\x08\\xfa\\xa6b\\x07\\x0f\\x8d\\xcf\\xaf\\x8f\\xd7Xtu\\xcb:\\xfe#\\x1d\\xf5R\\xad\\x1bU\\x11)\\xb5PIiUD\\x96\\x95A)\\xb5PHmT\\x12[U\\x04\\x96\\x95A%\\xb5w\\xd0ImT\\x12\\x11\\x83\\xcc\\x03\\xe8\\xa0\\x90\\xd8A\\xfcD\\xfa\\xa8$\\xb5\\x8c`dy\\x94h\\x1e\\xa8\\xb1_\\x18y\\x86\\xdd\\x07\\xa9\\xc4\\x05{\\xc5\\x04\\t\\x9a/I\\\\\\x01\\xf0\\xcd7h|\\x9e\\xb5Co>\\xb0\\x05\\x15\\xa8\\xd1\\x9a_Ll\\xfe:\\xb5n\\x9a\\xb7\\xfd\\xcc\\t-7se\\xa7\\x9c,9\\x19N%+_FTR\\x95#!aC\\x1c\\x02\\x87#Y\\xa4v\\xe1\\xca\\xa2\\x8a\\x02\\x83\\x16\\xf7\\xf4\\xf6\\xf5\\xfa\\x1c/|\\x8a\\xdf\\x169&\\x93Zd\\xc5\\x1a!\\x84\\xd04\\x9a\\x06\\x93@\\xd5\\x1e\\xa1@\\xda\\xac\\x90\\x9a\\x06\\x1e4\\x08h\\x10\\xd04\\xd0!4\\r&\\x81\\xa4\\xd5\\x08MP\\x94\\r&\\xa2\\x10\\xd5B\\x1a\\x06\\x9a\\x04\\xa0Bh3Z\\x9b\\xf9\\xe1\\x9f\\xd1\\xd5\\xf5\\xd1\\\\f9\\xc6\\xad\\x1f\\xa6\\x1fy\\xac\\xb7}6\\xdb\\xd5\\xa71\\xbd@\\xa9%J\\t\\x1dg\\x14\\x1a\\xb9?\\x848\\x07 q\\xea\\xe1[\\x8c)u$k\\xec\\xcb%\\xdd\\x8d5-\\x88\\x97uEB\"\\xba\\xfew\\x02\\x8a\\xd4H$q\\x19\\x03\\x19\\xea$\\x1a\\xcf-\\xfao\\x8eOo\\x98t\\x9c\\xbdBuU\\xea\\xd1\\xa8\\xd2\\x86\\xe6A\\x05\\nm\\x18!*\\xc9\\xcf\\x8c\\t\\xcf.y\\xaf?\\xa7\\xa7v\\x0b\\xb8\\xfeSUT\\xf6\\x14\\xe6\\xcd \\x7fcvp\\xfa\\xdb\\x15\\x06B\\xefg\\x95*z\\x9cd#w\\x97><\\t\\x1fUAm\\xa7\\x1b\\xbc\\xdbT\\x13\\xf1\\xcf\\xb7\\x9e-\\x91\\x91\\x8f\\xaa\\xac\\x1a\\xf7\\xf0\\xf4g\\x1a<7\\xd0G\\x0ec\"\\xa8\\xf2\\xf89I0u\\xed\\x81\\xe5(\\xef\\xbfq,\\xa9]g\\xc5)\\xfa\\xe9\\xc3\\xdb<\\xff\\x00\\xc6\\xbb\\xb7\\xc2I\\x92\\xe6\\x8c}\\xd3\\xc4\\xa1\\xc8\\x8eg\\xcc\\xe3\\xa8?\\xc6+\\xa77?\\x8f\\xdb\\xe5\\xe5\\'\\xa2\\xd5\\xabW \\xe3m\\xaf\\xd9\\x8f\\xaa\\xb9;:m\\x95yg\\x9fP5R\\xad\\xdaU\\x04\\x96\\xd5DJm]uD\\x96\\xd5A%\\xa5PImT\\x12[U\\x04\\x96\\xd5Agk\\x8e%Km\\x92\\xa2\\x94\\xab$\\x91\\xd8(4\\x88\\xb4A\\xc7\\x92\\xe7\\xed\\x9a\\t\\r\\xdaa|\\xd7?n\\x83\\xd9\\x16\\xa8}\\x8e~\\xdd\\x07\\xbbv\\xb8\\x9d\\x8e~\\xdd\\x07\\xba-\\x91?\\xbc\\xfd\\xaa\\x9a\\x1b.\\nYd\\xba\\xca\\x95\\x84\\xf3I9\\xe1WE\\xde\\x94j=\\xd2\\xdd2\\xcb/&<\\xc6\\\\\\x8c\\xe8\\xfc\\x87\\x12R}\\x86\\xa5X\\xd2\\xec\\x9e\\xeb\"\\xed\\xa0m\\x8e\\xceVn\\x11\\x92\\xa83rx\\xf8C\\x0b,\\xb8O\\x9dH\\'\\xd3YV\\xaa\\x80\\xa0\\xc5\\xc8\\xe1\\xaf/?\\xa1B\\xf7\\xc8\\xad\\xf1c\\x92R\\x8di\\x83\\t\\xa0i4\\r&\\x81\\xaa=B\\x81\\xb5Y!4\\x0c<h\\x10\\xd0!\\xa0i4\\x08M\\x03I\\xa0CT4\\x9a\\xa1(\\x1aMD6\\xaa\\x03@\\x86\\x81\\xb4\\x08M\\x02\\x1a\\x0c\\xde\\xa6\\xfevc\\xf4u}tX\\xe2\\xcd\\x9cj\\xdf\\xfe\\xb0\\xff\\x00\\x11\\xac\\xfd\\xb7}6{\\xc2\\xb4\\xe67\\xa8=\\xed\\xa3\\xa4\\xb8\\xc6o\\xe7<\\x81\\xed\\x14\\x1a\\x87\\x0e\\xf3\\x8aWj\\x89\\xad\\xb0\\xf4\\xb4\\x8f\\x8e\\x94\\xaf\\xefP\\x9fR\\x13\\xf6\\xd4i\\xf2s\\x0e)\\xcd\\xb3j\\xe5\\x1f\\xc7q\\xcfb\\x8dy\\xef\\xf9W\\xa7\\x8f\\xf8\\xc5f\\xaf\\x96\\xb8E\\xa5\\xb6\\xd2\\\\[\\x8f%\\xa0\\x14\\xac\\x00I\\xc6MF\\x93lV%\"\\xcf1H\\xb9DqR\\xa5\\x17\\x13\\xf1N\\x00\\x85\\x04\\x80A\\x18\\xcfg\\x1a\\x0f+^\\x96\\xb2\\xde <\\x9b\\x9c@\\xb7\\xd8\\x98\\xf3}+k)V\\x02\\xcf\\x0c\\x8ec\\x8f]\\x03\\xc6\\xcel(X\\\\yW8\\xea\\x1c\\x8a$\\x0e\\x1f\\xbbLC\\xae\\x90\\x8d\\xb1\\xd6\\x99\\x0f\\xb8\\xfaJ\\x01\\x0e9\\x8d\\xe3\\x83\\x83\\x9cp\\xaa\\xac\\xe6\\xced\\x98:\\xb2\\xc0\\xf08\\xe8\\xaf\\xa4~\\xf0\\xa9=\\xa7/O\\xa9>\\x10lt\\x9a\\n\\xe9\\xc3;\\x91\\x8a\\xbfbC\\n\\xf7\\x13]\\xb9\\xfap\\xf8\\xfd\\xbeO\\xbb\\'r\\xf9\\x01\\xef\\xed\"\\xe3\\xf6U\\xff\\x00:\\xe3^\\x86\\xfa\\xc8\\xbf\\x89I\\xedMQt\\xd2\\xe8\\x89M*\\x82KJ\\xa2%6\\xaa\\t-\\xab\\xae\\xa8\\x92\\xda\\xa8$\\xb6\\xaa\\t-\\xaa\\x83E\\xa5\\x1b\\xe9\\xef1\\x1a\\xde\\xdd\\xdfJ\\xc6q\\x9eC4\\x1b\\xc4Zq\\xfe\\x90\\xaf\\xd8\\x1fmMW\\xaa-_\\xeb\\x07\\xf6\\x07\\xdbM\\x1e\\xa9\\xb5\\xff\\x00\\xac\\x1f\\xd8\\xff\\x00\\x9d5\\x1e\\x89\\xb6\\x9f\\xed\\xff\\x00s\\xfet\\xd1\\xea-\\xcb\\xc7\\x8a\\xf2I\\xefO\\xfc\\xe8#ImHC\\x8d\\xba\\x9d\\xd3\\xb8}#\\x1dT\\x11t\\x8c\\x9e\\x8a\\xe0\\x91\\x9cob\\xad\\x1a\\r\\x9d\\xbc-\\xdbH\\xd6\\xbat\\xe1-Hv=\\xf6*{S!\\xbd\\xc7q\\xfe\\xd5\\x95\\x1f\\xd7\\xac4\\xe8t\\x05\\x06&g\\r{w\\xfd\\x06\\x17\\xf1H\\xad\\xf1s\\xe6\\x92Mi\\x93I\\xa0i4\\rQ\\xea\\x14\\r\\xaa\\xc9\\t\\xa0a9\\xa0C@\\x86\\x81\\xa4\\xd0!\\xa0i4\\x08MP\\xd2j\\x84\\xa0i5\\x10\\xda\\xa8\\t\\xa0J\\x06\\xd0!4\\x08h\\x12\\x837\\xa9\\xbf\\x9dX\\xfc\\xc2\\xbe\\xba,qRq\\xaa\\xcf\\xe9\\x87\\xf8\\xab9\\xe5\\xbb\\xe9\\xae\\xde\\xef\\xad9\\x8d\\xee\\xf3A?Ox\\xd7\\xb8\\x83\\xb1\\xcd\\xefP\\'\\xea\\xaaV\\x97\\xf1}\\x15\\xa6\\x12-?\"\\xf2\\xbbd/\\xd9\\x81\\xf5Ti\\xf2T1\\x8d\\xaa\\xdf\\x97\\xfd\\xa3\\xef\\x8fQQ\\xaf=\\xf6\\xf4\\xcfJ\\xedm\\x15\\xf9Ii\\x11\\x9b.8\\x89\\x08XN@\\xc8\\x07\\'\\x9dJ\\xd1\\xb6\\xfb\\xec\\xa6\\xa3\\\\\\x19\\x89\\x0b*\\x88R\\xa2\\x97\\xf2\\n\\xd4\\xae\\xa0\\x13\\xc8`P]\\xe97\\xca\\xe3\\xcdQ\\xe6g:\\xaf^\\r\\x05\\xd8r\\xaab\\x87X\\xab\\xe2\\xe2\\xaf\\xb1J\\x1e\\xc0hG?\\xb4\\xbaX\\xba\\xc5p\\x7fWzQ\\xf6f\\xb3\\x16\\xbe\\xca\\xdb;>\\x11\\xa0\\xee\\xc9\\x03;\\xd0\\xa5\\x81\\xfe\\xe9K\\x1f\\xf8u\\xe8\\xe4\\xf3p|\\x83}\\xe2\\x8b4\\x81\\xda\\xeby\\xf5\\x1a\\xe1^\\x96\\xc2\\xc0\\xe6c\\xa3\\xcdAx\\xd2\\xf1U\\x12\\xdaU\\x04\\xa6\\xd5DIiT\\x12\\x9aUQ%\\xa5PImT\\x12[U\\x06\\xa7E\\x9f\\xf3\\xf5\\xa8\\xfc\\xe7V\\x9f\\xdd4\\x1dQ-\\xd4\\x1e\\x81\\x14\\x1e\\x89Gu\\x03\\xc2(=\\x12\\x8a\\x08:\\x85\\x18\\xb6\\xad\\xdcq@>\\xa2?\\xf4\\xa0\\xc7\\xda\\xde\\xe8\\xa5\\xb4\\xbc\\xf2\"\\xa8\\xd0\\xdc\\xa4}\\xcd\\xda\\xd6\\x85\\xbd\\x83\\xba\\xd5\\xd6,\\xcb\\x14\\x85u\\x15n\\x89,\\xfb[p\\x0f\\xa5Xi\\xd6(\\n\\x0cL\\xee\\x1a\\xf6\\xed\\xfa\\x0c?\\xe2\\x91[\\xe3\\xe9\\xcf\\x9f\\xb7\\xb95\\xa6M&\\x81\\xaa=B\\x81\\xb5Y!4\\x0c\\'4\\x08h\\x10\\xd04\\x9a\\x04&\\x81\\xa4\\xd0!5CMP\\x94\\r&\\xa2\\x1bD\\x04\\xd5\\r4\\t@\\x84\\xd0!4\\t@\\x86\\x839\\xa9\\xbf\\x9d#\\xfea\\x7f]\\x15\\xc4\\xdd8\\xd5k\\xfd0\\xff\\x00\\x15e\\xbb\\xe9\\xaa\\xde\\xad9\\x8d\\xea\\x0bM+\\xe3^P~kn+\\xf7O\\xdbHV\\x9c\\x0c\\xf0\\xad\\xb0\\x91i\\xe3\\x04\\x1f\\x9c\\xe3\\x87\\xd6\\xb5VcU\\xf2S^.\\xd2\\xe7\\xab\\xfbI\\xd2S\\xfb\\xae}\\x95\\xe7\\xbe\\xde\\xa9\\xe8\\xdb\\xf0\\xf8\\xefMUg\\xed\\x9e-\\xca\\xee\\x8f\\x9c\\x86U\\xed5\\x05\\xf6\\x94^\\xeb\\x13G\\xfa\\xda\\xfd\\xc2\\x82\\xe89U\\x14\\xda\\xc5\\x7f\\xc8\\x19Wc\\xbfQ\\xa0\\xe7a{\\x92w\\xbb.\\x99\\xfd\\xca\\xca\\xbe\\xe9\\xd6\\xecx^\\x97}\\x9cg\\xa5mm\\xfe\\xdb.#\\xfcU\\xe8\\xaf/\\x17\\xc5\\x97#\\xbf\\xa5\\xed\\xaf\\xf5\\xb7)#\\xf6\\x90k\\x83\\xd4\\xd3i\\xc73\\x1d4\\x1a\\x06\\x97\\xc2\\xaa%2\\xba\\tm.\\x82Sj\\xa2$\\xb6\\xaa\\tM\\xaa\\xa8\\x92\\xd2\\xe8$\\xb6\\xaa\\rV\\x8eV.\\xd6u\\x7f\\xaf\\x04\\xfa\\xc5\\x07dKu\\x03\\xc3t\\x0f\\x08\\xee\\xa0xE\\x03\\xc2;\\xa8\"_Z+\\xb2L\\x00q\\x0c\\xa8\\x8f@\\xcd\\x077ix\\xc1\\x1dUE\\x9e\\xd2e\\x16\\xf6`\\xce\\xa1o\\x8b\\xdar\\xeb\\x06\\xee\\x9e\\xe46\\xf2R\\xef\\xff\\x00\\x8dk\\xac\\xd5\\x8e\\xe4\\x85\\x05 )$\\x14\\x91\\x90GX\\xa8\\xa5\\xa0\\xc4\\\\\\t\\xfb\\xfd\\xba\\x8f\\xf5\\x08\\x7f\\xc5\"\\xb7\\xc5\\xcf\\x9b\\xd8\\x9a\\xd3&\\xa8\\xf5Q\\r\\xaa\\x84&\\x81\\x87\\x8d\\x02\\x1a\\x044\\r&\\x81\\t\\xa0i4\\x08MP\\xd2j\\x84\\xa0i5\\x10\\xda\\xa8\\t\\xa0m\\x02P!4\\x08h\\x12\\x81\\r\\x02Pgu/\\xf3\\x9c\\x7f\\xcc\\xaf\\xeb\\xabH\\xe2\\x12xj\\xa7?K?\\xc5X\\xfbu\\xfai\\xf7\\xbb\\xebNc{\\xbe\\x9a.\\xf4w\\x8dry_62\\xfd\\xa4\\x0f\\xae\\xacJ\\xd3\\xa7\\xcbO\\x9cV\\x98I\\xb1\\xa70b\\x0f\\x9d\\x83\\xebV~\\xba\\xcbw\\xdb\\xe4[\\x83\\xad\\xc5\\xd7nJuA\\r\\x0b\\xab\\xa1kW\\x00\\x90\\xbe\\x95 \\x93\\xd42@\\xf4\\xd7\\x9f\\xed\\xe9\\x9e\\x8f\\xd4\\x04t\\xbc\\xc7>\\xda\\xaa\\xcfFm\\xc4]\\xe68R:7\\x18@\\n\\xc8\\xc1 \\xd4\\x17\\x96\\x86\\x84t?\\xba\\xb2\\xa4\\xba\\xe9XV1\\x9e\\x03\\x96x\\xe3\\x85\\x04\\xf0\\xe7}QQ\\xac\\x1c\\xff\\x005$\\xf6<\\x9fq\\xa0\\xe7\\xce\\xab\\xe3\\x16\\x7f\\xd7\\xd0\\x7fp\\xd6G\\xdf\\xd7D\\x85\\xda\\x1b\\x07\\x90[\\x04\\xff\\x00\\xbc@>\\xc2k\\xd3^X\\xf8\\x8e{E\\x1aBcG\\x9cYM\\xe7\\xbbu\\xcd\\xd3\\xee\\xaf=z\\x96\\xbae\\xdf\\x8b\\t\\xaa4\\x8d+\\x06\\x82[j\\xa2%\\xb4\\xba\\tM/\\xbe\\x82SJ\\xa2$\\xb6\\xaa\\xa2Sj\\xa0\\x92\\xda\\xa85:Mx~\\xda\\xe7\\xcc\\xb91\\xed8\\xa0\\xee\\xfd\\x1e\\t\\xe1P84q\\x9c`v\\xe2\\x81\\xe1\\xa3\\xcf\\x07\\x14S\\x83u\\x03\\xc2(<.\\x8d\\x15Z\\xe5\\xa4\\x0c\\x92\\xc2\\xc0\\xfd\\x93A\\xc8\\x99W\\x00{\\xabH\\xd3[a#Pi\\x0b\\xe6\\x9bw\\x8an6\\xf9\\x111\\xde\\xb6\\xd4\\x13\\xed\"\\xa5V\\xdfb\\xb7\\x95j\\r\\x93i{\\xb3\\xa4\\x97\\x9f\\xb5\\xb0\\x1f\\xcf\\xf6\\xa9HB\\xff\\x00y*\\xac\\xabaA\\x87\\xb9\\x7fOn\\x9f\\xfc\\xbe\\x1f\\xf1\\xc8\\xad\\xf1s\\xe7\\xed\\xea\\xa3\\xd4+L\\x9bU\\x92\\x13@\\xc2s@\\x94\\x08M\\x03I\\xa0Bh\\x1aM\\x02\\x13T4\\x9a\\xa1(\\x1aMD!\\xaa\\x84&\\x81\\xb4\\t@\\x84\\xd0!\\xa0J\\x044\\x08h\\x12\\xb4\\x8c\\xf6\\xa6\\xfer\\x8d\\xf9\\x95\\xfdu*\\xc7\\x0e\\x9aq\\xaa]\\xfd/\\xfcU\\x8f\\xb7_\\xa6\\x93z\\xb4\\xe4M\\xea\\r\\x16\\x87\\xe3&j\\xbb\\x18\\x03\\xd6\\xb1\\xf6U\\x89ZQ\\xc0\\x83\\xdfZe;O\\xe11\\xad\\xdb\\xdc\\x82Z\\'\\xd9Y\\xfao\\xed\\xf2F\\xad\\xb7\\xc9\\x8d\\xae.\\xb6\\xa7P\\x03\\xc9\\x94\\xf2\\x16\\x148x\\xae\\xac\\x1c\\xff\\x00\\xd7]pzg\\xa4sim\\xb1\\xc44q\\xd8\\xd0\\xa8\\xaa\\xa9\\x93#\\xb5p6\\xd4\\xb4\\xb4:\\x90\\x16U\\xba\\x90\\x92\\x0f\\x9a\\x82s3P\\xeaw\\x92U\\xcc\\x82\\x14\\x9c)$s\\x04v\\xd0{\\xa6BO]\\x05^\\xadt\\x1b?>N\\xa7\\xeb\\xa0\\xc2(\\xe5K\\xef\\x9c\\xdf\\xf0\\x1a\\x83\\xf4\\x16\\xeb\\xe2\\xd8\\xe4\\x1f\\x98\\xc0_\\xec\\xe1_Uz/\\xa7\\x96{|m\\xa9\\xe3tK\\xd6\\xd0\\x00\\xf9\\t\\x92\\xf0;7_Y\\x15\\xc6\\xbd<} \\xe9\\xa7|T\\x9c\\xf5TV\\xad\\xa5\\xe4\\n\\xa2[+\\xa0\\x96\\xd2\\xb1DJiT\\x12\\xdbU\\x04\\x96\\x95DIiuD\\x96\\xd5A\\xa1\\xb2Mf,$\\xba\\xe2\\xc6\\xf3r\\xd9t$yJ\\tVN=\\x14\\x1d\\x0e6\\xad\\xd4\\x9a\\xc6\\xf0\\xbbn\\x9am\\x9bc!%ky\\xc3\\xbc\\xb4\\xa38\\xc98\\xc0<G\\x00=5\\x15|\\xde\\x81\\x89\\xd1\\xf8E\\xfa\\xfbq\\x9c\\xbejZ\\xe4tM\\x8f^}\\xf4\\xd1Gy]\\xabK<\\xcc\\xdd5\\xa8\\xbae\\xa5\\xd4\\xa5\\xf8*\\x93\\xd3%h\\xeb<?\\xeb\\x8f\\n\\xa3Xu\\xd6\\x95\\x07\\x84\\xf7\\x15\\xf4c\\xac\\xfdU\\x03\\x93\\xaet\\xc1\\xff\\x00L{\\xff\\x00\\xe3.\\x83\\xdd\\xbdg\\xa6TG\\xf2\\xf5\\x0f;\\x0b\\xfb*y\\x1c\\xf6\\xf2\\xbbz\\xa5)v\\xf5$\\xa1N(\\xf0\\x04\\x0cg\\x87\\x03ZE\\x96\\x8a\\x98c]\\x90s\\xd6\\x15\\xea4\\xa3I\\xf0{>\\x07a\\xd4Zo \\x0b\\x1e\\xa4\\x9f\\x15\\xb4\\xf64\\xe3\\x9e\\x10\\xdf\\xa3u\\xe1\\xea\\xac4\\xe9t\\x18{\\xa9\\xc6\\xbc\\xb9\\x8f\\xff\\x00o\\x87\\xfcr+|\\x1c\\xf9\\x9f[s!4\\x0c\\'4\\t@\\x84\\xd04\\x9a\\x04&\\x81\\xa4\\xd0!5CI\\xaa\\x12\\x81\\xa4\\xd4Cj\\xa04\\r\\xa0J\\x04&\\x81\\r\\x02P!4\\t@\\x95\\xa4\\x15\\x06wS\\x7f8\\xc6\\xfc\\xd2\\xfe\\xba,p\\xdb\\x89\\xc6\\xa9{\\xf4\\xbf\\xae\\xb1\\xf6\\xeb\\xf4\\xd0\\xefV\\x9c\\x86\\xf5\\x06\\x9fBqM\\xc1_\\x92\\xda\\x7fx\\x9f\\xaa\\xacJ\\xd1\\xac\\xe1\\n=\\x80\\x9a\\xd3)\\xb6\\xf1\\x8b|a\\xd8\\xca?\\x84VZ\\xaeg\\xb7\\xcd1o[\\xcckh\\xce\\x86f\\xb8\\xf2#N\\x8eQ\\xc1\\xd5)\\x04%\\xe4\\x9e\\xa3\\x84\\x00\\xa1\\xd7\\x84\\x9e\\x04q\\xe7\\xcf\\x8f\\xdb\\xb7\\xc7\\xcb|8\\xf4\\xec\\xf4Nn\\x9c\\x1d\\xd3\\x83\\xe8\\xaen\\xaa\\xad\\x1d\\x12\\xd5.\\xcc\\xcb\\xf2-q\\\\\\x98\\x94\\xa3/\\x9d\\xfd\\xf5\\x02\\x9c\\xf1;\\xdcNh ^\\x92\\xcc\\x1b\\xc4\\x96c\\xb6\\x1ah\\xee, \\x12@\\xcax\\xe3=\\\\(<\\x11+\\xbe\\x82\\x16\\xa3\\x91\\xbdiP\\xfc\\xb4\\xfb\\xe82\\xf1\\xc1Y\\x1d\\xf7\\x06G\\xee\\x9a\\x83\\xf42\\xe8\\xd9U\\xb2cX\\xe7\\x1d\\xc4\\xfe\\xe1\\x15\\xe9\\xbe\\x9eN>\\xdf\"\\xeb\\x16?\\xf7\\x81\\xad\\xe2c\\x83\\xee\\xc8p\\x0f\\xce6\\x97?\\xc5\\\\y{\\xafO\\x1fQ\\x8d\\xd3\\x0e\\x7f#a|\\xfcA\\x9cy\\xab-4\\x91\\xee\\xd1\\x82F\\xf2e\\'\\xcf\\x15\\xce\\x1f\\xbbM\\x12\\r\\xf6\\xda\\xd2J\\x96\\xfb\\x83\\x1d^\\x0e\\xe6\\x7f\\x86\\x9a=\\x1b\\xd5Z|\\x1d\\xd5]\\xa3\\xa4\\xfePP\\xf7\\x8ah\\x94\\x9dW\\xa7\\x91\\xbb\\x9b\\xc4C\\xbcq\\xc1|\\xbc\\xf4\\xd4LcUi\\xe5\\x10\\x05\\xe6\\x11=\\x9d(\\xa6\\x98\\xb2\\x87|\\xb4\\xc8q-\\xb3q\\x8c\\xb5+\\x90\\x0e\\x0e>j\\xba,\\xd8\\x99\\x15~D\\xa6\\x14{\\x9dI\\xfa\\xe8\\'\\xb4\\xb0@ \\xf0\\xea\\xaa\\x89-.\\x82\\xde\\xc5y\\xb9\\xd9\\xe4-\\xfb\\\\\\xc7b:\\xe2:5)\\xbcd\\xa7 \\xe3\\x8fx\\xa0\\xf7\\xb8].WW\\x83\\xd7)\\x92&,\\x0c\\x02\\xea\\x8a\\xb0(\\xa6!X\\xee\\x14G\\xb3r\\x19\\xce\\xefL\\xdeG1\\xbe3Ez\\xa6|4(%r\\xe3\\xa5D\\xe0\\x02\\xear}\\xb4D\\xf6\\xdcH o\\xa7>z\\tHW]\\x05\\x85\\xa9\\xfe\\x8akK\\xcf%PlvZ\\xf0\\x8b\\xb6\\ri\\x07\\x92nP-\\xb7V\\xc7j\\xb7\\x17\\x1d\\xc3\\xebi\\x15\\x9a\\xd4uz\\x83\\rv\\xfe\\x9e\\xdc\\xbf\\xf9t?\\xe3\\x91]89\\xf3<\\x9a\\xd3\\x99\\x84\\xe6\\x81(\\x10\\x9a\\x06\\x93@\\x84\\xd04\\x9a\\x04&\\xa8i5B\\x1a\\x06\\x93Q\\r\\xaa\\x80\\xd04\\xd0%\\x02\\x13@\\x86\\x81(\\x10\\xd0%\\x02UA@\\xd2h3\\xfa\\x9b\\xf0\\xf8\\xbf\\x9a]*\\xc7\\x0c\\xba\\x7fJ_\\xfd+\\xeb\\x15\\x8f\\xb7O\\xa5\\xee\\xf5i\\xccoPkt\\x0f\\xe0w\\x05v\\xb8\\xd0\\xf6(\\xd5\\x89Z\\x07\\xce\\x18t\\xf6!G\\xd8kW\\xd2E\\x94Q\\x88\\xac\\x8e\\xc6\\xd2?tVU\\x8e\\xdbkK^\\xcf%\\xbe\\x94)B#\\xecIs\\x03;\\xa8J\\xc0Z\\xbc\\xc1*$\\xf7\\x03Y\\xe7\\xe9\\xbf\\x8f\\xfc\\x9c\\x02B\\xdbRr\\x1cAI\\x1c\\x08P \\x8f=rz\\x18\\xbb\\xe1~\\xd728\\xb7\\xbe\\xf30\\x93\\xbb\\xd2\\x04\\xc9\\xf1@\\xde\\x03w\\x19\\xc9\\xe7\\xdfPt-=\\xb2}M\\xaa\\xad\\xd2\\xafPc-\\xf8\\xfd n:L\\x946\\xfb\\xa1 \\xe5HK\\x98\\x0e$\\x13\\x8c\\xef\\x0e#\\x86qZ\\xcb\\xed\\x9b\\xcaK\\x8c\\xae\\xa2\\xd1\\x97\\xfb\\x0c\\xb3\\x1atg\\xa3\\xbd\\xd4\\xcc\\xb6\\x95\\x19\\xc3\\xe6\\x0b\\xf1U\\xfa\\xaa5\\x16]d\\xf5\\x1a%F\\x84\\xe32\\xa3\\xba\\xc2\\xc1\\x07u\\xc4\\x14\\xf5\\xf7\\xf3\\xa9U\\xe1\\xa3\\x9ca\\nu\\xd7\\x8b \\xa1\\xe0\\xb6\\xcb\\x80\\x1c(\\'\\x00\\x8c\\xf5\\x8c\\xd0w\\xfd\\x89kK\\xfc\\xad{\\x1bO\\xdcnO\\xcb\\x85:3\\xe3u\\xf5o\\x90\\xe2Q\\xbc\\x92\\t\\xe5\\xc8\\x8e\\xfc\\xd6\\xf8\\xdf.|\\xf8\\xcc\\xd6?[\\xb7\\xd1\\xed\\x96\\xe4\\xda\\xb9K\\x8b\\r\\xcf\\xdb\\x86\\x81\\xefMN^\\xda\\xe1\\xe9\\xc8,\\xb7\\x83kZ\\xe3HiKB\\x16@\\xdd>2x\\xf2\\xe3Xi\\xa7\\x87\\xabm9\\x1b\\xce\\xbe\\xdf\\xd2h\\xfdUt\\\\\\xc5\\xd4\\xf6\\x95\\x0e\\x13O\\xec+\\xec\\xa6\\x89\\xad\\xde\\xed.\\x8c*B\\x16?)\\xb2}\\xe2\\x82Cn\\xd8\\x1d\\xe7\\x1e\\x1a\\xbc\\xf1\\x87\\xd9DHn.\\x9cs\\x89\\xb6\\xdb\\xd5\\xe7\\x88\\x9f\\xb2\\x82*\\xed\\x96\\xbbx/[\\xac\\xf0\\'\\xb6\\x0e|\\x19\\xd6R\\x97\\x13\\xf9\\xb7\\x08\\xfd\\xd5z\\x08\\xa0lY\\x1a^t\\x85\\x18v\\xb8*\\x98\\t/\\xdb\\xe6DB\\x1e?D\\x91\\xcf\\xd2A\\xee\\xa0\\xd8Zo6\\xf9Mb:\\x8a\\x0b^\"\\xd9(\\xddSG\\xe6\\x94\\xf5\\x7f\\xd6*\\xe8\\xb3ns=\\xaa\\xf5UG\\x84\\xc8\\xb6\\xf9\\xce\\xa9\\xc7\\x9f\\xb9 \\xa8\\x00C3\\x1di8\\xf3%@QQ\\x15\\xa6,\\x8f$\\xa5Su\\x06\\xe9\\x18 ]^\\xc1\\xf5\\xaa\\x98i\\xa8\\xd0\\xdamg.?~s?:\\xe8\\xef\\xdbS\\r{\\xb5\\xb3\\xed\\x1es\\xbd\\x0e\\xe4\\xbc\\xf1;\\xd7\\x17\\xb8\\xfe\\xf50\\xd4\\x17\\xb4m\\x86\\xca\\x92\\xea\\xf4\\x93\\x97\\xe8c\\xcaSr\\x1c2\\x9bO{e{\\xae\\xfe\\xae\\x0f\\xe4\\x9a`\\xb5\\xb3F\\xd2\\xb3\\\\M\\xfbFC\\xb5\\xca\\x9b\\x1di*e\\xe1\\xe3\\xa4\\xa7\\x86<o\\x1d\\x95\\xf7\\x9e\\x1d\\xbd\\xb4\\x1a\\xdd?\\xabm\\xf7E8\\xc0\\n\\x8b1\\x95n\\xbf\\x16G\\x88\\xe3J\\xec#\\xeb\\xeb\\xe6*\\x8b\\xa1v\\x8c\\xd7\\x8c\\xb9\\x11\\x9b\\xc7\\x1c\\xa9\\xe4\\x8f\\xae\\x88\\xd3\\xec\\xff\\x00RZfm\\xbbO\\xa6\\r\\xd2\\x14\\xa92\\xb4\\xfc\\xd8\\xb2\\x1aa\\xe4\\xadH\\x08u\\xa7[*\\x00\\x9css\\x19\\xef\\xac\\xd5\\x8e\\xfbQX[\\xc6\\x06\\xbc\\xb8\\xf6\\xfd\\xce\\x89\\xfcr+\\xa7\\x07?\\x90\\xa4\\xe6\\xb4\\xe6J\\x04&\\x81\\xa4\\xd0!4\\r&\\x81\\t\\xaa\\x1aMP\\x86\\x81\\xa4\\xd4B\\x1a\\xa8C@\\xd3@\\x94\\x08M\\x02\\x1a\\x04\\xa0C@\\x94\\tZAP4\\xd0!5E\\x06\\xa6\\xfc6/\\xe6\\xd7Y\\xab\\x1c*\\xf0q\\xaad~\\x95\\xf5\\x8a\\xcf\\xdb\\xa7\\xd2\\xe8\\xab\\x8di\\xccoPl\\xf4\\x07\\xf3\\\\\\xd3\\xdb!\\x03\\xf7\\rX\\x95{,\\xe2#\\xe7\\xfb\\xa5\\xff\\x00\\t\\xab}$\\xf6\\xb6la\\xa4\\x0e\\xc4\\x81\\xec\\xa2\\x94\\x80A\\x04\\x02\\x08\\xc1\\x06\\x82\\x8b\\xef3G\\xef\\x95\\xfd\\xeaX\\xb7\\x94rO\\xdc\\xf6\\xb8\\x9f\\xd9\\xa9\\x91v\\xfe^\\x8f\\xe9=.\\xf4\\'\\xe1/NZ\\x03\\x12\\x1bSN\\xa5\\x10\\x9bF\\xf2T0F@\\x04p\\xeb\\x14\\xc8ms\\xc8\\xdb7\\xd7\\xdak~&\\x8b\\xd7\\xac\\xa2\\xd7\\xbd\\x96\\xa3\\\\\\xd8Z\\x96\\xd0\\xec\\xdeFB\\xbc\\xf8\\x06\\xb1\\xd6\\xcfU\\xbe\\xf2\\xfb\\x89nX\\xf6\\xe0\\xfc5\\xc2\\x95\\xadt\\xd4\\x88\\xab\\x18S/Eu\\xd6\\xc8\\xfa*A\\x14\\xeb\\xca\\x9d\\xf8\\xfe\\x19\\xef\\xf2A\\xac\\xdd\\x0bm\\xfb\\xce\\x91K.\\x9c\\xad\\xb1o}h\\xe3\\xd8\\x8c\\x84\\x8f@\\x15?\\x8e\\xb5\\xfc\\xb1S\\x7f\\xf8?\\xea\\xe6m\\xe5zv\\xed\\xa4\\x1f_\\xe3\\xc7j3\\xb1\\x14\\xbc\\xf3\\xf2\\xb7\\x81\\xf5\\xd4\\xe9V|\\x91\\x1bc;<\\xda5\\x9fj\\x96i\\xda\\x82\\xc1\\xe0p`\\x95\\x97e%\\xf6\\xd6\\xda\\x81mI\\x00n\\xa8\\x92I#\\xaa\\x9cx\\xd9S\\x9f9c\\x1f\\xb7\\xf7\\x9f\\xb6\\xed6\\xd5)\\x90\\x7f\\x94X\\xe2)@\\x1c\\x12S\\xbc\\x8c\\x83\\xda7jr\\xf6\\xd7\\x0fL\\x9c\\xd6\\xa1]d6\\xf3\\x91\\x1bC\\x8e\\xb8R\\xea\\x83`\\x82\\xad\\xd2s\\x8e\\xa3\\x91\\xd4qYm\\xe4\\xad3o\\'8G\\xfb\\xb5\\x0fr\\xe9\\x81Q\\xa7\\xa3#\\xc8R\\x07\\x9c/\\xfe*`\\x90\\xdd\\xac\\xb7\\xe48\\xcf\\xa5+\\xff\\x00\\x8a\\x83\\xd6:^\\xde!\\xa7\\xd8\\xca{Y_\\xaf\\x8a\\xb8\\x8a\\tH\\x91=\\xbf\\x14L\\x86\\x92:\\x8bG\\xfe*\\x0f#v\\xbb\\xa5D%l\\xe0\\x1c\\x03\\xd1\\xa7\\x8f\\x7f\\x97A\\n\\xea\\xa9WT\\xa0NDg\\x14\\xd9\\xca\\x17\\xb8\\x94\\xa9>e\\x05\\xe6\\xa0Yk\\xbb!\\xb6eD\\xb8\\xa0\\xcba\\x00#\\xc5\\xf8\\xd2>aQQ\\xdf\\x1d\\xc7=\\xd5D\\xfb6\\xb1\\x99wu\\x10\\x979v\\xab\\x88;\\xa5\\nBKN\\x1e\\xe2\\xae(<9\\x1c\\xe7\\xaa\\x82{\\xd3\\xf5\\x03N\\x16\\xdc\\xbdKmi\\xe0GD\\x80G\\xb2\\x81\\x9fto}w\\xfb\\x87\\xa3p\\x7f\\x86\\x83\\xcd\\xeb\\x85\\xebw\\xc5\\xbe]V\\xa3\\xc8\\x07\\xd2\\x9fn\\xed\\x03X\\x999\\xd4\\xa5o\\xea\\x0b\\xb3-\\x9f-nJ  u\\xe7\\x03\\xab\\xba\\x82\\xbeE\\xcdJp\\xeej\\x19\\xcao\\xf1I\\x98\\xae=\\xfeP\\xa0\\x8a$E\\x0e\\xa9\\xe5OukW\\x96\\xae\\x99{\\xca\\xf3\\x90\\xac\\xd0y\\xb8\\xcc\\xae\\x9c\\\\\\xac\\x92\\xa4\\xa2C|\\tqE{\\xc9\\xf9\\xb9W\\x949\\xf05\\x04\\xf8.\\xdb.\\t\\x90\\x990 \\xc5\\xb80GL\\xd8F\\xf2\\x1d\\xcf5$\\x9e\\x03\\x98\\xf1|\\xf5G`\\xf8(\\xb8\\xd4=\\xb3YT\\xc4v\\xf7V]m]\\x13`\\x01\\xbc\\xd2\\xc6N\\xe8\\xa0\\xfb\\xb2\\xa0\\xc2^\\xbf\\xa7\\xb7\\x0f\\xfe[\\x13\\xff\\x00\\x12Et\\xe0\\xe7\\xf2\\x16\\xb4\\xe6Bh\\x1aM\\x02\\x13@\\xd2h\\x10\\x9a\\xa1\\xa4\\xd5\\t@\\xd2j!\\rT!4\\r4\\t@\\x84\\xd0!4\\t@\\x86\\x81(\\x12\\xb4\\x82\\xa0i\\xa0Bj\\x84\\xa0\\xa1\\xd4\\xdf\\x86\\xc5\\xfa\\x0b\\xa9V8E\\xec\\xe3T\\xc9\\xfd\\'\\xeb\\x15\\x8f\\xb7O\\xa5\\xc9W\\x1a\\xd3\\x997\\xa86\\xfb>\\xe3f\\x96\\x7f\\xd6\\x93\\xfc\\x15bU\\xe4\\xef\\xc0d~i^\\xe3V\\xfaI\\xeds\\xcb\\x87e\\x14P\\x14\\x05\\x01@P\\x14\\x05\\x07\\xabseFmje\\xf5#\\x08W\\x7fW}K<,\\xf6\\xc3m\\x03g;?\\xd5O\\xc0r\\xf1a\\x94\\xcb\\xd1\"\\xa6+\\x0f[\\xee\\x0biIl\\x12@)XZU\\xc4\\x9e\\'\\x8f\\x1a\\xe7xk\\xa4\\xe7\\x9fL\\xd3\\x9f\\x07\\xcd\\'%\\r\\x8bf\\xa9\\xbeB\\xddp,\\t0\\xd9\\x7f\\x97VR\\xa4\\x1feg\\xa5j|\\x91]\\x1b\\xe0\\xeft\\x92\\xca\\x9coV[R\\x03\\xae7\\x85\\xc3w>\"\\xd4\\x9c\\xf0\\'\\x9e\\xee}4\\x9cV\\xf3\\xc3\\x8f\\xc1\\xc6\\xfb\\xd5\\xaa\\xec\\xc7\\xcf\\x1d\\xf1\\xf5U\\xeaw\\x86\\xff\\x00\\xd9\\xc6\\xff\\x00\\xff\\x00\\xea\\x9b\\'\\xfb\\x97\\xff\\x00\\xe1\\xa9\\xd4\\xef\\x0e?\\x07+\\xe6\\x065E\\x97=\\xa5\\x97\\xf8wy4\\xeaw\\x88\\xcf\\xfc\\x19oO=\\xd2\\x9dgmh\\xee\\x80Cq\\xdd \\xe3\\xce\\x9au;\\xc7\\xb3?\\x06\\x19[\\x80?\\xae\\x1b*\\xeb(\\x8e\\xbcz\\xb1N\\x89\\xdd\\xee\\x8f\\x82\\xfb\\x7f\\x8f\\xae^\\xfdX\\xaa\\xfbE:\\x1f\\xc8\\xf6\\x8f\\xf0_\\x84\\x85\\xa5N\\xeb\\xb9\\xab\\xc1\\xce<\\x03#\\xff\\x00\\x12\\x9d\\x0e\\xefY\\x9f\\x05\\xcd;0\\xe6V\\xae\\xb9\\x12\\xa2\\x92\\xbe\\x8e\\xde\\xdaw\\xf1\\xcb9]^\\x87\\xf2-\\x9a\\xf89\\xe9\\x90\\x00sT_W\\x80\\x00\\xc3\\x0c\\x8e\\x03\\xcf\\x9au;\\xa4\\xb7\\xf0x\\xd1\\x89\\xf2\\xef:\\x89\\xcf\\xd6e?\\xe04\\xea\\x9d\\xeaK\\x7f\\x07\\xfd\\x00\\x9f.F\\xa0s\\xcf1\\xb1\\xeen\\xafXw\\xa9-\\xec\\x1fg\\x08\\x18T;\\xc3\\xa3\\xb1W#\\xc7\\xd4\\x91N\\xb0\\xefSbl_f\\xf1\\x93\\xba\\xdd\\x8aA\\x1c\\xfcy\\xee\\x1f\\xb2\\x9dbw\\xa9\\xad\\xec\\xa7g\\xa8\\x18\\xfb\\xdam@\\xf3\\xdf\\x96\\xf9\\xff\\x00\\x1d:\\xc3\\xb5{\\xb1\\xb3-\\x9e2AF\\x8b\\xb3\\x92?\\xb4mk\\xfe%\\x1adN\\xd5g\\x07H\\xe9(?\\x81iK\\x04~9\\xf1-\\xcds\\xf4\\xa4\\xd5\\xc8mh\\xad(m\\x95)\\xb6Zi\\x96\\xf7\\x0f\\x8a\\xd3i@\\xf5$\\n#p\\x0eFk\\x8b\\xd0\\xe4[P\\xd4\\x12,\\x1a\\xf5e\\x88\\xec\\xbc$[\\x98\\xde\\x0e\\x121\\xba\\xe3\\xd8\\xc6>\\x95t\\xe1\\xe9\\xcf\\x9a\\x95\\x9d\\xa1\\x9f\\xeb\\xad?\\xee\\xdf\\xfbEi\\x8cKg_\\xda\\xd5\\xf2\\xb0\\xe67\\xe6\\xddW\\xd7C\\x13\\x1a\\xd6\\x96\\x07<\\xa9\\x0f7\\xf4\\xd9W\\xd5\\x9a&%5\\xa9l.\\xf97X\\xc0\\xf6(\\x94\\xfb\\xc5\\x04\\xc6\\xae\\x10^\\xf9)\\xb1\\x9c\\xfa/$\\xfduG\\xb8;\\xdcG\\x1f7\\x1a\\xa1\\x0f\\x7f\\n\\x06\\x93Q\\x08MT!\\xa0i\\xa0J\\x04&\\x81\\r\\x02P!\\xa0J\\x04\\xad \\xa8\\x1ah\\x10\\x9a\\xa1(\\n\\n\\x1dM\\xf8d_\\xa0\\xba\\x95c\\x84_P\\xe1\\xd5\\x12J[Y\\x1e\\x10\\x0eBI\\x1dU\\x8f\\xb7_\\xa5\\xa9<kND\\xcd\\x06\\xebg\\x9f\\xcc\\x92\\x8f\\xfa\\xd8\\xfe\\n\\xb1*\\xf6p\\xcc\\'\\x87j\\x08\\xab}$\\xf6\\xca\\xde\\xb6\\x9b\\x01\\n\\x99\\x02<yQ\\xa5$\\xee\\xb6\\xea\\x8a\\x14\\x13\\x93\\xe5\\x10\\t\\xc7\\x01\\x9c\\x1a\\xe7\\xde:\\xcf\\x8e\\xbd\\xb4\\xf6\\xb1\\x8e\\xdc\\xa4\\x8b\\x9e\\xa8\\x85.:\\xd3\\x8c\\xa9\\x80\\xd2\\x90\\xae\\xd2GWW\\x11W\\xb4\\xfc\\xa5\\xe1\\x7f\\r\\xe0 \\x80A\\xc8<\\xabl\\x16\\x80\\xa0(\\n\\x02\\x81\\x8f\\xf0a\\xdf\\xcd\\xab\\xdcj_K=\\xa2]\\xbc\\xb6\\xcfp\\xf7T\\x8bS\\xadg\\x80\\xa1\\x16\\xf65e\\x99i\\xf9\\x93\\x9f\\x1e\\xb5o\\x7f\\x8a\\xb3\\x1a\\xa9\\xf4A@P\\x14\\x05\\x01@P\\x14\\x05\\x07!\\xda\\x1d\\xf7X\\xc1\\xda\\xdd\\x9a\\xddi\\x88\\xa7 \\xbc\\xeb{\\xe7p\\x10\\xa6\\xce\\xeerO\\x14\\x80w\\xf9s<\\xfa\\xab7u\\xd3\\x8c\\x98\\xeb\\xe7\\x99\\xc7*\\xd3\\x99(\\n\\x02\\x80\\xa0($@\\xf9U}\\x05{\\xa86\\xac\\x9c\\xb2\\x83\\xf9#\\xdd\\\\^\\x88\\xc7\\xeb}\\x9f\\xc1\\xd5\\x17D\\xdc\\x9e\\x9f*3\\xe9a,\\x80\\x84\\xa5I\\xc0* \\xe0\\x8c\\xe7\\xc6=u\\xa9\\xcb\\x19\\xbcu\\x92\\x99\\xb1\\xc9i\\xcf\\x81\\xdfY_`z9O\\xb4\\x13Z\\xee\\xcfE\\x15\\xcff:\\x8e\\x17\\x1e\\x9a\\xd8\\xe8<\\xb1\\'s?\\xb4\\x05;C\\xads\\x9dI|\\xb2\\xe9\\xcdH\\xbd9{\\xba\\xc3\\x83t@A,\\xb8\\xe8 \\x85\\x8c\\xa4\\x85\\x8f\\x14\\xe7=G\\xcfW\\xb4N\\xb5>J\\xd1\\x1d\\xee\\x86C\\xad4\\xeeq\\xb8\\xa7\\x12\\x0f\\xab5S\\x0b\\xbb\\x91\\x9d\\xcc\\x8e\\xdcP9\\xb7\\\\l\\xfc[\\xae \\xfeJ\\xc8\\xf7PLf\\xf1vg\\xe4\\xaer\\xd3\\xfe\\xd4\\x9f}Q1\\xadS~o\\xff\\x00\\x88)\\x7fM\\tW\\xd5D\\xc4\\xb6\\xb5\\xad\\xe5\\x1eX\\x88\\xef\\x9d\\xac{\\x8d4\\xc4\\xa6\\xb5\\xdc\\xa1\\xf2\\xd6\\xe6\\x15\\xf4\\x1cR}\\xf9\\xa6\\xa6%\\xb5\\xae\\xa2\\x9f\\x95\\xb7>\\x9f\\xa0\\xe2O\\xbf\\x14\\xd3\\x12\\x9b\\xd6ve\\xf9b[~v\\x81\\xf7\\x1ai\\x89Mj{\\x13\\x9c\\xae\\tA\\xfc\\xb4)?U]LJj\\xedkw\\xe4\\xeeQ\\x15\\xfe\\xd8\\x0f}\\x0cJC\\x88s\\x8bn!c\\xf2T\\x0f\\xba\\x81\\xc4\\x11\\xcd\\'\\xd5D75\\xa4\\x15\\x03I\\xa0\\rP\\xda\\x02\\x80\\xa81\\xd7\\xf7\\xfa]k\\t\\x8c\\xe5-)\\xb4\\x91\\xd5\\x92r}\\xe2\\xb3[\\x9e\\x9c\\x97h\\x8f<\\xde\\xb4\\xb8%\\xb7V\\x94\\xa5\\xc4\\x94\\xa4(\\x80<Q\\xd5Y\\xad\\xcfOF^K\\xcc\\xa1\\xd4\\xf2X\\xcf\\x9a\\xb6\\xe7N\\xcf\\x9e\\x88\\xdf\\xec\\xd9%\\xcb,\\x94\\x85$\\x13/\\xf1\\x95\\x81\\xe4\\n\\xb1+Oq\\xb7JL<\\x00\\xda\\xd4\\xfa\\xd2\\xd3iC\\x81EJQ\\xe5\\xea\\x04\\x9e\\xc0\\t\\xa5\\xb0\\x92\\xbdg\\xe9KL\\xa9fL\\xed9o\\x90\\xe1QQt\\xc3l\\xb8s\\xcc\\xefc9\\xf3\\xd4\\xc9Z\\xdeL\\xfc\\xdd\\x99h\\x82\\xea\\\\E\\xb2bG\\x1d\\xe6\\x96\\xfa\\x92\\x83\\xfb$g\\xccju\\x8d\\x7f%j\\x10\\x94\\xa1\\tB\\x00\\tH\\x00\\x01\\xd4\\x07![s-\\x01@P\\x14\\x05\\x03\\x1f\\xfc\\x1d\\xdf\\xcd\\xab\\xf8MK\\xe8\\x9e\\xd1n\\xdc\\x9a?\\x92\\x9fp\\xa9\\x1a\\xa9V\\xa3\\xca\\x84Y\\xe9\\xe5\\x7f*\\xbc7\\xf3\\'\\x05~\\xd3\\x0c\\x9f\\xb6\\xb2\\xd5[Q\\x05\\x01@P\\x14\\x05\\x01@P\\x14\\x08R\\x92\\xa4\\xa8\\xa5%I\\xce\\xe9#\\x88\\xcf<\\x1e\\xaa\\x05\\xa0(\\n\\x02\\x80\\xa0($A\\xf9U}\\x05{\\x8d\\x06\\xd2?\\xc87\\xf4G\\xba\\xb8\\xbd\\x11\\xe9AK\\xadu-\\xbfIi\\xd9\\x17\\xdb\\x9ad.,r\\x80\\xb0\\xc2\\x02\\x97\\xe3($`du\\x91A\\xf2\\xe7\\xc2\\x8fi\\xdb3\\xda.\\xce\\'\\xdaZ\\xb4\\xdd\\x1c\\xbf\\xc3OKl\\x92\\xf4P\\x81\\x1dyI_\\x8e\\x17\\xc9H\\x04\\x11\\x82\\x0f\\x0e\\xc1A\\xf1\\xa5\\xc2\\xd1v\\x81\\x02\\r\\xc2u\\xbadh\\x97\\x04)\\xc8o<\\xd2\\x92\\x89\\tI\\xc2\\x94\\x82x(\\x03\\xc0\\x91\\xd7A\\x05\\x19+\\x03\\x96M\\x06\\xa6+7\\xe8\\'\\xfc\\xdf{\\x9d\\x1b\\x1c\\xba7\\x96\\x8fq\\xab\\xe4\\xc7J\\xd0?\\x7f\\xd2\\xadj\\x99+X\\xcfi%{\\xac%A/o\\x01\\xcdG|\\x1e\\xbe\\x1e\\x83Z\\x96\\xb3\\x91\\xa8M\\xc3_\\xc6\\xf2.\\xd6\\x99\\xc0uH\\x83\\xb8O\\xa5\\n\\x1e\\xea\\xbbS\\xacC\\x99\\xb4}Wip\\xa2\\xe7\\xa4bI\\x03\\x89\\\\IjNGh\\n\\x06\\x9d\\x8e\\x8f8\\xdbt\\xd3\\xe1\\xc0\\xdd\\xc2\\xcbv\\x86\\xbe\\xbc\\x048\\x07\\xb4\\x1aw\\x89\\xd2\\xaf \\xed{AJ *\\xee\\xece\\x1e\\xa7\\xe2\\xad>\\xd0\\x08\\xab\\xda\\'Z\\xbe\\x83\\xac\\xf4\\x8c\\xdc\\x08\\xba\\x96\\xd4\\xb2\\x7f\\x14\\xc9JO\\xa9X\\xab\\xb12\\xae\\xa3\\xbe\\xc4\\x84\\xefG}\\xa7\\x81\\xebma^\\xea\\x0fR\\x08\\xe6\\x08\\xf3\\x8a\\x04\\xe0{\\xe8\\x01\\xc0\\xe4p\\xf3p\\xa0\\xf7fl\\xd6~Jd\\x96\\xfe\\x8b\\xaa\\x1f]\\x04\\xc6\\xb5\\x05\\xed\\xbf&\\xe7 \\xfd\"\\x15\\xef\\x15S\\x12\\x9a\\xd5\\x97\\xb4yO\\xb2\\xe7\\xd3e?V)\\xa6D\\xa6\\xb5\\xa5\\xc1?)\\x0e#\\x9em\\xe4\\xfdt\\xda\\x9dbSZ\\xd9?\\xd6\\xdb\\x0f\\xea?\\xf6\\x8a\\xbauIkY[U\\xf2\\x91\\xa67\\xe6\\tW\\xd6)\\xa9\\xd5)\\xadSd_9.\\xb7\\xf4\\xd8W\\xd5\\x9ai\\xd5)\\xab\\xe5\\x99\\xd2\\x02.\\x91x\\xfc\\xe5\\x14\\xfb\\xc0\\xa6\\xa7Z\\xc4&G\\x85j\\xf4I\\x07!s\\x01I\\xee\\xde\\xc0\\xf6\\n\\x8d\\xfd9\\xce\\xd2\\xf8k{\\x8f\\xd2G\\xf0\\n\\xcdY\\xe9\\x0e\\xc4\\xfaK+en6\\x80\\x83\\xbc\\n\\xd6\\x128\\xf5q\\xab*r\\x89\\xe5\\xf8\\xa9\\xf2\\xa7D\\x1f\\xed3\\xee\\xab\\xa9\\xd6\\xba\\x0e\\xcdV\\xdb\\xba~J\\x99u.\\x813\\x04\\xa0\\x1c\\x0f\\x8b\\x1d\\xa2\\xb5\\xc5\\x8eS\\x1a4\\xf0\\x9d\\x13\\x1c\\x0fJ\\x7f\\xf0\\xd7V\\xa4]\"L\\x84y/8?Z\\xa6.\\xbdSp\\x949\\xac(~RA\\xa6.\\xd2\\x99\\x89W\\xca\\xc4e~a\\x8aa\\xa6\\x97!/\\x9b\\x0e#\\xe8\\xaf>\\xfay<\\x1aQ\\x18\\xf9\\x0f\\xa8w-\\x1fe<\\xa3\\xcdM\\xe3\\xc9q\\n\\xf3\\x1a\\x06\\x94\\xa8s\\x15BP2G\\xe0\\xee\\xfem_\\xc2j_D\\xf6\\x8bv\\xf96O\\xf7i\\xf7\\n\\x91\\xaa\\xf6\\xb5\\x1eT\\x16\\x16\\x05cQ_Y\\xed\\x10\\xdd\\xfd\\xa6\\x96\\x9f\\xfc\\xba\\xcf\\xdbW\\xd2\\xf6\\x88(\\n\\x05\\xc1\\xec\\xa0pmg\\x92\\x15\\xea\\xa0zc<\\x7f\\x13\\xd7@\\xe1\\x11\\xce\\xb56\\x9f:\\xc5\\x03\\x84D\\xfe4\\xa6G\\xebf\\x81|\\x1e0\\xf2\\xa6#\\xd0(\\x0e\\x8a\\x08\\xe7%g\\xcc\\x9a\\x00\\x8bx\\xe6\\xe3\\xc7\\xd1@\\x9b\\xd0:\\x92\\xfa\\xbd\"\\x80>\\x0f\\xf8\\xb1_>\\x9f\\xf9PG\\x91\"##.\\x842;\\\\t\\'\\xdfAM?V\\xe9H9\\xf0\\xcdGc\\x8d\\x8e}%\\xc5\\xa1\\xefU5q\\x9e\\x9f\\xb5\\xed\\x97\\xc2\\xcfO\\xae\\xecD\\x8e\\xa6\\xa4\\x17O\\xee\\x03Sa\\xd6\\x97\\xfc\\xb0hx\\xd3\\x10\\xcbr\\xee\\x12\\xd6\\xee\\x1bA\\x8f\\x01\\xc5\\'*\\xe0<c\\x80\\x07\\x1av\\x8b\\xd6\\xbb\\xabCu\\xb4\\xa4\\xf5\\x00+\\x93\\xb4cv\\xe3w\\xbcX6O\\xa8\\xaf6\\x07\\x94\\xcd\\xd2\\x1c2\\xf4U\\xa5\\xb0\\xe1\\x0b\\n\\x1f\\x8aA\\xceyc\\x14\\x1f\\x04\\xed\\x03m[P\\xb9?nN\\xb4vsM-\\x9d\\xf7a\\x05\\x18\\xcdIF\\xf2\\xc2TY\\xc0\\x03\\n\\x1c\\xc89)\\x14\\x1c\\xfa\\xfd\\xaa\"\\xdc\\xaeh\\x9a\\xdcyM\\xe1+IGH0B\\x93\\x8e\\xae\\xff\\x00e\\x06\\x83b\\xbax\\xed\\x12\\xe9q\\xd3wy\\xcf\\xbea\\xe9\\xe9j\\xb2\\xa1\\xf9j\\x08\\x8f$\\x14\\xa9\\xa4 \\x13\\x80\\x14\\xb2F\\xe8\\xe6TN3A\\x83\\xb4\\xda\\xa7\\xcfrZ\\xa2GS\\x9e\\x02\\xc2\\xa5H\\x19\\x00\\xa1\\xa4\\xa9!J\\xc1\\xe2q\\xbc2\\x07\\x1cd\\xf5\\x1a\\x0e\\xab\\xf7)\\x05X$$g\\x89<\\x87}hi\\x1f\\xd5\\xfaN\\xcc\\xebV\\xa7.\\xac\\xa1M \\'\\x08J\\x96\\x94\\x8e\\xf2\\x90@=t\\xd8\\x8b\\xeb|\\xd8w\\x08\\xa9\\x95\\x06SRX_\\x92\\xe3j\\xc8=\\xde~\\xea\\xa2\\x0e\\xa5d.*]\\xc7\\x14\\x1c\\x1f1\\xa5\\x1c\\xff\\x00P\\xd9\\xe1\\xceA+i!]\\xa0VU\\xcf\\xae\\xf6Gb,\\x96\\xc9)\\xa8+\\x19\\x8f!\\xf7\\xd2\\xc3,\\xad\\xd7Tp\\x94%9$\\xf7\\n\\x0fx\\xd1\\xaem\\xadj\\x8c\\xc4\\xb4\\xad\\xb3\\x85\\x96\\xd2\\xa0S\\x8e\\xdcr\\xa0\\xb0\\x81\\xac5\\\\\\x02<\\x13Q]Z\\x03\\xa8JY\\x1e\\xa2qWjd_A\\xda\\xe6\\xbd\\x8aFo~\\x10\\x07S\\xf1\\xdb_\\xb7\\x19\\xab\\xda\\xa7X\\xbe\\x81\\xb7mR\\xd9\\x02U\\xba\\xd3(u\\xe1\\xb5\\xb6O\\xa9X\\xf6S\\xbd:F\\x82\\x06\\xde\\xd2p\\'iu\\x81\\xd6c\\xcb\\xcf\\xb1I\\xfa\\xea\\xf7N\\x8b\\xc8;o\\xd2O`I\\x87w\\x88z\\xca\\x98J\\xc7\\xb1_U^\\xf1:U\\xe4\\x1d\\xa9\\xe8)|\\x13\\xa8\\x1ad\\xf6>\\xcb\\x8d\\xfb\\xd3\\x8a\\xbd\\xa2u\\xab\\xd8\\x1a\\x9fM\\xcf\\xc7\\x81\\xdf\\xedO\\x93\\xd4\\x89h\\xcf\\xab9\\xab\\xa9\\x95l\\xda\\x83\\x89\\xdel\\x85\\x8e\\xd4\\x9c\\x8fe\\x02\\x9e\\x1c\\xf8P\\x14\\x05\\x04\\xbb7\\x0b\\xbc?\\xcf\\xa3\\xde(\\x8c.\\xd3\\xf8k{\\x87\\xea\\x7f\\x00\\xa5Y\\xe9\\x9b\\x07\\xc4W\\x9c}u\\x14\\xdf\\x08Tb\\x1eI9I\\xe1\\x8c}u*\\xcfi,\\xea\\x07\\x90\\xa0zE$\\x8e\\xb0\\x9d\\xd3\\xebA\\x15\\x9d\\xad\\xf8XF\\xd6\\x97&\\xe7Fm\\x17\\x99\\xb1\\xd2\\x02\\xd7\\xbc\\x87\\xb7\\xc8 \\x00\\x06\\x1d\\n\\x18\\xf1\\x8d^\\xd5\\x9e\\x9cZ\\xbbf\\xd0o\\xcd\\xe3\\xf9}\\xb6\\xe2\\x8f\\x9b*7@\\xa3\\xfe\\xd1\\xb3\\xbb\\xebMk\\xbdf\\xfcq\\xb6\\xd2\\xba\\xca-\\xf2jm\\x8eDr\\r\\xd1I*DWV\\x0fL\\x072\\xd2\\xc7\\x071\\xd6\\x06\\x14:\\xc5nr\\x95\\xce\\xf0\\xb1\\xa1q\\xf55\\xf2\\xf1\\xa52;V\\xc2\\x80\\xf5\\xe2\\xae\\xa6R\"tE\\x9c&Cy\\xec\\xde\\x19\\xa2=\\x82\\xd0FB\\x81\\x15C\\xa8\\n\\x02\\x81\\x92?\\x07w\\xf3j\\xfe\\x13R\\xfa\\'\\xb4[\\xaf\\xc81\\xf9\\xb4\\x7f\\x08\\xa9\\x1a\\xa7\\xda\\x8f*\\x11\\x1eV\\xa5\\xb0i\\xado+\\xee\\xfd\\xee\\xdfjD\\xdbLu\\xb0\\xa9r\\x12\\xd0uM\\xbc\\xfaT\\x13\\x9ed\\x05\\xa7\\x80\\xed\\xac\\xdf\\x15\\xbc\\xd8\\x9a\\xc6\\xd24\\x1b\\xef\\xa5\\x88\\xfa\\xae\\xd9!\\xd5rK*S\\x9f\\xc2\\x92)\\xb1:\\xd5=\\xd3m\\xdb+\\xb6\\xcav,\\xbdc\\x11/\\xb2\\xb2\\x87\\x1bLw\\x96R\\xa0pG\\x04T\\xed\\x17\\xadU?\\xf0\\x8b\\xd9+^N\\xa0\\x96\\xf7\\xe6\\xad\\x8f\\x9fzE;C\\xa5@\\x91\\xf0\\x9b\\xd9\\x9bY\\xe8\\x97\\xa8\\x1f\\xfa\\x16\\xd2?\\x89B\\xa7h\\xbd*\\xb6G\\xc2\\xa3D$\\x1e\\x82\\xc5\\xaa\\x1f\\xec\\xf8\\x96\\x91\\x9f[\\x86\\x9d\\xe1\\xd2\\xab\\xa4\\xfc+,c>\\x0f\\xa2oN\\xf6t\\x92\\xdaN}@\\xd3\\xba\\xf4V\\xc8\\xf8V\\xbar\"\\xe8\\x0f\\xf7\\xd7O\\xf8[\\xff\\x00\\xa3\\xc3\\x9dN\\xe7D\\x07\\xbe\\x14z\\xad\\xdc\\x88\\x9a&\\xd0\\x8e\\xcd\\xf9/9\\xee\\x03\\xcd\\xe7\\xe1\\xce\\x9d\\xd7\\xa4E\\xff\\x00\\xb46\\xd5\\xe6\\xb8\\x96\\xe1i\\xdb\\x1b%g\\x00\\x88o,\\x0fJ\\x97\\x8f\\xfa=\\x94\\xedN\\x91\\xb5F\\xb1\\xda+vFn\\x1a\\x9f_Xt\\xe2\\xa46\\x1ce\\x96\\xac\\xc1\\xe7T\\x83\\xf8\\xfb\\x80(\\x84v)X\\xcf01N\\xd4\\xeb\\x18]Q\\xaa\\xb6\\xdc\\xd4\\xb6E\\xb7^\\xfd\\xd2\\x83)\\xb2\\xecY\\x90\\x1aa\\xb6\\xddFpH;\\x80\\x8c\\x13\\xc4\\x1c\\x11\\xc0\\x11\\x82\\rM\\xab\\xd7\\x8a\\x89\\xe9{i\\x9d\\xf8V\\xb7\\xbd\\xa4\\x1ec\\xee\\x99G\\xf0\\x7f\\xd7\\x1e\\xee/&Et\\x8d7\\xae&\\xe7\\xee\\x96\\xb1\\x9a\\xe6y\\xf4\\xb77\\xd7\\xec\\xcf\\xfdc\\xbf\\x83*\\xf8E;9K\\xa73o\\xed\\xb8z\\xf2\\x14\\xe1\\xf5\\x95T\\xc0\\xa9\\xd9\\xfe\\x9bc\\x8c\\x9b\\xcf\\x9fu\\xa4\\xa7\\xdf\\xe9\\xa6EM\\x83\\xa5\\xf4s_\\xcaQ)\\xf9Hd\\xe5G\\xa4N\\xe0\\xc7\\x1e8\\xc7\\x9f\\x9fU<#W\\xa6mz\\x8e\\xf8\\xeb7]?\\xa5\\xaer\\xec\\xf1\\xddC\\xcf\\\\\\x9e\\x01\\x96:4\\xa8\\x15)\\x1b\\xd8.\\x00\\x01\\xf2G\\x1e\\xda\\xb2%\\xaf\\xb1\\xb6e\\xb4\\x8d9\\xaf\\x99\\x96,\\xef8\\x89\\x90T\\x13.#\\xc8)q\\x92yy\\xc1\\xea\"\\xa5\\x98K\\xad\\x9dF\\x95\\x97D\\xd8^P71np\\xb7\\xc0\\x19\\x1b\\x84\\xa7\\xbb\\xc6\\xe5A\\xcev\\xc7j\\xd2\\xf7\\xed$#X\\xefzZ\\xdf{\\x83%\\x13m\\xca~C(mN\\xa0(\\x16\\xd7\\x8e;\\xabB\\x96\\x82G-\\xec\\xf5P|9e\\xd0\\xf7\\r#\\xb5+\\x04\\x85@\\x93%\\x16\\xf9\\rNpxdR\\x97\\x16\\xd2\\xf7\\xc2P\\xe3kZwI@\\x19<pyU\\xc0\\xdd\\xa4D\\xfb\\x8b\\xb5\\xbb\\xdd\\xf7K\\\\ \\xc0\\x875\\xe7\\x9da\\x89KHRZ\\x90\\x82\\x1dh\\xa1@\\x82\\x91\\xd2-\\x1d\\x84\\x00EA\\xae\\x05\\xbbs.Opx\\x91\\x19[\\xc7?\\x92\\x92~\\xa1ZG\\x10\\xb1[\\'j{\\xf9a\\x0e%+uJzC\\xcb\\xf2[Nr\\xa5\\x1f_\\xac\\x8a\\xca\\xba\\xf6\\x89\\xd3\\xf0\\xac\\xae\\xad\\xabN\\xa0\\x98\\xe3n|\\xbbd#\\x05C\\x92\\xc0 \\xfa\\xbb<\\xd5\\xa8\\x8d%\\xd2<\\xd3\\x05\\xd4\\x9b\\x82V\\x9d\\xdc\\xe1QF\\xf7\\x0f1\\x02\\x83\\x12\\xfc[\\xb4\\xb8\\xa9v\"\\x1et8Hm(m\\xb0\\xb5\\xe3\\x9e\\xearT|\\xf8\\xa8\\xac~\\xa3\\x87}\\x88U\\xe1\\xd0\\xae\\xad\\x0f\\xef\\x19\\xdc\\x1e\\xb0\\x8f\\xae\\x81\\xba>R\\x19eO\\xc4\\x84\\xfc\\xab\\x80{%)I \\x000\\x8c\\xa8\\xf2\\x1b\\xc4\\x93\\xde\\x07eA_}3L\\xc56\\xd1Z\\xe5-EO\\xba\\x8c\\x8d\\xe5\\x13\\xc5)\\xed\\x03\\x95\\x07\\xa5\\xbfIO\\x94\\xcaV`\\xdc\\x14\\xb5s\\x1d\\x18BG\\xa5G\\x8f\\xaa\\x82S\\xfa*c\\r\\xef\\xbf\\x1c0\\x9e\\xd7e${\\x93AZ\\xed\\x91\\xa4+\\x08\\x9b\\x1bxu%e\\xcfp\\xa0h\\xb78\\x83\\xc0\\xf4\\x83\\xb5-\\xac{\\xc5\\x07\\xa2cn\\xe3}\\x0bN~r\\x08\\x1e\\xea\\x0fa\\x01*\\xe6\\x8c\\xfa*\\xe0j\\xad\\r\\xab\\xfa\\xb1\\xea\\xa6\\x07\\xb1\\x02\\\\C\\xbd\\x0eT\\x98\\xe7\\xb5\\xa7T\\x9fu\\x05\\xa4=E\\xae-\\xe3\\x11uE\\xd4\\x01\\xc8-\\xf2\\xb1\\xeaVi\\xb52-bmCh\\x90\\xf0\\x1c\\xb8F\\x98\\x07\\xf6\\xf1\\x10s\\xe9\\x00\\x1a\\xbd\\xaau\\x8bh\\x9bp\\xd4\\xcc\\x80\\'X-\\xb2;Kem\\x9fy\\xab\\xdd:/\\xac\\xbf\\x08\\x0b{\\x13\\x18~\\xe3\\xa6f\\xb6\\x1bq+WA%+\\xe4s\\xc3x\\n\\xbd\\xd3\\xa2\\x93Z\\xed\\x8a\\xcfz\\xd4\\x12.Q,\\xf3\\xd0\\x87Bp\\x97\\\\@#\\x03\\x1dY\\xa9y,\\xe2\\xcf\\xbb\\xb5\\x04\\x04\\x90\\xd5\\x98\\x9f\\xa5#\\xecMN\\xcb\\xd5\\xede\\xd7\\xaa\\xbb\\\\\\x9b\\x85\"\\x1ch\\x8c\\xac(\\x97\\x14\\xf1\\xe0@\\xc8\\xe7\\x81N\\xdau\\xc6\\xa9\\xb5\\xa1\\xc4\\xef6\\xa4\\xacv\\xa4\\xe4{(<\\x9c\\xfc9\\x9f\\xcd\\xb9\\xefM\\x15!\\xb5\\xa9\\xb5o6\\xa2\\x95v\\x8a\"\\xfa\\xd3rnSi\\x854\\xac\\x00\\xa0\\xb6\\xd6\\xda\\xb7V\\xd2\\xc7\\x10\\xb6\\xc8\\xe2\\x95\\x0e|=\\x1d\\x94Ws\\xd9\\x9e\\xbb\\x9d1\\x95Z/\\x0e\\xa5\\xeb\\x8cd\\x82^\\x07w\\xc2\\x1b<\\x12\\xe8\\xc7\\x0e<\\x94:\\x95\\xdcEu\\x9e\\\\yLn\\x17p\\x8c\\xf8\\xc4\\x98\\xa1\\xcf\\xa6\\x84\\xaf\\xdfW\\x19\\xec\\xf01\\xf4\\xfb\\xa7*\\x84\\xcbg\\xb5(-\\xff\\x00\\t\\x14\\xcal\\'\\xdc\\x9bC\\x9f#*CG\\xf2d\\xe7\\xd8\\xa0i\\xe4\\xf0Cc^2\\xc5\\xd9\\xcf3\\x8c\\xa5^\\xd4\\x91M1\\xe4\\xbbM\\xd5\\x1eC\\xf0\\x9e\\xf3\\xef\\xa0\\xfb\\x8d4\\xea`\\xb7]\\x9cW@\\xa8h\\xf8\\xc0R\\x14\\x87R\\xa1\\xc7\\x87\\x9f\\xaf\\xb2\\x9b\\xa9\\x8b\\x0b\\x8e\\x94\\xb8\\xba\\xd3hi\\xc6\\x16P\\x84\\xa7\\x8a\\x88\\xce\\x00\\x14\\x95k\\xc6\\x16\\x99\\xbb0F\\xfbm\\x1f3\\x82\\x9ac\\x87|-\\x1bn\\xcf\\xa9\\xb4L\\xfb\\x93\\x8dGAfs\\x0bR\\xd40\\x01\\r\\xa99\\xec\\xe2\\rs\\xe6\\xeb\\xc1\\xcdmZ\\xae\\xd4\\xd4\\xa4;\\x1e\\xef\\x1d\\xccp)\\x0e\\xf0P=U\\x8dty\\xdf,:_P\\xdcWu[\\xcf6\\xfb\\xbc\\\\,c\\x0bP\\x18\\n9\\x07\\xc6\\x1d\\xa3\\xd3W\\xc2!\\xabHh\\xe8\\xad\\x17$._F\\x907\\x8a\\xd6\\x94\\xa7\\x1d`\\xf0\\x1c\\t\\xe7L\\x8a\\x8d\\xd1l\\xda9\\xf1\\x9eij\\xe7\\x95J\\xc9\\xcfo\\x03\\xcf\\x1c<\\xd5<\\x04\\xfb\\xab\\xb3h\\xfeDX\\x8a\\xc6\\x08\\xf2\\xd5\\x8cr\\xea\\xea\\xf6S\\xc0C\\xaa\\xf4#\\x03\\x0c\\xda#\\x9c\\x0cp\\x86O#\\x9e\\xb1\\xd4x\\xd3b\\x03\\xaf\\xb4\\xf3Y\\xf0{\\',\\xf90\\xd2;\\xfb}4\\xd5\"\\xb6\\x96\\xdax1fxy\\x92\\x84\\xfd\\xb4\\xd3\\x16\\xda+Z?|\\xd4\\xd1`\\xcb\\xb7\\xa9\\x98$\\x95\\xbe\\xb2\\xe2NP\\x91\\x92\\x9e\\x03\\xaf\\x04s\\xed\\xa6\\x88\\x17\\x9dG&\\xefu\\x91s\\x92\\xe9/Hp\\xb8x\\xf2\\xec\\x03\\xb0\\x01\\x80\\x07P\\x02\\x81\\xb6[\\xac\\xc6lz\\x8a\\x0c77K%\\xab\\x8c$\\xe3!\\xb7\\x14z7@\\x1d\\x8a\\xde\\x04\\x8e\\xd0((\\xfc7^L8B\\xa5\\xf1\\xf9\\x91q\\xef\\x1e\\x7fWx\\xa7\\x90\\xa9\\xb3k\\xc9~S\\xb7 \\x0fj\\xc3\\x7fg\\xfdy\\xa9\\x94z\\'A\\xea\\xb9<dHs\\x8f>\\x92Y>\\xc0M0{\\xc6\\xd9\\xb4\\xb6\\x1dL\\x89\\x8f\\xc5ss\\xc6\\xe8\\xf7\\xca\\x8a\\x8f~q\\xc3\\xec\\xef\\xa6\\x0e\\xb9\\xb0\\x1d\\tl\\xba\\xdc\\x9fv\\xf5\\r\\x97\\xad\\xb6\\xf2\\x97\\x9c\\x8a\\x00\\xe8\\xe4<\\xa3\\xf1iV8) $\\xa8\\x8e\\xbf\\x17<*\\xc6k\\xe9\\x8d].;\\x1b5\\xbc:R\\xdaO\\x81-(\\xc6\\x00@)#\\x03\\xa8\\x0cR{/\\xa7,\\xf8\\x1a\\xc1\\xb81\\xab5{\\xaf\\xcb\\x93*\\x0fC\\x191V\\xeb\\xbd \\x19+*H9<\\xb8{*\\xf2\\xf4\\x93\\xdb\\xe9\\xaa\\xc3o\\xcf\\xdf\\x84\\xce\\xca6\\x95~\\xda\\xdd\\xdee\\x93E\\xde\\xe7CzS\\xabm\\xe6#\\x956\\xb0\\xa5\\x92\\x0eG\\x0eT\\x19\\r\\'\\xf0\\x7f\\xdb\\x1b7\\x88\\xf2\\xdd\\xd0W$2\\x8d\\xe2\\xa2\\xb5\\xb4\\x93\\xe4\\x91\\xc8\\xaf4\\x1a]\\x1f\\xb3\\xcdw\\xa7<*e\\xff\\x00D\\xdc`\\xc4nZ\\x9c3$\\xb2\\x13\\xd0\\x85  `\\xe7\\x8e\\xf1\\xc0\\xc0\\xed\\xadJ\\x95\\xca\\xb6\\xca\\xf1V\\xbb}?\\xd96\\x84\\xe3\\xd1\\x9f\\xae\\xa5\\xf6\\xabi\\xda\\xf9\\xab\\xde\\x96\\xbbB\\xfb\\x9c\\xb8\\xb2\\x0cO(;\\xbc\\x827\\xd0\\x93\\xd4\\x0f#MLTi\\xa7\\x8d\\xa3G\\xc8\\x9a\\x84\\xe6D\\xf7\\xba4c\\x99B9\\x0fJ\\x89\\xf5\\n\\x8a\\xbb\\xb6G\\xd4\\x96|\\\\\\xe69\\r\\xf6\\x1aq(\\x94\\x98\\xf2\\xdbu\\xd8JQ\\xc2C\\xc8I%\\x19<8\\xf0\\x07\\x81\\xc1\\xe1M\\x1d1R\\x93&\\xd8\\xd4\\x84\\xf2X\\xc1\\xf4\\x8a\\xd23\\x96\\xcb\\xb36\\xb6Cn\\xb7\\x0b!jl)\\xe6\\xb8\\x9f\\x1b8\\xde\\xe7\\xd9\\xc2\\x82r\\xb5k\\xe5\\xd41\\rL\\xb0\\x14y\\xb6\\xfa\\x8f\\xb0\\x92(=\\x15tS\\xbf\\x86@\\xb7\\xca\\x19\\xce\\\\\\x8c\\x9c\\xfa\\xc5\\x01\\t\\xeb\\x03\\nR\\x93`j:\\xd6w\\x94\\xb8\\xee\\x10I\\xf4\\xe6\\x80\\x9b\\x1a\\xd1pq;\\xb7\\xab\\xad\\xbd\\xbcx\\xcd\\xa1\\t\\xf1\\xbc\\xeb\\x1e7\\xaa\\x86\\xbc\\x1c\\xd2\\xd6\\xa4\\xb4]\\xb5\\x8b]\\xc2OW\\x86>\\xa4\\xa8\\xf9\\xd4\\xb0\\xaab\\xa9\\xee\\x16M~A\\x0cZ-\\x8c3\\xd4b\\x04\\xbcq\\xe9?UL\\xa3?.\\xc9\\xa8\\x90O\\x87\\xc9\\x9c\\xc9\\xeb\\x1d\\x0fF=\\x82\\x82/\\xdc\\x87\\x15\\xe5\\\\\\xa5\\xab\\xfd\\xb1\\xa0\\xf1r\\xd6\\xecG\\x1b}\\x12\\x9dZw\\xd2\\x95\\xa1j\\xc8 \\x90=|j\\x0b\\x16\\x98\\x07\\xaa\\xa8|\\x86R\\xccW_\\xe8\\xca\\xfa4\\x15\\xee\\x8eg\\x038\\xa0-\\xec76\\x0b\\x12\\x92\\xd9Hu\\xb0\\xbc\\x1e\\xac\\xd01\\xa6\"H\\x99\"\\x1bg/G\\xdd\\xe9\\x13\\x8eY\\x1c<\\xf4\\x0c\\x9fna\\x86\\x8b\\x8e\\xa4c\\xa8c\\x89=\\xd4\\x19\\xa8\\xaab\\\\\\xe7\\x99\\xddIm\\xb4\\x15e#<r\\x00\\x03\\xb6\\xa0H\\xb6\\xf8\\xd7\\t/\\xb0\\xd3cy\\xa0\\n\\x88\\xef8\\xc5\\x02?\\xa6\\xd43\\xbb\\x91A\\xd0\\xb6\\x7f\\xa0 \\xda\\xe3\\x1b\\xce\\xa2C.9\\xbb\\xbc\\xdb/\\x81\\xd1\\xb2\\x9f\\x9c\\xbc\\xf0*\\xee<\\xbc\\xfc\\xb5\"(v\\x87\\xab4\\xfb\\xac\\xb9\\x07NAB^\\xc8\\x06kC\\xa3\\x00\\x03\\xc4$\\x0ey\\xed\\xa9U\\x90\\x89\\xa9\\xef\\xb1\\x96\\x85&\\xe2\\xea\\xf7\\x01\\x00;\\x85\\xf08\\xcf?0\\xa84v}\\xa0/}-\\xddb\\xa4\\xa4\\xff\\x00Z\\xc0\\xc1\\x1et\\x9e~\\x8a\\xba\\x98\\xddA\\x96\\xc4\\xb8\\xed\\xca\\x86\\xfa]m\\\\R\\xb4\\x1f\\xfa\\xc1\\xaa6\\x9af\\xe8\\xfa\\x8b\\x0fGRE\\xc2\\x1a\\x8a\\xd8\\xc9\\xc0^G\\x8c\\xd9\\xfc\\x95\\x8e\\x1d\\xc7\\x07\\xa8U\\x97\\x12\\xcd\\x8e\\xef\\xa7.\\xb1\\xef\\x16\\x86\\'\\xc6Q(q\\x00\\xe1\\\\\\x14:\\x88=\\x84\\x10A\\xef\\x06\\xbbO/=\\x99V5PP\\x00\\x91\\xc8\\x91\\xe6\\xa0\\xf5D\\x99\\x08\\xf2^p~\\xb5CSm\\xd7\\x19huJ\\x0e\\xe4\\x84\\xf0\\xcaEK\\x16W\\xa4\\x8dMqg8\\x0c\\xaf\\x1d\\xa9\\xa9\\x8b\\xaf8\\xba\\xc6k\\x8a\\xc2\\xe2\\xb0|\\xc4\\x8aa\\xac\\xe6\\xb4\\x83c\\xd4\\xba\\x8e\\xd93RXmw6#\\x9d\\xc0\\xd4\\xc6C\\xa9\\tZ\\x17\\x9cg\\x91\\xdeJ}u\\x9eQ\\xd3\\x8dE\\x99\\xb3\\xbd\\x96K@\\x1fx\\x9ae\\xb2\\xa1\\xc0\\x08II\\xf6b\\xb3\\xe1\\xbf.\\x7f\\xad\\xf67\\xa4\\xd9\\x8a\\xe4\\xcd2\\xd2\\xec\\x12\\x93\\xc5\\x0fC}kc=A\\xc6\\x94H)=\\xd8\\xf3\\xd3%M\\xb1\\xc7\\xf7\\x9f\\x93\\xe1\\xb6K\\x9b(f\\xe1\\x18\\x96\\xdeo9N\\xf0\\xc1\\x04\\x1e\\xb4\\x9e\\x04\\x1e\\xc3Q\\xb5[z\\x01\\x13\\x16\\xa9K\\x9b\\x1e!_\\x1d\\xc5\\x00p}\\x04p\\xc7\\xb6\\xa6\\tM\\xec\\xee\\xd8\\x8f.\\xf48g\\x1b\\xadg\\xe8\\xf5\\xf1\\xef\\xed\\xa6\"B46\\x9dk\\xe5.2H\\x1c\\xb0\\x801\\x8e\\\\\\xc7Q\\xe3\\xec\\xe5L\\x8a\\x0e\\x9e\\xd1Q\\x80\\xe9e:q\\xf3\\x9eB~\\xce\\xbe>z\\xbe\\x07\\x9a\\xbf\\xc9\\xd4_-\\xe6\\x14G\\xce\\x96>\\xa3\\xdb\\xc7\\xcf\\xc6\\x9e\\x04\\xbb\\r\\xd3DH\\xbcD\\x81nu\\x86V\\xeb\\xa0)iR\\x88\\x00\\xa4\\xa4\\x92H\\xe4\\x02\\x89\\xe7\\xdbP`n\\x9e\\x1bh\\xbaH\\xb4\\\\Z[\\x13\\xa2\\xb8Yy\\x95yAc\\x87.\\xbc\\xf3\\x07\\xac\\x10E4l\\\\G\\xde&\\x9f\\x89x\\xba\\xc6qWk\\x99J\\x99\\x8d\\x9c-\\x11\\xc7\\x1d\\xe5\\x03\\xc8\\x15\\x01\\x8e\\xe4\\x1a\\n\\xb7\\xb6\\xa3t_\\x06,\\xf8\\xfan\\x8f\\xa9>o]4@\\x7fhz\\xa1\\xde\\rG\\x8a\\xd6{J\\x94}\\xe2\\x9a\"/SkY\\x87\\r\\xc8\\x03?\\xd9G\\xde\\xfbh,\\xed\\x91u;\\xa9J\\xae\\xf3n(q\\xc5\\x00\\xda\\x01\\xe8\\xf8v\\x90\\x05\\x07\\xd5\\xfb\\rDk\\x1d\\x86\\x0c\\x99\\xcam\\xb6\\x9dp\\xcc}n\\xa8$+>*\\x07\\x1egu \\xe3\\xf2\\xab_L\\xb4\\xbbM\\xb9\\xbfu\\xd2\\xb3\\x11\\x02\\x0b\\xc5\\x12\\x94\\x1bi\\xa42r\\xe6\\xf1\\x19!\\x18\\xce\\xee\\xe8\\xc7\\x103\\x92yc6Fm\\xdf\\x0fO\\x82\\x96\\x86\\xfb\\xc9\\xb1^\\x10\\xfbhne\\xc2i\\x92\\xebi\\xc7\\xc5#\\x01-\\xb6H\\xeb\\x03$\\xf6\\x15c\\xaa\\xa7)\\x91x\\xdd\\xae\\xd9Xl`vP&\\x07`\\xa0\\xf0\\xb8\\xc0\\x85q\\x84\\xe4)\\xf1\\x18\\x95\\x19\\xd1\\x85\\xb4\\xea\\x02\\x92\\xae\\xbe \\xd0b5\\x06\\xc6\\xf6oz\\xd3w;\\x1b\\xfaR\\xda\\xcbW\\x10K\\xaf\\xb0\\xc2S!+\\xe1\\x85\\xa5\\xc2\\n\\x81\\x18\\x18\\xe3\\x8e\\x18\\xc62(>o\\xf8@|\\x1btN\\xcev7z\\xd4Zq\\xfb\\xec\\xbb\\x9b]\\x03`\\xc9}+IB\\xde@W\\x8a\\x94\\x0e4\\x1f;Ge\\xe8\\xd1m,\\xf4jm\\xd8q\\x17#qI\\xc1K\\x99%9\\x07\\xac)I>\\x8a\\x08\\x16W\\x8e\\x9e\\xd4\\r\\xc9\\x93\\xbc\\xa8J&,\\xe6\\xc9\\xe0\\xeb.x\\xae$\\xf6\\xf0$\\x8e\\xc2\\x01\\xe6(:\\x95\\x97\\xa5b\\xc9>\\xde\\xf2\\xf7\\xdd\\x84\\xe2\\x90U\\xf3\\xb7\\x15\\x8c\\xfay\\xfakS\\xd2 C\\xb5B\\xbb=\\xbd*\\xe4\\xdcD7\\'\\xa4\\x00\\xb6U\\xbf\\xe2\\xf2\\xcf!\\xc6\\x85j\\xb5jm3\\xd8\\x8b\\xd1\\xb5aa\\xe6\\xc9\\xde[*\\xc1{ \\x00\\x08 \\xd7\\xc8\\xfd\\xb7\\xf6\\xbe\\x7f\\xa1\\xf99\\xdb\\xf3^|o\\xa9~\\x9fc\\xf7/\\xddx\\xfe\\xbb\\xe3\\xe1\\xc7\\xf8\\xe7\\x1b>\\xe6y\\xf1\\xfe\\xa5\\xff\\x00\\xeb=\\xf7\\x1d@o2\\xc9\\xc7lw~\\xa0~\\xaa\\xfa\\xf8\\xf8\\xef\\x05\\xc7\\x90\\xd1\\xc7\\x84:\\x93\\xd8\\xeb`\\xfd\\x86\\x81\\xb9\\x96\\x9eha\\xc1\\xf9*)>\\xdc\\xd4\\x07N\\xa1\\xf2\\x91_Ox\\x01c\\xd8~\\xaa\\x0fFn-\\xb6\\xa1\\xd1\\xcb-+\\xb0\\xa8\\xa0\\xfbqTZ\\xc7\\xbe\\xdd[H\\xe8\\xe6\\xb8\\xb4v+\\n\\x14\\x1e\\x8b\\xbc\\xa1\\xfe\\x13\\xadV\\xe9]\\xa5L\\x80}b\\x82;\\xeciY\\xa8\\xdc\\x91g~6H9\\x8e\\xf9\\x1cA\\xcf#\\xe6\\xa0\\xf3\\xfb\\xde\\xd3n\\x9f\\xe4\\xd7\\x99Q\\xcf\\xcd}\\xa0\\xa1\\xeb\\x18\\xa1\\xa7\\r$\\xf2\\xb8\\xc3\\xba[\\xe4\\x8e\\xa1\\xbeP}\\xb44\\xc74\\xcd\\xe5\\x81\\xf8\\x02\\x96\\x91\\xd6\\xd2\\x82\\x87\\xb2\\x98\\xaa\\xb7-\\x82\\x04\\x87\\xe69\\x05\\xc6^t\\x00\\xea\\x94\\x827\\xb7ys\\xe1A\\x84\\xbc\\xcf\\x95\\x7f\\xba}\\xcd\\xb5x\\xe9\\xe4\\xe3\\xc3\\xc9\\t\\xeb\\xc7w\\x7f]A]{\\x91\\x16\\xd0\\xc1\\xb5[\\x95\\xbc\\xf0\\xe0\\xfb\\xddy\\xeb\\x03\\xbf\\xddPO\\xd9b\\x03\\x93\\xe6\\xa5\\\\~%\\'\\xf7\\xaa\\xc1\\xd3\\xa1\\xbdg\\xb2@z\\xefp\\x80e8\\xc8\\xdfm$\\xf0\\xcfW\\x0e\\xd2z\\xcdQ\\xcd\\xb5\\xbe\\xb1\\xbb\\xeabYy\\r\\xc3\\x85\\xbd\\x91\\x1d\\x8c\\xe0\\xfd#\\xcd^\\xea\\x9a2*g\\x15\\x07\\x8a\\xd1\\x8a\\x06r\\xa0\\xba\\xd2w\\xf9\\x16I\\xc1@\\xa9q\\\\#\\xa6k<\\xc7h\\xef\\x14\\x1d\\x92\\xcf9\\x01LM\\x8e\\xee\\xf3.\\x00\\xa0\\xa4\\xf5\\xa4\\xf5\\xff\\x00\\xd7ei\\x1d\\x7ffW\\x9f\\x06\\xba\\xaa\"\\x95\\x88\\xf3\\xb2\\xea\\x07R^\\x03\\xc7\\x03\\xe9\\x00\\x15\\xe7I\\xed\\xae\\x9c/\\xd3\\x9f\\xc9>\\xddR\\xba8\\x8a\\x02\\x80\\xa0\\x91\\x07\\xcb_\\xd1\\xfa\\xeaU\\x88W\\x0f\\xc6\\xa8 B\\xf9S\\xe7\\xa0\\x99}\\x8a\\xf3\\xf6\\x95.27\\x9fl\\x02\\xda~r\\x82\\x82\\x92=*HO\\xebVk|T\\xbav\\xfbn\\x97\\x12e\\xb1\\xb7\\x00\\xb8-\\xb5\\xba\\xc0R7\\x0b\\xbb\\xc0\\xee\\x90s\\xe3c\\x00\\x1e\\x03\\x07#\\x1c\\xeb\\xcb\\xf1\\xfc\\\\\\xf8|\\x9c\\xb9^[/\\xa9\\xf8z\\xf9\\xf3\\xe1\\xcb\\x87\\x19\\xc7\\x8eY\\xee\\xfeY\\r=\\xacZ\\x95t\\xf0\\'\\xd7\\xc1`\\xa5h_\\x0e\\xa3\\x90Ew\\xd7,r}\\xb3\\xa5\\x16]qk\\xbd \\x80\\xd3\\xcb0\\xa5(rV\\x0f\\x88\\xa3\\xfa\\xaa>\\xa1N_\\x94\\xe3\\xf8cu,]D\\xb9\\x8e\\xa2\\r\\xd6q_I\\xe2\\xb4\\xd9\\t\\x1b\\x87\\xb3\\x1d\\x95\\x96\\x95CMkI\\'\\x0e\\x1b\\xba\\xb3\\xf3\\xdeP\\x1d\\xd9\\xe3\\xcb\\xaf\\xbb\\x952\\x8fF\\xb6{\\xa9$\\x11\\xd2G{\\x8e8\\xba\\xf0\\xeb\\xed\\x1b\\xdd\\\\\\xc8\\xf3b\\x98&1\\xb2\\xbb\\xb2\\x80.7\\x19\\xa1\\xf9Nd\\x8e=\\xc0\\xf2\\xe7\\xdf\\xca\\x98jS{3\\rc\\xc2n\\xb6\\xe6;F\\xf7\\x11\\xc7\\xab8\\xea\\xe5\\xdeM0YZ\\xb4\\x1c\\x08\\xd2\\x9a}\\xab\\xf2\\x14\\xf2\\x14\\x08\\xf0vw\\xb8\\xf5\\xf0\\x04\\xf0\\xe5\\xed\\xed\\xab\\x89\\xae\\xa5dwXtq\\xd2\\xcd\\x9a5\\xdd\\xf8\\xcd\\x86\\xe3M\\x91\\xa5\\x95&C(\\x1c\\x82\\x1cZy\\x0e\\xa0J\\x80\\xea\\xe1U<\"\\xdc\\xb6a\\xa8u\\x15\\xcd\\xcb\\xa5\\xdfN_\\xe7\\xccx\\xe5oM}\\rd\\xf0\\xeaR\\xd3\\x81\\xc0p\\x03\\x80\\xe008S\\x0e\\xd1>\\xdf\\xb0\\xfb\\x89\\xc64\\xdd\\x99\\x8e\\xf97\\x00\\xb3\\xd7\\xd4\\x80\\xbe\\xd3N\\xa9\\xde/\\xe1\\xece\\xf8\\xe0\\x17\\xe7i\\xc8\\x00\\x7fg\\rn\\x11\\xe9V\\xe0\\xea\\x1e\\xaa\\xbdS\\xba\\xd66\\xcd\\xac\\x8da2\\xb5|\\x87\\x0f\\xcc\\x89\\x19\\xa4\\x7f\\xc6j\\xf5N\\xe9\\x9246\\x85\\x83\\x05\\xf9\\xd7\\x08\\xf7\\xd9\\xd1\\xa34\\xa7\\x9eq\\xf9\\x0e!\\tBA*\\'t61\\x80i\\x90\\xedYM9\\xb7m\\x0e\\xdd\\xb9\\x95X\\xb4\\xb5\\xd5\\xfe\\x88ta\\xd4Ee\\xa1\\x909\\x05)e\\\\\\x06\\x05N\\xd1z\\xda\\xd4hm\\xabJ\\xd6z\\xca\\xdd\\xa6\\xe3X\\x1c\\xb7\\xa2r\\xd4\\x93&D\\xa0\\xe6\\xe6\\x10\\xa5y\\t\\x039\\xdd\\xc7>\\xbav:>\\x81\\xd3\\x96dY\\xe3\\xb8\\x9e\\x9dO\\xb8\\xe1\\xca\\x96S\\xba<\\xc0uVyr\\xd6\\xb8\\xf1\\x9cV\\xb5\\x96\\x85\\x01@P\\x14\\x1f\\'\\xfc=\\xb5\\x1e\\xa6\\xb6?a\\xb6X\\xaf\\x97\\x0bk\\x0f2\\xb7\\x1eLW\\xd4\\xde\\xf9\\n#\\x89O\\x1e\\xa1A\\xf3\\x96\\x9fm\\xfb\\x8d\\xd1\\x85\\xcby\\xc7\\xdfr\\x02K\\x8e8\\xa2\\xa5-[\\xed\\xe4\\x92x\\x93\\xdfTE\\xd7\\xf6}\\xc8\\x0b!>2\\xe5\\xa8\\x1f\\xd9Q\\xa0\\xd0Z\\'b3\\xcf:\\x95\\xab\\xc2\\xa0\\xb4\\xa5\\x01\\xc4\\x95)\\x84\\xff\\x00\\x88Pc\\xa1j~\\x85\\xb5%\\xc4Ld\\xe5**K[\\xd8\\x19\\xe3\\xc0\\xf0\\xff\\x00\\xd2\\x82\\xe2-\\xe6#\\xf2\\x9bT\\x9b\\x93-\\x04\\x9c\\xee\\xba\\xca\\x9aQ>s\\xc2\\x9a4,\\xb8\\x87\\x12\\x1ce\\xc4\\xacu)\\n\\xcf\\xb4UD\\xa4L\\x94\\x81\\xba\\x1fYOb\\xbca\\xed\\xa2\\x17\\xc2P\\xaf\\x95\\x88\\xc2\\xfb\\xd2\\n\\x0f\\xb2\\x80\\xfeB\\xbf\\xc5\\x90\\xc9\\xee!c\\xea4\\x01\\x8c\\xcb\\x83\\x08\\x96\\xca\\xc7\\xcdp\\x14\\xfb\\xf8Px.\\xce|\\xb4\\xc3\\x1fI\\x93\\xf5\\xa4\\xd3\\x04uFq\\xb3\\x84\\xc9\\x90\\xd9\\xec^\\x15\\xfcC>\\xda)11<\\x96\\xc3\\x9et\\x94\\x1ffj \\xe9\\x9eO\\xcaDs\\xce\\xda\\x92\\xaf\\xb0\\xd1G\\x86GI\\xf1\\xd6\\xa6\\x8f\\xf7\\x88(\\xf7\\x8a\\xa2l[\\x84\\x84\\x8c\\xc6\\x98\\xbc~C\\x99\\x14\\x16,\\xea+\\xabcuR\\x03\\xa3\\xac8\\x90h\\x157h.o\\xf8U\\x8a\\xde\\xb2\\xe0\\xc2\\xd4\\x86\\x82\\x14\\xaf9\\x034\\x14r\\xb4\\xae\\xce\\xa6\\xe5NZ&[\\xd4y\\xaa<\\x85`z\\x0eE<\\x08\\xfa3E\\xda\\xa2\\xc8v\\xe3\\x02\\xf2\\x96\\x19\\x92\\xd0\\rG\\x94w\\x9c\\t\\xceAR\\x92\\x00\\x04\\x8e\\xa0\\x0e;i\\x83\\xc7i\\xca\\x10\\xa13nJ\\xd3%N/yB:\\x82\\xf0\\x07,\\xf6q\\xed\\xa9U\\xce\\x1dC\\xa7\\xc9\\x86\\xe8\\xfaJH\\xfa\\xea\\x08\\xce\\xb2\\xff\\x00[m\\xa7\\xce\\xbc\\xfdT\\x08\\x8bU\\xcaG\\xc8\\xc4y\\xcc\\xfc\\xc6TG\\xae\\x80^\\x9c\\xbc\\x03\\xe3\\xc2q\\xbe\\xf70\\x8fy\\xa0j\\xec3\\x90\\x0e\\xf9e$s\\x05|G\\xb2\\x83[\\xb3\\x99\\xf2\"\\xb8\\xab,\\xc0BU\\x95\\xc6Vr3\\xcdI\\xcf\\xb7\\x1ez\\xb1+\\xaf\\xe9y\\xae\\xa5\\xa4tJ\\xf8\\xf6\\x16\\x1ch\\xfeRx\\x8fX\\xe1\\xeb\\xadD\\xb3_AX\\xa6\\xb7p\\xb5G\\x96\\xd1\\xca\\x1c@R|\\xc4d}\\x9e\\x8a\\xec\\xf3\\xdf\\x15:\\xaa\\n\\x02\\x83\\xde\\x1a\\x92\\x95\\xabyI\\x19\\x18\\x198\\xc9\\xac\\xd5\\x88w\\x10F\\xf7\\n\\x08\\x10\\xbeP\\xf9\\xe84\\x96\\xf0\\x85\\'uiJ\\x92\\xa1\\x85%C \\x83\\xcc\\x1a\\x95\\xa8\\xa7\\xbe\\xe8+}\\xca_\\x86D\\x9a\\xf4\\x19\\x1d\\'HOD\\x97\\x92W\\xcf{\\x07\\x88Wj\\x92RO3\\xbcx\\xd6q\\xb9\\xc9A\\xfeHT.\\x8a\\xba\"\\xef\\x05\\xd9JQR\\x94\\xed\\xb1\\xef\\x18\\x9ed\\xee\\xbe8\\xd4\\xea\\xbd\\x98\\x9d\\xba\\xec\\x9eT\\xfd!>\\xe32\\xf5jm\\x98(L\\xb7\\x19\\x8d\\x19\\xd6\\xdcZ[\\xf2\\xf7\\x0b\\x8e(\\x05\\x14g\\xbb R\\xcb\\x98K5yj\\xd9~\\x8d\\x11\\xe3\\xc8\\x1a\\xa6\\xe6\\xf6\\xf3iRT\\x0b\\tQ\\x04\\x03\\xc7\\x08<i\\xd5;\\xd5\\xc3;>\\xd1c\\xca\\x97~\\x95\\xe6\\x92\\xb1\\xfc\\r\\x8a\\xb8v\\xa9\\x8dhM\\x12\\x9f\\xfb\\xbft\\x93\\xf9\\xd7\\xa4\\xab>\\xb5\\x81L\\x89\\xda\\xa5\\xb3\\xa3\\xf4\\x93D\\x16\\xb4$5\\x1e\\xd7\\x9aB\\xbf\\x8df\\xaeC\\xb5YE\\xb5A\\x8d\\xf8\\x1e\\x96\\xb2\\xc6\\xec!\\xa6R\\x7fu\\xb3LMY\\xb4.\\xc9N\\x19DF\\x13\\xfd\\xd8p\\xe3\\xd5\\xba(\\x8e}\\xb4k\\xc4\\xa6\\xb5\\x9d\\x8a\\xd53R\\xa6\\x02\\x02|-ID\\x9f\\x07\\xdfWH\\x107\\xb7\\x97\\xe3$\\r\\xee\\x07\\x87m\\x1a\\x8b;\\x9e\\xbd\\xd06\\xe5(\\\\6\\x8djm@\\x9c\\xa5\\xb9\\xec\\xe7\\xd4\\xd8&\\x9b\\x0c\\xac\\xad\\xd7n\\x9b\\x1d\\x86JW\\xa9\\xa5\\xdcT:\\x99fK\\xa0\\xfa\\xf7SS\\xb4:\\xd6V\\xe5\\xf0\\x9d\\xd9\\xc4BE\\xb3J\\xdd\\xa6\\xa8rS\\x8c\\xb2\\xc8>\\x92T}\\x95;\\xc5\\xe9Y\\x9b\\xa7\\xc2\\xd6\\xe6B\\x9b\\xb2h\\xa81\\xc7\\xe2\\xaaL\\xb5\\xb9\\xfb\\xa8\\t\\x15;\\xafG<\\xd7[c\\xda\\x8e\\xd0-\\xce\\xd9\\x9f>\\x0f\\x02@\\xc3\\xb1m\\xb1\\x0ba\\xd4\\xe78R\\xb8\\xa9C\\xbb85/+Z\\x9cdn\\xb4\\r\\x92<\\r)ofT\\x17\\x1bx6\\x0b\\x81gs\\x89\\xe2y\\xf7\\xe6\\x92+e\\xa7\\xef\\xf0t\\xcd\\xc9\\x9b\\x94\\x05\\xb2\\xdc\\xa6NRR7\\xcf\\xaf\\xaa\\xa8\\xfa\\xb3fZ\\x99Z\\xb7H\\xc7\\xbc\\xad\\x80\\xca\\xd6\\xa5\\xa1I\\x07\\xad\\'\\x19\\xf4\\xd6*\\xb4\\xd4\\x05\\x01@P\\x14\\x1f)|7\\xe3&F\\xa6\\xb0\\x05\\x90\\x07\\x80\\xb9\\x8c\\xf79\\xff\\x00:\\xb0p=\\x1e\\xda[\\xd50\\xd9\\xe0B\\xdaq\\x81\\xe7\\xdd*O\\xb5\\x02\\xa8\\xd8k\\xeb\\x08\\xf0\\x19\\xeb(\\xcaXy\\xb9G\\x87\\xf5j\\xe0\\xa3\\xe8\\n\\'\\xd1J\\x8cK\\xc9\\x11%\\xf8/.\\x85\\xb6\\x9a>t\\xb6\\x01\\xa8\\xae\\x7fqRC|\\x80\\xf8\\xb0x\\xa0\\xa7\\x9a\\xcf\\x11\\x8e~s\\xe8\\xa8(\\xe4\\xc8y\\xb7>)\\xd5\\xa3$\\xf0J\\x8fm\\x05\\xd4I\\xb1\\x188}\\xb7\\x1bss\\x01\\xd6IG\\x8cG\\x02wq\\xc0\\x1cf\\x82\\xff\\x00J\\xcd\\xbd\\xde\\xaeQ\\xedV)2\\xae\\x17\\x07\\xf2\\x1a\\x87\\xd0\\xf4\\xee,\\x80I\\t\\x18\\x05X\\x00\\x9e\\x07\\x90\\xa0\\xb3~\\xf9t\\xb7\\xce\\x93\\x06\\xe7m@~+\\xaai\\xe4\\x02\\xa6\\x96\\x85\\x03\\xd6\\x95\\x8e\\x1d\\xbcH\\xab\\xa9\\x89\\x11\\xf55\\xb1\\xc1\\x97\\xbax\\xdd\\xee7\\x94\\xfe\\xd2r)\\xa6,\\xe2M\\x89-;\\xd1e2\\xf8\\xfc\\x85\\x83A!$\\xa0\\xe5$\\xa4\\xf7p5Q!3e\\x01\\x82\\xf1X\\xecp\\x05\\x0fm\\x01\\xe1\\r+\\xe5a\\xb2{\\xd0J\\x0f\\xb3\\x85\\x01\\x88+\\xfci\\x0c\\xf9\\xc0X\\xfa\\x8d\\x03\\x9b\\x8e\\x8d\\xf4\\x96\\xe50\\xe0\\x04\\x12\\x95(\\xa0\\x91\\xd9\\xc6\\xa7)l\\xb2V\\xb8\\xd9,\\xb5a\\xa9\\xe1\\xd8e\\xc6e\\xcbv\\x9fv,\\x80\\xb2^W\\x05 \\xa7\\x1dE=\\xf8\\xec\\xaf\\x85\\xfb_\\xe9?r\\xf8>nS\\xf5?$\\xe5\\xc3<\\x7f\\xbf\\xfa\\xfb\\xff\\x00\\xbb\\xfe\\xb3\\xf6\\xef\\xd4\\xfcR\\xfe\\x9b\\xe3\\xeb\\xcb|\\xf8\\xcf\\x1f\\xfb\\x8c\\xe9\\x8a\\x10p\\xdb\\xd2\\x1a=\\x81\\xc2G\\xa9Y\\xaf\\xbc\\xfc\\xf8\\xdc\\x96\\x9f&Cnw8\\xd6=\\xa9?U@\\x85\\xc9I\\x18\\\\T\\xacv\\xb6\\xe8\\xf7+\\x14\\x1eVgB\\xa1!\\x85!\\xc4;\\x1d\\tm\\xd4\\xad8\\xc1\\t\\x1c\\xba\\x88\\xef\\x15Frp.<\\xe3\\x87\\x9a\\x94M\\x15^\\xe3JZ\\x82P\\x92\\xa5\\x13\\x80\\x00\\xe6h5zwOC\\x8b\\x1d3\\xee+B3\\xc4(\\x80I\\xfa\\x00\\xf0\\x03\\xf2\\x8es\\xd5\\xc3\\x8dD^&}\\x87;\\x9b\\xaf\\xfd\"\\xe2\\xaa\\x98&\\xdb\\x19\\x97\\x14\\xb9\\t\\xee\\x95\\x18\\xe2\\x93\\xc4\\x8f\\xb6\\x83\\x0fv\\xb6\\xba\\xca\\x94P\\x85\\x14\\xa7\\xf1S\\xc4\\x81\\xda\\x9f\\xf8y\\x1a\\x8a\\xa6OK\\x16CrYRB\\x9b\\xc3\\x89P\\xf2Js\\xc1C\\xf2z\\x88\\xe6\\x9f5A\\xd5\\xb4\\xec\\xbf\\x8dm\\xe4\\xf0K\\x88\\x0b\\x03>\\x9fvEi\\x1b\\xa8{T\\x8f\\xa2 x\\x1c\\xeb\\x1c\\xeb\\x84v\\xc9=$WQ\\xbc\\x84\\x93\\xbc<Uc8\\xc9\\x1c\\xebs\\x9eG>\\\\6\\xea\\xce\\xd9\\xf0\\x8b\\xd9\\xa4\\xb0<&U\\xd6\\xdc\\xa3\\xccH\\x82T\\x07\\xa5\\x05U\\xaf\\xe4\\x8c\\x7f\\x1f&\\xae\\xd7\\xb5]\\x9c\\\\\\xb7D]gg\\nW$\\xbc\\xf1d\\xfa\\x96\\x05^\\xd3\\xf2\\x9d9~\\x1a\\x98\\x17+u\\xc1\\x01p.\\x10\\xe6$\\xf21\\xe4!\\xcc\\xfe\\xc95Y\\xc5v\\xd0\\x92\\xa4\\xe8K\\xf2\\xf7T\\x97\\x1b\\xb6\\xc8[j)\\xe2\\x95\\x06\\x94B\\x87a\\x07\\xae\\xa7/K\\xc7\\xdb\\xe4-\\t\\xa8\\xf5|\\x9d>\\xe4\\x93\\xab5\\x02\\x14\\x87\\x8a\\x10S-J\\x18\\t\\x07\\xf1\\xb3\\xdb\\\\e\\xafGX\\x93+h;A\\x84\\xbc1\\xad._\\xae\\x86\\x89\\xfe\\x1a\\xbd\\xa9\\xd2\\x11\\x9d\\xa7\\xed5\\xce\\x1f\\x7f\\xd7T\\x0f\\xc8\\r\\xa7\\xdc\\x9a\\x9bN\\xb1\\xed\\xf7\\xdf\\xaf\\xe7p\\x93\\xb4]LA\\xe7\\xb94\\xa3\\xddM\\xab\\xd6\\x1d\\xd1]\\xe7 \\x89\\x9a\\xabSJ*\\x18\\xcb\\x977U\\x8e\\xfcf\\x9eL\\x8eQ\\xa8\\x1a\\xba\\xc3\\xb8\\xbb\\x12\\xe8\\xec\\x95<\\x83\\xfdj\\xd4w\\x87R\\x86z\\x8de]\\x83g_\\tm[\\xa5t\\xfck$\\xcb\\\\\\x0b\\xccx\\xa8\\r\\xb0\\xe3\\xcb[N\\xa5\\x03\\x92J\\x92p\\xacw\\x8c\\xd6\\xa7*\\xc5\\xe1*\\xf6_\\xc2\\xd7T\\xac\\x1f\\x06\\xd2\\xb6F\\xbb:G^_\\xf8\\x85^\\xe7H\\xa6\\x95\\xf0\\xa6\\xdaC\\xc4\\x86a\\xe9\\xe8\\xf9\\xe5\\xb9\\tJ#\\xf6\\x96i\\xde\\x9d\"\\xb6G\\xc2\\x0fl\\x93\\xce#]P\\xcez\\xa3[\\x1a\\xfa\\xd2jv\\xab\\xd2#/_\\xed\\xe6\\xee0/\\xfa\\x90\\x85\\x7fe\\x86G\\xee\\x81M\\xa7X\\x86\\xfd\\xa7k\\x97^7\\x1b\\xdd\\xe5A\\\\\\xfc.\\xe8\\xe6=EU<\\xaeDTl\\xc2\\xee\\xfb\\x9d$\\xfb\\xd4\\x14(\\xf3%\\xd2\\xe2\\xbd\\x99\\xa6*\\xc26\\xcb\\xad\\xa8 \\xca\\xbf8\\xb3\\xd6\\x19`\\xfdx\\xa6\\x0b(\\xdb>\\xd2L\\x91\\xd2\\x0b\\x8c\\xa2>s\\x81\\x00\\xfa\\xb3L\\x16Q\\xf4\\xce\\x95\\x8cGE\\xa7\\xd8Y\\x1do8\\xa5\\xfd\\x94\\x16Q\\xda\\x87\\x18\\x0f\\x05\\xb6[\\xa3\\xe3\\x96\\xe4d\\xe7\\xd6sT2\\xe32n\\xf4R\\xd3\\xca\\x0b\\x0f\\x1d\\xc0\\x0e\\xe8\\xc9m}\\x94\\x1eoOh>\\x18y\\xf5;$\\x81\\x96\\xd0\\x95-G\\xd03\\x8fMA\\xa6\\xd3z7Uj\\x07R\\x8b}\\x99\\xe6\\xd2\\xa4\\xef\\x05\\xcaPhn\\x9e\\xbcq8\\xf4U\\x1f_l\\x7fM\\xcb\\xd2\\xba\\x12\\x15\\xaa{\\xad9,\\x15\\xba\\xe9h\\x9d\\xc0Tx\\x01\\x9e<\\xb1\\xe9\\xcdf\\x8d}\\x01@P\\x14\\x05\\x05u\\xca\\xc7f\\xb9Lfe\\xc6\\xd3\\x06d\\x86\\x12P\\xd3\\x8f\\xc7K\\x8aBI\\x04\\x80H\\xe1\\x92\\x05\\x07\\xc9?\\x0b\\xfb2\\xec\\x1bX\\xb4\\xdf-\\xec\\xa1\\x84\\xcc\\x84\\xdb\\x8c\\xe1;\\xa8\\xe9\\xe3\\xaf\\x04p\\xea\\xdd-\\xe7\\xb8\\x9a\\xb0z\\xcb\\xd4\\xbaRV\\x8fj\\xfc\\x89\\xd0\\xcb\\xad2c\\xbdoyc\\xa5y*\\xe1\\xd0\\x94s\\xdfI;\\xa7\\xb4x\\xc3\\x81\\x06\\xb5\\xa8\\xf9\\xe6\\xf3qK2\\x1cux\\x07uJ\\xc0\\xe4\\x0fP\\xac+\\x11.Jy\\x00\\x067G\\x01\\x8eC=F\\x82\\xac\\x9e\\x91\\xe4\\x8e\\xd3A.S\\xc1N(\\x8e\\xdfp\\xa0\\xef\\xbf\\x00->\\xe5\\xdbn_v\\x0byb\\xcbny\\xe2\\xb28\\x07\\x1c\\x1d\\x12G\\x9f\\nY\\xf4P}\\xd9|\\xd1ZB\\xf9pM\\xc2\\xf3\\xa6,\\xd7\\x19\\x89\\x01!\\xf90\\x9bq\\xcc\\x0eCx\\x8c\\xe2\\x83\\x1d7`\\x1b%\\x95q\\\\\\xf1\\xa4#\\xc5y\\xc3\\x95\\x88\\x8f\\xba\\xc2\\x14{wP\\xa0\\x07\\xa0PG\\xb8|\\x1c\\xf696*\\x99^\\x8ee\\xb5\\xab\\x8fN\\xdc\\xa7\\x83\\xa0\\xf6\\x85\\xef\\xe6\\x83\\t\\x7f\\xf8\\'Z<e\\xe9Mo}\\xb5\\x1eif`D\\xc6\\xbc\\xdcp\\xaczh9\\xed\\xff\\x00\\xe0\\xf5\\xb5\\xfb>\\xf2\\xa0\\r?\\xa9Z\\x1cG@\\xfa\\xa2\\xbcG\\xd1_\\x8b\\x9fM]Ls\\xdb\\xf5\\xa3V\\xe9\\xb2F\\xa6\\xd1\\x1a\\x86\\xd4\\x91\\xcd\\xd5D.\\xb5\\xfbh\\xc8\\xa6\\x98\\xab\\x89x\\xb5\\xcaV\\xeb\\x13\\xe3\\xa9\\x7f0\\xabu^\\xa3\\x83A;\\xab=UP\\xe4-h9B\\xd4\\x83\\xda\\x93\\x8a\\x0fq:N0\\xb5\\x87Gc\\x89\\n\\xf7\\xd3A\\xd3\\xc7W\\xcaCG\\x9d\\xb5\\x14\\xfd\\xa2\\x80\\xdd\\x84\\xb3\\xe2\\xba\\xfbG\\xb1h\\n\\x1e\\xb1AZ\\xd2R<-\\xf6\\xdc\\x0bm\\xc5\\x92\\x82\\x01\\x07\\xc5HI8<\\xb8\\xa4\\xd4Vy\\xe4UW\\xbd\\x86#nM/=\\xc1\\xa6\\x81R\\x8fp\\xe7\\xf5\\x0fM\\x04mQ}uo\\x1d\\xccg\\x18JG$\\x0e\\xa0*\\x08\\x96\\xfb6\\xae\\x9c\\x84\\xc9\\x8f\\x15IB\\xc6\\xf2:g\\x9bk|v\\xa4-@\\x91\\xdf\\x8a\\x82\\xd6\\xd7q\\xbbYnB%\\xce#\\xf0\\xa4\\x80\\tm\\xd4\\x94\\xef\\x8e\\xd1\\xd4Gx\\xe1Ti\\xe7\\xa1\\x89q\\xd39\\x84\\x82\\x95yc\\xb0\\xd5\\x18\\xeb\\xbcN\\x86N\\xebIH\\x0e\\xa8\\xad\\x9c\\x8e\\tw\\x1e2~\\x8a\\xc6xv\\xe6\\xa0\\xbc\\xd1n\\xa7\\xee|}\\xd5\\x12\\xda\\x1c\\xc2\\x01\\xe6\\x94\\xe7\\xc9>l\\x91\\xe8\\xa4E\\xd6\\xaao\\xa5e\\x04\\x8c\\xef5\\x83\\xe8\\xaa\\xae7\\xa8\\xe0%\\xa9\\nR\\x13\\x80O!Y\\x13UjK\\xd6[\\\\\\xa0\\x9c\\xf4\\xac(+\\xce\\x95\\x91\\xf6U\\x11QkZ\\x1dId)\\x0e\\x13\\x84\\xf4y\\n\\'\\xb0c\\x8dO^Om|\\t\\x17\\x8bu\\x99l]\\xb5\\x06\\xa9B$\\xacEU\\xb9\\x12\\xdci\\x0e!gw\\x0b\\xde\\xcf\\x03\\xc7 \\x0eT\\xe3\\xcer\\x9b.\\xca^9r\\xc7B\\xb6\\xca\\xb2\\xd9l\\xedZm\\xf0\\xdc\\x8f\\x1d\\x9c\\xe0\\x1c(\\xa8\\x9ej\\'\\xac\\x9a\\xd2).S Hw\\xc9l\\x8f\\xcan\\x82\\xce\\xd2\\xf5\\xa5 o7\\x17\\xd2\\xc8\\xfb(4\\xd0nVF\\xd3\\xc3\\xc1\\x01\\xee`}\\x95D\\xd1\\xa8-\\xed\\x8f\\x8bw\\x1fA\\x9c}T\\xd1C\\xabF\\x98\\xd4\\xcc\\xa1\\xbb\\xd5\\xb9\\xc9\\xa5\\xb0Cncq\\xc4w\\x05\\x03\\x90;\\xb9T\\x18\\xb74&\\x88B\\x8a\\xd3\\x06\\xe4\\xa4\\x8e8\\\\\\xc1\\x8fbsS\"\\x9dk\\xd3ZU\\xa7d%\\x16\\x16\\x1eKkOF\\xa7\\x9dR\\xce\\n\\x12pyg\\x99\\xa0\\xb9b%\\xb2?\\xe0\\xd6kc8\\xe5\\xbb\\x18\\x13\\xed\\xcdQ-2\\xdf@\\xc3jKC\\xb1\\xb6\\xd2\\x9fp\\xa0\\xf5\\xb6\\xa2\\xe1x\\xbb\\xb5j\\x8a\\xe3\\xcf\\xcby\\nq\\r\\xef\\xfe*|\\xa3\\x92p\\x00\\xc8\\xa0\\xd4\\xc6\\xd9\\xa6\\xa2{\\x8b\\xa2+9\\xf9\\xce\\xe4\\xfb\\x01\\xa6&\\xad\\xa2\\xec\\xa6Q\\xc7\\x84\\\\\\xdbOsl\\x93\\xef\"\\x98j\\xd6.\\xca\\xad\\xc9\\xc1zL\\xc7Ov\\xea\\x07\\xb8\\xd55o\\x17f\\xf6&\\x80\\xcc\\x05:G\\xf6\\x8e\\xa9^\\xcc\\x81O\\x03\\x8dj\\xa8\\x8c\\xc1\\xd4\\xf7HQ\\xdb\\r\\xb4\\xc4\\xb7\\x1bB\\x07$\\x80y\\n\\x8a\\xad\\xa0\\x8d3\\xe5\\xa1\\xfe\\x7f\\xfc\\x0b\\xa8:\\xfe\\xcet\\xe4X6(7\\xb5X\\x9b\\x99\"RU$\\xba\\xf4\\xa5eiJ\\xd4\\x12\\xd2[\\x08\\t\\x08$\\x92VJ\\x95\\x909\\x00\\x05X\\x95\\xdb4\\xeb\\x1b\\xcf;x]\\xa5\\xfbr\\x9eh!M\\xbc\\xe6\\xf2x\\x01\\x82\\t\\xc7\\x0e\\x14\\xb7I1\\xba\\xb1\\\\!\\\\\\xad\\xe1\\xe82\\x1b\\x90\\xd2\\x14\\xa6\\x94\\xb4\\x1c\\x8d\\xe4\\x9c\\x11\\x9e\\xbe5\\x95O\\xa0(\\n\\x02\\x80\\xa0(9\\x17\\xc2\\xb7CJ\\xd6[3rM\\xa62\\xa4^,\\xaextF\\x90<g\\x92\\x01\\x0e\\xb4;\\xd4\\x8c\\x90:\\xd4\\x94\\xd0|4o0U\\x1b\\xc2\\xc2\\x99\\xde\\xdd\\xc7I\\x80\\x17\\x8e\\xce\\xd1\\xe6\\xaa0W\\xcb\\xa1\\x95%e\\'\\xc5>\\xea\\x82\\xa5n\\x15u\\xd0\"\\x15\\xba\\xad\\xee\\xb1@\\x15\\xe6\\x83\\xba|\\x1d\\xf6\\xe9o\\xd9\\x0e\\x9d\\x9f\\x0e.\\x9e3n\\x17\\x17\\xc3\\xb2\\xa5)X\\xf1R0\\x86\\xc7p\\xca\\x8f\\x9dF\\x83\\xa7\\xff\\x00\\xdbJB\\xbf\\xee\\xeaS\\xe9?m\\x03\\xd1\\xf0\\xcaR\\xfc\\xabBQ\\xe8U\\x04\\x96~\\x17\\xcc8|xM\\xa7\\xd6(\\'\\xc7\\xf8V\\xc1{\\x9cv\\xfd\\x0b4\\x16\\x0c|&\\xad\\xae\\xe3,\\x81\\xe6p\\xd0X1\\xf0\\x88\\xb5:\\x9ca`\\x1e`9\\xc2\\x82\\x93P\\xeb-\\x96\\xea\\xa0~\\xee\\xe9[L\\xc5+\\x9b\\x8b\\x8c\\x84\\xaf\\xf6\\x93\\x83\\xed\\xa0\\xc3\\xdc\\xb4v\\xca%\\x12\\xe5\\x8e\\xe7z\\xb08y\\x08\\xf2\\xbaF\\xc7\\xea/>\\xfa\\x0c\\xf4\\xed\\x1dt\\x8cJ\\xad\\x1a\\xbe\\xd5tlrD\\xc6\\x0b+?\\xac\\x9e\\x14\\xd1M)\\xbdC\\x00\\x9f\\x0e\\xd3\\xee\\xad\\x03\\x9b\\xb0\\x9eK\\xc9\\xf5p5u1\\x19\\x17\\xcbi^\\xe3\\xcf\\xaa*\\xfel\\x96\\xd4\\xd9\\xf6\\x8c{hb{N6\\xea\\x02\\xdaZ\\x1cOj\\x14\\x14=\\x95DX\\xbc <\\x9f\\x9a\\xe3\\xc3\\xf7\\xd5AT\\xf2(\\xafT+\\xa0\\xb5/\\x1c\\xdcV=\\x00g\\xdeG\\xaa\\xa0\\x8b\\xa6,\\xf2n77\\x1ff\\xdf&\\xe0\\xf3X-Fa\\x92\\xea\\xddp\\xf9 $\\x03\\x9cs\\xec\\xe4O\\x00h:\\x9d\\xabb\\xd7\\x87\\x9bT\\xddk5\\xc8\\xd79I\\xfeO\\x0b\\n\\xe8c\\xa9\\\\\\xbaE\\x1e\\x0e\\xacv\\x13\\x8c\\xf6\\xd5\\xc4\\xd4\\xf1\\xb2)\\xf1l\\x92\\xedW\\x89\\x93&4\\x9c\\xbc\\xd2\\xe4n\\x0f\\x06 q[8\\x00\\'\\x97\\x14\\xe7u@`\\xf6\\x86\\x0ewhL\\x8bm\\xc5\\xfb<\\xf2\\x92|\\x92Rr\\x95\\xe4e+I\\xeb\\n\\x04\\x11\\xe7\\xa8\\xa8\\x17\\xf8\\xaaq\\x97X\\x07\\x0e$\\xe5\\n\\xecP\\xe2\\x93\\xeb\\xc5\\x07\\x86\\x90t\\xa8\\xc9)\\x18m\\xc2\\x89\\t\\x1f4\\x9c\\x85\\x0fX\\xf6\\xd2%t\\xfbE\\xbfL\\xdc\\xc9f\\xff\\x00r\\xb8\\xc2\\xdc\\'t\\xc6i\\xb5\\x05\\x02\\x7f-B\\xa8\\x90\\xfe\\xcavo9\\xe5\\xad\\xbb\\xcd\\xcaSkq\\xa0\\x80\\xfb\\xbd\\x11J?\\xac\\'q\\x18\\'\\xa8\\x0c\\xd3\\ryN\\xd9\\xf5\\x8a=\\xa9\\x98\\x90\\xa0;\\xd0GL\\x87\\x10\\x96\\xa5\\x17\\x08\\xca\\xbcT\\xe7$\\x93\\xd7L\\x14\\x11\\\\^\\x83\\x9a\\xb9\\x16\\xa5\\xad\\xa9\\xcf\\xee\\xb4\\x97\\x1di$\\xa4n)J\\xdd$p\\xfc^^\\xba\\xf8\\xff\\x00\\xba~\\x83\\xe2\\xfdw?\\x8b\\xe2\\xf9\\xe7n\\x1bm\\x9er\\xfa\\xcd\\xcf\\x7f\\xf5\\xf7\\xbfi\\xfe>?\\xa5\\xfdW\\xc9\\xcb\\x8e\\xf2\\x9cg[\\xf8\\xb6\\xfb\\x9f\\xf1\\x88\\xd5\\x17\\x1b\\x85\\xe2}\\xbd\\xeb\\x8c\\xb7e<\\xe5\\xc9\\x8c\\xa9\\xc5g\\xf1\\x89>\\xea\\xfa\\x9c>>\\x1f\\x1f\\x19\\xc3\\x84\\x92ORx\\x91\\xf0\\xf9[\\xca\\xed\\xbbZ\\x19\\xc7\\x8a\\x8dtE\\x1b\\xabHx\\xa4\\xa8ov\\x0e\\'\\xd5PL\\x8b%\\x96\\xd2\\x02\\xdc\\xdd\\xf3\\xa4\\xfd\\x94\\x161\\xe7\\xc4\\x1f\\xd6\\x93\\xe6mG\\xea\\xa0\\x90\\x99\\xcc\\xada\\r7)\\xd5\\x1eA\\x11\\x9c$\\xfb(=\\xdc\\x13P\\xdfI\\xf7\"\\xe5\\xbb\\xde\\xc6\\xef\\xf1\\x11TE\\x8d5\\xb9r\\xa5@v3\\xec<\\xc0OH\\xdb\\xc9\\x03\\x82\\x87\\x03\\xc0\\x9a\\x83\\xd2\\'\\xe1S\\x7f:\\x91\\xff\\x00\\xe3M\\x04\\x9a\\xa0\\xa0\\xd7l&)\\x99\\xb6\\x9bk\\x01%Y\\xb5L8\\xf3nP\\xaf\\xa5\\xa5B\\x81\\x05\\x1b\\xf3\\xa5\\xc4\\x8a\\x91\\xcc\\xbe\\xf2[\\xf7\\x91MF~\\xe3\\xad6wl\\xc8\\x99\\xab\\xec\\xe1C\\x9aZ\\x7f\\xa5>\\xa4\\x03A\\x98\\xba\\xed\\xcbe\\x96\\xe0wnS%\\x91\\xfd\\x8cB\\x90}+)\\xa8c13\\xe1-\\xa5J\\x8a,\\xfanl\\xc5u\\x17e6\\x80}\\t\\n\\xa1\\x8f\\x9duf\\xd6\\x93q\\xd47\\x1b\\x836t\\xefJ\\x92\\xb7\\x88\\xe9\\x88Jw\\x8ep\\x063\\x81\\xdfMW\\xb6\\x9c\\xd4\\x97{\\xc3\\xe9*\\xb6\\xb2\\xc4^\\xb7\\x01\\'\\x8fg\\x13\\xf5Ph\\xe7)aqJ\\x11\\xbe\\xb0\\xe1POn\\x10\\xaf\\xb4Pk\\xadZ\\xe3P\\xc2\\xb4\\xc6\\xb6\\xb5?u\\x10\\xd3\\xb8\\xd0m)\\x05\\xb4\\x92T\\x13\\x9c\\x13\\xcdD\\xf5g\\x9dQ\\x0e\\xf3\\xaau\\r\\xc9\\xb3\\xe1w)r{\\x10\\xb7\\xd5\\x8fi\\xc5\\x0c}{\\xb0\\xa8^\\x03\\xb2\\x9b\\x12\\x15\\x9d\\xf7c\\xf4\\xcb\\xcf<\\xadD\\xfb\\xb1R\\x8d\\xbd@P\\x14\\x05\\x01@P\\x06\\x83\\x86m[\\xe0\\xbd\\xb3\\x9dsp\\x93v\\x8e\\x89zz\\xeb%e\\xc7^\\x80\\xa1\\xd18\\xb3\\xcdJi^.O2S\\xbb\\x93\\xc6\\x83\\x85\\xea\\x0f\\x81.\\xa9akU\\x8fYZg#>(\\x95\\x1dl(\\xfa\\xb7\\x85\\x06.\\xe5\\xf0J\\xda\\xe4Bz8\\x96\\xa9@u\\xb30q\\xf5\\x81AG\\'\\xe0\\xd9\\xb5\\x98\\xe4\\xf4\\x9ax\\x9cu\\xa5a^\\xea\\x08k\\xd8\\x0e\\xd2[8v\\xc8\\xea?T\\xfd\\x94\\r\\xff\\x00!\\x1a\\xf4yv\\xe7\\x13\\xfe\\xcc\\xd0(\\xd8n\\xb1O\\xcaDt\\x7f\\xb34\\x0e\\x1b\\x13\\xd4\\xa9\\xf2\\xd8x~\\xa5\\x02\\x8d\\x8d^Q\\xe5\\xb0\\xf7\\xaa\\x81\\xc9\\xd9<\\xf6\\xb8\\xaa:\\xfd4\\x0f\\xff\\x00\\'\\xb3\\x18\\xe6\\xd2\\x85\\x02\\x1d-%\\x8eh#\\x1d\\xf4\\x0cU\\xbd\\xf69\\xe4c\\xbe\\x83\\xc5r\\\\c\\x9a\\xd4=4\\x1eF\\xfc\\xebg\\tq\\xcc\\xf9\\xe9\\x80\\x1a\\x9ej<\\x87\\x1d\\x1f\\xadL\\r\\x7fR\\xccy;\\xaf\\x04\\xba;\\x1c\\xf1\\xaa\\xe0\\xad\\\\\\xb6\\x8a\\xf7\\xd3\\t\\x96\\x97\\xf3\\x9a%\\xb3\\xebI\\x14\\x16V\\t7I/\\xbc\\xc4W\\xd1\\xd1%\\ny\\xc1!ED\\xf1\\x00\\xe0\\xe3<r9\\xd0\\\\>\\x8euC\\x1cOH\\xd3m\\xf5aD\\xfe\\xd1\\xfb*\\x0e\\xc3\\xa6\\xb4\\xff\\x00\\xde\\xde\\xcd\\xed7\\xd82\\x9b\\x12\\xe3\\xdcL\\xfb\\xb1j\\xe6\\x88\\xa5\\x08(!\\xa48\\xe1 n\\xb7\\xbc\\xda\\xd4\\xd9#{\\'\\x81\\xe0(\\x8d\\x9d\\x93R}\\xf3m\\x16s\\xb1.\\xd3oZnd$5\\x1dQ\\xb0\\xe5\\xb9\\x8d\\xd4\\x1e\\x90\\xa8\\xf3K\\xfd&0\\x93\\x8c\\xa1]c\\x88\\xa3}h\\x8d\\x1fU\\xe9+\\xe6\\x92\\xba\\xe5\\xc9\\x11\\x18[Y\\xde\\xc2\\xdc\\x8e\\xb4\\x94\\xf3\\xe7\\x91\\xc4g\\xe8\\x9e\\xbaQ\\xf3>\\xd1\\xb4b\\xb4\\x9d\\xae\\xd2Y\\x9c\\xec\\xe4\\xc3\\x1e\\n\\x1fq\\x01+-\\x82KiV8\\x12\\x91\\x94\\xe7\\xacc\\x80\\xa6+-z!}\\x1b\\xc3\\x93\\x88\\xf6\\xd4\\x14\\xfa][\\x97\\x19\\xd1\\xba\\x81*H\\xeeV\\x15\\xef&\\x89Z\\xbb\\xfb&]\\xb7\\xa3K\\xce0\\xe1\\x00\\xa1\\xc6\\xd4R\\xa4\\x1c\\x0c\\x11V\\xab\\x98\\xabX\\xea\\xab,\\xd5\\xc6\\x92\\xf2\\x1f-\\x9ceh\\xc1#\\xb7#\\x15\\x05\\xf5\\xb3k\\xd3\\xd9\\xc0\\x95\\x19\\xef:\\x1c\\xde\\x1e\\xa5f\\x9a4\\xb16\\xb1g\\x9c\\xcfA?\\xa2R\\x140Q%\\x8e\\x07\\xd5\\x91M%\\xb3\\xd3?vv$\\xdb\\xfc\\x07\\xed\\xdd\\x08\\x8e\\xfd\\xcd\\xb7\\x1a\\r\\x8f\\x11#uG\\x03\\xb8b\\x82\\xfah(B\\xd5\\xbeW\\xcf\\x00\\x90N:\\xb3\\x8a\\xa3\\xb4\\xe8\\xbd5\\xa6\\xe0i\\xb6\\x9c\\x95!\\xa6A\\x88d:\\xe0\\xc0S\\xea)\\x1b\\xb8<\\xd4\\xa2\\xa5%!#<\\xc9\\xe0\\x05=\\'\\xb5\\xdf\\xdc\\x99\\xe8\\xd3\\xf0\\xed\\xf7\\x1b?\\x846\\xeb\\xce\\x02\\xf3,\\x02\\xf0BC{\\xc9I8\\x1c\\n\\xba\\xf9\\xf2\\xaa\\x84\\x93\\xa0\\xa0\\xc2\\xb97\\x16|-C\\x1f\\xa5Xm\\xbf\\xf39PZ\\xcf\\x92\\x12\\xe2VQ\\xeb \\x9e\\xae55q\\x19\\xf1\\x07DLV\\xe2\\xa3\\xba$$\\xb4\\xb6\\xe5\\xc6Ti\\r\\x13\\xc0+q\\xc0\\t\\x1d\\xe9\\xcd]\\x1a=1#M.tM2\\xd5\\x9a\\xe1\\x12\\xe59\\x92\\x10\\xe2\\xe1%m;\\xe2\\x9d\\xe5\\x07\\xb7\\x8f\\x8a8\\x8c\\x9e]x5\\xad\\xc8\\xe7\\x9b\\\\\\x17R\\xa2\\x1a\\xf5\\x95\\xfaU\\xbd\\xd4?\\x153\\x04F\\x9eA\\xca\\\\\\xe8\\x9bJTA\\xeb\\x1b\\xd9\\x15\\x87UDR\\x12\\xf4\\xd5\\xa8\\x80\\x03\\xdcI\\xea\\x01\\xb4T\\x18\\xcb\\x8e\\xd2\\xa1\\xb4\\xea\\xd1\\x06\\xdc\\xe4\\x84\\x83\\x80\\xe3\\x8e\\x04\\x05w\\xe0\\x02qM\\x11`k\\x9b\\xd5\\xd6WA\\x1648\\xc3\\xb7qK>\\xd3\\x8a\\n\\xfdC\\xa9\\xf5%\\xa3Q\\x9d\\xdb\\x8a\\x83\\xec\\xb5\\xba\\x95\\xa1=\\x19HX\\x04\\x80S\\x83\\xed\\xa0\\xa2\\x99\\xa9\\xefr\\xd6V\\xf4\\xe5\\xa8\\x9e\\xb2\\x01>\\xb3\\xc6\\xa0\\x80\\xed\\xc6{\\xbf)1\\xf5\\x0e\\xc2\\xe1\\xc5\\x04bI9\\'\\'\\xbe\\x83\\xa7\\xec\\xca\\xdc\\x1ea\\x0f\\x14\\xfe/\\xd5V\\x0ey\\x12\\x0c\\x99\\xf3\\xc3Q\\xdaR\\xb7\\xdc\\xf2\\xb1\\xe2\\x8e<\\xc9\\xa8;~\\x8e\\xd2s\\xdb\\x8a\\x82\\x90\\xd1\\x18\\xe7\\xbdZ\\x90\\xd5\\xeb\\xb69-\\xdc\\xd9\\x12^\\x8e\\xc2:\\x07\\nT\\xa5\\xf0\\xceS\\x9ff=\\xb4\\xc4\\xd4\\xfbE\\xa2\\x1c\\xf9~\\rn\\\\\\xbb\\xc4\\x92x\\xb3m\\x8c\\xa7\\x89=\\xe5 \\xe3\\xd2i\\xe0u\\r#\\xb1\\x8dUpR\\x1dz\\xd9\\x0e\\xc2\\xc1\\xc1\\xe9\\'/\\xa6\\x7f\\x1d\\xcd\\xa0\\xe0\\x1f:\\x854}\\x15\\xa4,\\x8d\\xe9\\xdd=\\x16\\xd0\\xdc\\xa7\\xe5\\x86\\x13\\x82\\xeb\\xc4o(\\x93\\x93\\xc0p\\x03\\xb0\\x0eB\\xb2\\xabj\\x02\\x80\\xa0(\\n\\x02\\x80\\xa0(\\n\\x04RR\\xae`\\x1a\\x0f\\x17\"\\xb6\\xbe\\xacPC~\\xdf\\x9eT\\x15\\xd2m\\xa7\\x8f\\x03AY*\\xd7\\x9c\\xe59\\xa0\\xa8\\x9bdB\\xf3\\xe2\\xd0QO\\xd3\\xb9\\xce\\x13\\x9a\\x0c\\xf5\\xc3N\\x9e?\\x17\\xec\\xa0\\xce\\xdc4\\xe1\\xe3\\xe2{(3\\x97\\x1d7\\x9c\\xfc_\\xb2\\x837q\\xd3\\'\\x8e\\x11\\xec\\xa0\\xcc\\xdc\\xb4\\xd2\\xb8\\xfcY\\xf5Pf\\xee\\x1ami$\\x84\\x90j\\xe8\\xa4\\x93j\\x92\\xc9>)\"\\x82\\x12\\xdbZ\\x0e\\x14\\x92*\\x86\\xd0h40\\xcc\\xd9\\xbf\\xa2\\x1f\\xe3E\\x05\\xf3\\xc8\\xcd\\x07\\x9c\\x14\\x05\\xbe\\x84\\x9f\\x9aG\\xef\\x1a\\x0e\\x9f\\xaet\\x9b\\x8cik\\x94\\x08\\xefEU\\xb9\\xe7\\xdc\\x9a\\x947\\x1fq{\\xe4\\x12\\x0b\\xc7?\\x1a\\xa0\\xa5\\xf0<<T\\xa7\\xacS\\x11\\x81\\xd9\\xdb\\xb7\\xabM\\xceT+\\x14\\xa1\\x14N\\x86\\xa8{\\xc8V\\x02\\xdfR\\n[^O\"\\x95n\\xe1_\\x94jEw\\xad\\x96]\\xa4\\xda\\xb5F\\x9fK\\xec\\xdd\\xa3xTG!\\xad\\xbb\\xaa\\xc2\\xa5\\x10\\x91\\x80]#\\x9a\\x8e\\xeaO\\x9b\\x15~\\x91G\\xb6\\xd9V\\xf7~\\xe8\\xd8\\x94\\xe8\\xf0\\xd54\\xb9\\x8c\\xb5\\x8f\\xea\\xd0\\xb4\\x82\\xac\\xf5yX\\xef\\xe3\\xd9Tq\\x19K\\xcd\\xa1\\x92y\\xa1[\\xb5\\x95S\\xd9\\x17\\xbb\\xaa1\\xfd\\xacoh\\'\\xed\\xa1[YG1\\x1b\\xfa\\t\\xf7c\\xea\\xaa9\\xd6\\xb5\\x86\\x87]\\xe9\\x80\\xf1\\x87:\\x94U\\xce\\xb1\\x96\\x1aaJG\\xca6\\rL\\x15\\xceZ\\xc7\\xcd\\xa0\\xd6\\xe9\\xb6z%i\\xf6~l\\x92\\xafR\\x1c5F\\xb6o#A\\xa3\\xd2\\x1bJ\\xbb\\xd9-L\\xd9_q\\xc7\\xad\\xf1\\xdd\\xe9\\x19\\t\\t\\xdfl\\xf6\\x05\\x1e;\\xbdx\\xcdYq,\\xd7C\\x85\\xb7\\x1cFS&\\xdc\\x99\\x08ZwH}\\xb5+\\x03\\xaf\\x1f\\x19\\xc3=\\xb5\\xae\\xda\\xcc\\xe1\\x8a\\x04m\\n\\xe6\\t\\xe8.\\xb7f\\xd2x\\x04\\x87\\\\ \\x0e\\xa1\\xe3<k-\\x99z\\xd7W\\x8b\\xc5\\xa5\\xdbM\\xd6\\xe3>\\xe1\\x05\\xd1\\x85\\xb1+\\xa2q>q\\xbe\\x95`\\xf7\\x8e\"\\x82\\xa17\\xd9\\x82\\xd2-&e\\xd9\\xf8Cx%\\x97\\xeeN\\x14\\x80\\xae`n\\x84\\xe0\\x1e\\x03\\x03\\x1c8Q1N\\xe3\\xc8\\x99\\t\\x96\\xe2\\x06X\\x8c\\x84n0\\x88\\xe8\\xdcm\\t\\xcf$\\x81\\xef\\xa2\\xab$\\xef\\x1b\\r\\xc9\\xd4\\x02K\\xa8}i\\xed#t\\xa4{\\x12*\\x0e\\x0fPl\\xf6_\\x11N]\\x94\\\\B\\x80\\x00`\\x91\\x80j\\xc13^i[\\xe5\\xcbYLU\\xbe\\xde\\xeb\\xac\\xe1\\xb0\\x95\\x8c`\\xf8\\x834\\xc1\\xe7\\x07e:\\xae@\\x05\\xc8\\xed\\xc7I\\xebY\\xa6\\x0b\\x88\\xfb#\\xe8\\x93\\xbds\\xbf\\xc3`\\x0exP\\xe1\\xef\\xa6\\x1a\\xb4\\xb6l\\xebG\\x17CI\\xb8L\\xba\\xbd\\xfd\\x9c6T\\xe9>\\x84\\xd3 \\xe9\\xbaKf:\\x89(Cz\\x7fg\\xfa\\x91H#\\xc5\\\\\\xbcEF?\\xda\\x11W\\xc26\\x96-\\x83k\\xc7\\x00)\\xb6iK\\x12?\\xbduR\\x1c\\x1e\\x84\\xa7\\x1f\\xbdSF\\xda\\xd5\\xf0zy{\\xa6\\xff\\x00\\xae\\xee.\\xa7\\xf1\\x99\\xb6\\xc5n2|\\xdb\\xca\\xdf>\\xeaj\\xe3ab\\xd8v\\xcdmn\\xa2C\\xba}7Y(\\xe4\\xf5\\xd1\\xe5\\xca?\\xb2\\xb3\\xba=\\t\\xa8:\\x0c\\x080\\xe0FLh1\\x18\\x8a\\xc2<\\x96\\x99l!\\x03\\xcc\\x00\\x02\\x82E\\x01@P\\x14\\x05\\x01@P\\x14\\x05\\x01@P\\x14\\x05\\x01@\\x8aJU\\xcc\\x03A\\xe2\\xe4V\\x97\\xd5\\x8a\\x08o\\xdbA\\xe4\\x01\\xa0\\xaf\\x91k\\xfc\\x9a\\n\\xc9V\\x90\\xac\\xe5\\x03\\xd5AS2\\xc2\\xda\\xf3\\xe2{((\\xa7i\\xa0s\\x84\\x03A\\x9f\\xb8i\\x8e\\x7f\\x17\\xec\\xa0\\xce\\xdc4\\xbf?\\x8b\\xf6Pg.:T\\x1c\\xfcW\\xb2\\x837q\\xd2\\x9c\\xfe/\\xd9A\\x9b\\xb9i>\\x7f\\x17\\xec\\xa0\\xcd\\xcf\\xd2\\xaaI%(#\\xcdWC\\xb4\\xc5\\xad\\xe82\\xa6\\xad\\xcf$\\xc7\\t\\x1f\\xb6\\x9a\\xa2\\xcd\\xc4\\xd0G\\x89\\xe2\\xceJ{J\\x93\\xeb\\xe3Pvm\\x1a\\xc4\\x9b\\xc5\\xbe\\xeb\\n\\xe2\\xe4\\xe7\\x04\\xe0\\xa7\\x99u\\xc7\\xd0\\xa6\\xcbjN\\xee\\xe3)\\x07y\\x1b\\x89\\xf2\\x82\\xbf\\x18\\x128V\\xa20\\x96\\xeb|\\x9b=\\xfc\\xd9\\xe5\\x0f\\t\\xb8D\\t{u\\n\\xc9YB7\\xb2\\x01\\xe4\\x95\\x001\\xdej\\r\\xa6\\x9a\\xbcI\\xb8\\\\\\xb4\\x94\\xc9R-\\xcfK+S\\xaf\\x18\\x0e\\x15\\xb2\\x9c\\xa1*\\xdd\\x04\\xf1\\xc8\\x04\\x03\\xdf\\x9a\\x0f]\\xa1\\xc4\\x81>\\xe7r\\xbe-+\\xf0\\xc8\\xd6\\xf7\\x98B\\xd2\\xae\\x05\\x0b)\\xcaT1\\xc7\\x8f\\x11\\xcb\\x99\\xe7Tq9j\\xc5\\xa9c\\xb1\\xdf\\xae\\xa2\\xa8m\\xafn\\xea\\xb8G<\\xd2\\xa4\\xfa\\xc8\\xa8:\\x1aX\\x93*;H\\x8d\\x1d\\xe7\\xd5\\xb9\\x8c4\\xda\\x96y\\x9e\\xc1U\"\\x92\\xf5\\xa3\\xb5T\\xa5\\xa9-i\\xcb\\xa1\\x05\\x05y\\\\e n\\x8e\\x05YV8q\\xa2\\xad\\xb5f\\x92\\xba5\\x02#\\x82\\xdc\\xf9JPI!9\\xc2wG\\x13\\xd9A\\x8c\\x93lq\\x95\\x94<\\xca\\xdbP\\xe0B\\xd2A\\x1e\\xba\\x82U\\xb9\\xad\\xcb\\xc5\\xa5\\xbf\\x9a\\xb5\\x9f\\xff\\x00\\x12\\xbe\\xda\\r\\x13\\xf1\\xa4\\xbf\\x90\\xccw\\\\?\\x92\\x82j\\x88\\xcd\\xe9\\xcb\\xe3\\xa7)\\xb6\\xbf\\xe9\\x18\\xa0\\xb5\\x87\\xa6oA#z\\x1e\\xef\\x9db\\x98j\\xc6\\x1e\\x98\\xb8\\xb4\\x0f\\xc5\\xb6\\x80\\xa5\\x15\\x1c\\xb9\\x9e\\'\\x9d1\\x12\\xfe\\xe0\\xc8O\\xcaI\\x8c\\x8f:\\xe9\\x86\\x9a\\xab\\\\F\\xfeZ\\xed\\x15>c\\x9a\\x1a\\xf0uZr?\\xe1\\x17\\xae\\\\\\xf7F=\\xf4\\x15V\\xedM\\xa3\\xad\\xb6\\xd8\\xe9\\x90\\xf7H\\xea\\x1b\\t!K\\x188\\xe1\\x9cw\\xe3>\\x9al\\x14s5\\xa6\\xcf\\xe3\\xbc\\xa7c\\xd9\\x98qd\\xe7\\x80\\'\\xddS`\\x83#k\\x10X\\x18\\xb7\\xd8\\xa3\\xa3\\x1c\\x89l}t\\xd5T\\xcd\\xda\\xe6\\xa2{\\xc5\\x8c\\x96\\xd8\\x07\\x90O\\x0fu4A\\x1a\\xa3U\\xdef1\\x05\\x892\\xa4\\xcc\\x90\\xb0\\xdbl0\\x92\\xa5\\xb8\\xb5\\x1c\\x04$\\x0e$\\xf5T\\xd1\\xf7\\x7f\\xc1\\xf3av\\x9d/\\xa3#\\xc8\\xd7\\x16\\xb8\\x17\\xadM(\\xf4\\xf2U1\\xa4\\xbe\\x98\\x99\\x1e+(\\xde\\xc8\\xf1G29\\xa8\\x9e\\xa0(;L\\x180\\xa02\\x18\\x83\\x11\\x88\\xad\\x0eHe\\xb0\\x84\\xfa\\x80\\x14\\x120(\\n\\x02\\x80\\xa0(\\n\\x02\\x80\\xa0(\\n\\x02\\x80\\xa0(\\n\\x02\\x80\\xa0(\\n\\x02\\x80\\xa0(\\n\\x00\\x80y\\x8c\\xd0y.;K\\xe6\\x9a\\x08\\xaf[\\x90\\xaeX\\xa0\\x81\"\\xd5\\xf94\\x15\\xd2m \\xe7(\\xa0\\xaa\\x97cmY\\xcbt\\x14\\xb3t\\xd2\\x15\\x9c$z\\xa8(.\\x1a[\\x81\\xf8\\xbc\\xfa(3\\xd7\\r+\\xcf\\xe2\\xbd\\x94\\x19\\xeb\\x86\\x94\\x07?\\x15\\xec\\xa0\\xce\\\\t\\xa2\\xb7\\x16\\x94\\x02\\x8d\\xecd\\x81\\xd8sAC3L>\\xd8;\\xa5T\\xd1\\x97\\xbb\\xc1\\x91l\\x92\\xdb\\x8eo\\x10\\xa3\\xbc\\t\\xed\\x1c\\xc7\\xaa\\xa8\\xd7\\xda\\xee\\x13\\x1d\\x85\\x1a\\x0c\\x17\\xa76\\xf3\\xaf!l.\\x0b\\xa9m\\xf5n\\xa8-m\\xb6\\xb5pJ\\xd4\\x94\\xaft\\x9e\\x19\\xe1\\xd6*\\xa3Cu\\xbe]n\\xd7\\xcb|\\x97\\xd6\\xe3m6\\xc3\\x8d\\xa51-\\xe8Z\\xdcyJI\\tu\\xd4\\x8c\\xb6\\x80\\x9d\\xe5d\\x10\\x92\\xa4\\xd0xZ\\xa7\\xc3\\xfb\\xba\\xe5\\xc1\\xb3\\x19\\xa8\\xb0\\xdbSl\\x96\\x90\\x94!\\xd7VIq`$\\x00x\\x9cou\\x9c\\x9a\\n\\xb9\\x9a\\x99\\x17\\x1b%\\xfc\\xa2;\\xed\\xa5\\xb9i\\x85\\xd2:7C\\x8aO\\xc69\\xba9\\xe0\\x00\\x81\\x93\\xf3\\xc54s\\x0b\\x93\\xdb\\xb6\\xf0\\x8f\\x9c\\xbc\\xfb\\xea+!r\\x90\\xb4\\xc8R\\xdbYJ\\xd0\\xd8\\xddP8 \\x95\\x7f\\xca\\x94l\\xf46\\xda\\xf5\\x86\\x91R\\xe3\\xc0\\x92KN\\xb9\\x95\\xee8\\xa6\\x8a\\xb1\\xdb\\x8e\\x07\\xaf\\x98\\xa0\\xe8V\\xdf\\x84#\\x12\\xc6\\xe5\\xe2\\x13\\xad\\x95\\x15\\x95\\xabp(\\x15/\\xcaQ\\xdd\\xc6Oy\\x06\\xae\\xa6,\\'m\\x13N\\\\\\xad\\xee\\xbf\\x02lgd\\xf8\\xa5,\\xba\\xe6\\xe6W\\x9c\\x15\\xa8\\x91\\x92q\\xc4\\xfd\\x1e\\x184\\xd3\\x1c\\xdbQkv\\x1dum9+\\xa5\\xdd\\xe1\\xbb\\x1d#\\x07\\x869\\x9d\\xe2|\\xfc*j\\xb2O\\xeaw\\x84\\xf8\\xd2\\xa2D^\\xf4w\\t\\x1b\\xca\\xe0\\xa4\\x94\\x94\\x91\\xda8u\\xd4\\xd1|\\xd6\\xd0\\xa6\\xa5#v\\x14\\xa4\\xf7\\t<=\\xd5u0\\xf3\\xb4+\\xc2\\x87\\xc5\\xc7x})$\\xfb\\x855q\\xe0\\xe6\\xba\\xd4k\\xe4\\xb0\\x8f\\xd7Q\\xfa\\xe9\\xa23\\xba\\xafP\\xbb\\xe5\\xccP\\xf3\\x0f\\xb6\\x9a\"\\xb9}\\xba\\xb9\\xf2\\x93\\x1f>c\\x8ah\\xf1U\\xd1\\xe3\\xc5\\xc5-\\xcf\\xa4\\xb2~\\xbah\\x15zJZSj\\x8c\\xc2\\x90\\xa0B\\x81lq\\x15\\x06N{-\\x07T\\xb8\\xfb\\xdb\\x87\\x8e\\xea\\xb8\\x91\\xe9\\xeb\\xa0\\x89@PO\\xb6BrK\\xa0%Io?\\x8e\\xa0xy\\x80\\xa0\\xef\\xfb\\x06\\x97d\\xd0\\xd3\\xd3v\\x83\\x10\\xca\\xbc\\x14\\xee\\x89\\xaf\\xa0\\x154\\x0f0\\xd8\\xe4\\x8c\\xf2\\'\\x99\\xed\\xc7\\n\\x0f\\xa7\\xf4\\xc6\\xd7%I\\x08\\x12[J\\xc1\\xee\\xc5\\x07H\\xb2\\xea\\xc8w\\x06\\xc1\\xdd(Q\\xea\\xa0\\xbdfS.\\x8c\\xa5b\\x83\\xd8\\x1c\\xf2\\xa0(\\n\\x02\\x80\\xa0(\\n\\x02\\x80\\xa0(\\n\\x02\\x80\\xa0(\\n\\x02\\x80\\xa0(\\n\\x02\\x80\\xa0(\\n\\x02\\x80\\xa0b\\x9bB\\xb9\\xa4Px;\\t\\xa5\\xf2\\x18\\xa0\\x86\\xfd\\xac\\x1e@\\x1a\\n\\xf9\\x16\\xae~-\\x05d\\xab2\\x15\\x9c\\xb6=T\\x1534\\xf3K\\xcf\\x89\\x8fE\\x05$\\xed.\\x93\\x9c \\x1fE\\x05\\x0c\\xfd)\\xcf\\xe2\\xbd\\x94\\x18=\\xa4hw\\xa6i\\xc9*\\x8a\\xc92c\\x8e\\x99\\xb0\\x07\\x15n\\x8e#\\xd23\\xec\\xa0\\xe4\\x9aZr\\\\o\\xc0\\xdcum-*\\ni\\xc4+uHP9\\nI\\xea \\x80A\\xee\\x15GO\\x94a\\xeb\\xa8\\xcd\\xb0\\xe5\\xd6-\\x8fT\\xee\\xee:\\xc3\\xeet\\x10\\xae\\xdf\\x96\\xda\\xbc\\x94\\xac\\xf3Sg\\xaf\\x96F\\rTe\\xef\\xbb6\\xd5\\xf0\\x91\\xd2\\xdf_\\x81a\\x84\\x83\\xc6d\\x99\\xc8\\xe8\\xc0\\xfc\\x96\\xd2J\\x9c=\\x89H\\xc9\\xa2\\xa9\\xf5\\xa5\\xc5\\xb4\\xdb\\xe3[\\xe3\\xaaG\\x82\\xc7k\\xa1\\x8e$|\\xaa\\x93\\x9c\\xa9\\xc7\\x07R\\xd6x\\xee\\xfe(\\tOU\\x11\\xcd\\xaf2\\xc6\\xeaS\\x9e\\xd3\\xeb\\xff\\x00\\xd2\\xa2\\xb2\\xb3$o8\\xa5v\\xab>\\x84\\xff\\x00\\xce\\xa0u\\x82\\'\\x86JZ\\xd6<F\\x93\\xed?\\xf4h.\\x8d\\xb9\\x81\\xd4*\\xe0<\\x05\\x8e\\xb4\\x83\\xe8\\xa6\\x0fTCdr\\x02\\x98=Q\\t\\xb3\\xc8\\n`\\xf5L\\x00y$P{\\xa2\\xdaOU\\x07\\xb2-+W$\\x1a\\x0fd\\xd8\\xdcW4\\xd0z\\'O)\\\\\\xc0\\xa0_\\xbdE+\\x90>\\xaa`Q\\xa3\\x1c_\\xe2\\x9fU09\\x1b?[\\x9c\\xdb>\\xaa`\\x94\\xc6\\xcc\\xd4\\xb3\\xc5\\x93\\xfb4\\xc1m\\x07e;\\xc4\\x7f\\'\\'\\xf5i\\x83Oh\\xd99\\x058\\x8a\\xaf\\xd9\\xa0\\xdcX\\xb6d\\xb6\\xb7OB\\x13\\xe7\\xa0\\xdf\\xd8\\xb4J#\\xee\\xefq\\xc7`\\xa6\\x8d\\xc5\\xa2\\xd4\"\\xa4\\x04\\r\\xda\\x83C\\x13y\\xb0\\x00\\xcd\\x05\\xa4g\\xd6:\\xe8\\'\\xb4\\xe6\\xf0\\xe3@\\xfa\\x02\\x80\\xa0(\\n\\x02\\x80\\xa0(\\n\\x02\\x80\\xa0(\\n\\x02\\x80\\xa0(\\n\\x02\\x80\\xa0(\\n\\x02\\x80\\xa0(\\n\\x02\\x80 \\x1ec4\\x1eK\\x8e\\xd2\\xf9\\xa6\\x823\\xb6\\xf6\\xd5\\xcb\\x14\\x10\\x9f\\xb5v\\'4\\x10$ZA\\xcf\\x89A[&\\xca\\x83\\xfdX\\xcf\\x9a\\x83\\xe4\\x9f\\x84N\\xcfe\\xe8}I\\xf7~\\xd9\\x1d\\x7fq.\\x0e\\x127\\x07\\x08\\xefs-\\xf7u\\x94\\xf6\\x8c\\x8f\\xc5\\xe3FJ\\xd7\\xa9c\\xc9\\x87\\xd0Mm\\xb9\\r(q\\xdeHRU\\xe7\\x06\\xa8\\xf5]\\xd6\\xcd\\x13\\xe3`[\\xd8C\\xc0a+\\r\\x80S\\xe6=^\\x8a#\\x1b|\\xbb*T\\x85e{\\xc4\\xf1Y\\x1c\\x80\\xa8\\xace\\xdaqu\\xe5n\\x9e\\\\\\x05AR\\xb5\\x93A:\\r\\xc8\\xc4\\x8f\\xd16\\x83\\xc4\\xe5G\\xb4\\xd0{}\\xd9Y\\xe6\\r\\x07\\xabWR\\xa3\\x8c\\xd0O\\x8d-K\\xc63M\\x16\\xd0\\xfaE\\xe3\\x00\\xd5\\x17pb:\\xb2<R}\\x14\\x1a\\x0b}\\xa1\\xd7\\x00\\xc2\\x0f\\xaa\\x82\\xee\\x1e\\x9d}\\xcc|Y>\\x8a\\xa2\\xf2\\x06\\x8e}\\xc2> \\x9fE\\x06\\x8a\\x06\\x83Y\\xc1\\\\|z*\\x0b\\xa8\\xba\\x10`\\x7f&\\x1e\\xaa\\x0bX\\xba\\r\\x1c?\\x93\\'\\xd5M\\x16\\xd1t#C\\x1f\\xc9\\xd1\\xfb4\\xd1m\\x17E\\xb0\\x8ce\\xa4\\x0fE4Z\\xc6\\xd2\\xd1\\xd1\\x8f\\x10z\\x05M\\x16Q\\xecL#\\x93t\\x13\\x99\\xb5\\xb6\\x9eM\\x8fU\\x04\\xb6\\xa0\\xe3\\xf1h$\\xb7\\x08\\xf6PIj!\\xec\\xa0\\x96\\xd4ls\\xa0\\x92\\x84\\x04\\xd0:\\x80\\xa0(\\n\\x02\\x80\\xa0(\\n\\x02\\x80\\xa0(\\n\\x02\\x80\\xa0(\\n\\x02\\x80\\xa0(\\n\\x02\\x80\\xa0(\\n\\x02\\x80\\xa0(\\n\\x02\\x80\\xa0B\\x94\\x9e`\\x1a\\x0f%\\xc6i\\\\\\xd3AU\\xa8\\xb4\\xc5\\xa6\\xff\\x00g\\x95h\\xbbCjd\\x19H\\xdcy\\x97\\x07\\x05\\x0fx \\xe0\\x828\\x82\\x01\\x14\\x1f\\x1b\\xed\\x7f\\xe0\\xcb\\xab\\xf4\\xec\\xe7\\xae:%2/\\xb6\\xb5\\x12\\xa0\\xdbE>\\x16\\xc8\\xecSg\\x01\\xcf\\xa4\\x82\\t\\xebNx\\xd0p\\x8dC\\x03PYVZ\\xbfD\\xb9\\xdb\\x888)\\x93\\x05\\xd6O\\xef\\x80=\\xb4\\x19y\\xd7 PZ\\x8f\\x90\\x93\\xcdD\\xf14\\x15D\\x93\\xce\\x81(=Z\\x8d!\\xd3\\x86\\xd8qg\\xf2RM\\x05\\x94-7z\\x96@j\\xde\\xf6\\x0fYI\\xa0\\xd3Y\\xb6o~\\x90\\xa0\\xa5Cw\\x8f\\xe4\\x9a\\r\\xdd\\x8bd\\x97\\xb7w\\x7f\\x91;\\xfb&\\x83}a\\xd8\\xad\\xe5[\\xa5P\\\\\\x1et\\xd0n\\xac\\xbb\\x15\\x96\\x80\\x92\\xf3IG\\x9c\\xd0lm{)\\x89\\x1c\\x0e\\x95I\\xf4\\x0c\\xd0h\\xa1hK\\\\p>\\'x\\xf7\\xd0Z\\xc7\\xd3\\x91\\x1a\\x18Dt\\x8fE\\x04\\xb6\\xec\\xcc\\xa7\\x93C\\xd5A!\\xbbZ\\x07&\\xc7\\xaa\\x83\\xdd\\x16\\xdf\\xc9\\xa0\\xf7E\\xbb\\xf2h=\\x91n\\xfc\\x9a\\x0ft[\\xf1\\xd5A\\xea\\x88)\\x1c\\xf1A\\xea\\x98\\xad\\x8a\\x0fD\\xb2\\xd8\\xea\\xa0xBG (\\x16\\x80\\xa0(\\n\\x02\\x80\\xa0(\\n\\x02\\x80\\xa0(\\n\\x02\\x80\\xa0(\\n\\x02\\x80\\xa0(\\n\\x02\\x80\\xa0(\\n\\x02\\x80\\xa0(\\n\\x02\\x80\\xa0(\\n\\x02\\x80\\xa0(\\n\\x02\\x83\\xceC\\x0c\\xc8iMHi\\x0e\\xb6\\xaehZB\\x81\\xf4\\x1a\\x0c\\xcd\\xcff\\xfb>\\xb9\\x92g\\xe8\\x8d9!G\\x9a\\x97md\\x93\\xe9\\xdd\\xcd\\x053\\x9b\\x10\\xd9\"\\xd5\\xbcv{\\xa7\\xc1\\xfc\\x98\\xa1>\\xea\\x077\\xb1M\\x954r\\xde\\x86\\xb3\\xa0\\xf74~\\xda\\t\\x8cl\\xabg\\xac|\\x8e\\x94\\xb6\\xa3\\x1d\\x8d\\x7f\\xce\\x82\\xc1\\x8d\\x07\\xa4\\x98\\xf9\\x1b\\x05\\xbd\\x1efE\\x04\\xe6\\xb4\\xe5\\x9d\\x9f\\x91\\xb7\\xc4o\\xe8\\xb2\\x9a\\t(\\xb5\\xc6@\\xc2\\x1bB|\\xc9\\x02\\x81\\xde\\x00\\xdd\\x02\\xf8\\x03t\\n!5@\\xa2\\x1bT\\x0e\\x11Z\\x1dT\\x0e\\x0c6?\\x16\\x81\\xc1\\xa6\\xc7\\xe2\\x8a\\x07\\x04$~(\\xa0\\\\\\x0e\\xca\\x02\\x80\\xa0(\\n\\x02\\x80\\xa0(\\n\\x02\\x80\\xa0(\\n\\x02\\x83\\xff\\xd9'}"
            ]
          },
          "metadata": {},
          "execution_count": 160
        }
      ]
    },
    {
      "cell_type": "markdown",
      "metadata": {
        "id": "eRy8lcOMXqi5"
      },
      "source": [
        "Перевіряємо завантаження файлів"
      ]
    },
    {
      "cell_type": "code",
      "metadata": {
        "id": "Hig0d3VOBplC",
        "outputId": "994fdf69-3fd3-45ca-9e7c-49acb827bb0c",
        "colab": {
          "base_uri": "https://localhost:8080/"
        }
      },
      "source": [
        "!ls"
      ],
      "execution_count": 161,
      "outputs": [
        {
          "output_type": "stream",
          "name": "stdout",
          "text": [
            " bird.jpg   cifar10_model.json\t\t       dogs.jpg    plane.jpg\t truck1.jpg\t  олень.jpg\n",
            " car.jpg    cifar10_model_weights.weights.h5   frog.jpg    sample_data\t'truck (1).jpg'\n",
            " cat.jpg    dog.jpg\t\t\t       horse.jpg   ship.jpg\t truck.jpg\n"
          ]
        }
      ]
    },
    {
      "cell_type": "markdown",
      "metadata": {
        "id": "Ep-7TkvbXunR"
      },
      "source": [
        "**Дивимось завантажений малюнок**"
      ]
    },
    {
      "cell_type": "code",
      "metadata": {
        "id": "DpEJyRjDXUuh",
        "outputId": "fec29f81-1c24-4c45-c04d-c6798dfbf203",
        "colab": {
          "base_uri": "https://localhost:8080/",
          "height": 430
        }
      },
      "source": [
        "img_path = 'truck1.jpg'\n",
        "img = image.load_img(img_path, target_size=(32, 32))\n",
        "plt.imshow(img)\n",
        "plt.show()"
      ],
      "execution_count": 162,
      "outputs": [
        {
          "output_type": "display_data",
          "data": {
            "text/plain": [
              "<Figure size 640x480 with 1 Axes>"
            ],
            "image/png": "[encoded data removed]"
          },
          "metadata": {}
        }
      ]
    },
    {
      "cell_type": "markdown",
      "metadata": {
        "id": "KTwbT6byXyrC"
      },
      "source": [
        "**Перетворюємо малюнок в масив для розпізнавання**"
      ]
    },
    {
      "cell_type": "code",
      "metadata": {
        "id": "QTdXEhQ3X13R"
      },
      "source": [
        "x = image.img_to_array(img)\n",
        "x /= 255\n",
        "x = np.expand_dims(x, axis=0)"
      ],
      "execution_count": 163,
      "outputs": []
    },
    {
      "cell_type": "markdown",
      "metadata": {
        "id": "oeeqy0cjX7j6"
      },
      "source": [
        "**Запускаємо розпізнавання**"
      ]
    },
    {
      "cell_type": "code",
      "metadata": {
        "id": "cVIxQljlX-LZ",
        "outputId": "0c0c20a6-cf7d-41a6-c8cc-9bfacfd1f561",
        "colab": {
          "base_uri": "https://localhost:8080/"
        }
      },
      "source": [
        "prediction = model.predict(x)\n",
        "prediction = np.argmax(prediction)\n",
        "print(classes[prediction])"
      ],
      "execution_count": 164,
      "outputs": [
        {
          "output_type": "stream",
          "name": "stdout",
          "text": [
            "\u001b[1m1/1\u001b[0m \u001b[32m━━━━━━━━━━━━━━━━━━━━\u001b[0m\u001b[37m\u001b[0m \u001b[1m0s\u001b[0m 19ms/step\n",
            "вантажівка\n"
          ]
        }
      ]
    }
  ]
}